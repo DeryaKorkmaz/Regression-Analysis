{
 "cells": [
  {
   "cell_type": "markdown",
   "metadata": {},
   "source": [
    "# makine öğrenmesi nedir?\n",
    "\n",
    "## temel makine öğrenmesi yöntemleri:\n",
    "- regresyon (gözetimli öğrenme / supervised learning)\n",
    "- sınıflandırma (gözetimli)\n",
    "- kümeleme (gözetimsiz)\n",
    "\n",
    "https://guisebbe.wordpress.com/2014/01/24/excel-ile-basit-dogrusal-regresyon/\n",
    "\n",
    "https://scikit-learn.org/stable/supervised_learning.html\n",
    "\n",
    "bir veri ile \n",
    "- veri önişleme yap\n",
    "- regresyon modeli eğit, \n",
    "- tahminle, \n",
    "- başarı ölç (mse, mae, rmse, mape) https://veribilimcisi.com/2017/07/14/mse-rmse-mae-mape-metrikleri-nedir/\n",
    "\n",
    "ridge-lasso-elasticnet:\n",
    "https://www.datacamp.com/community/tutorials/tutorial-ridge-lasso-elastic-net\n"
   ]
  },
  {
   "cell_type": "code",
   "execution_count": 111,
   "metadata": {},
   "outputs": [
    {
     "data": {
      "text/html": [
       "<div>\n",
       "<style scoped>\n",
       "    .dataframe tbody tr th:only-of-type {\n",
       "        vertical-align: middle;\n",
       "    }\n",
       "\n",
       "    .dataframe tbody tr th {\n",
       "        vertical-align: top;\n",
       "    }\n",
       "\n",
       "    .dataframe thead th {\n",
       "        text-align: right;\n",
       "    }\n",
       "</style>\n",
       "<table border=\"1\" class=\"dataframe\">\n",
       "  <thead>\n",
       "    <tr style=\"text-align: right;\">\n",
       "      <th></th>\n",
       "      <th>total_bill</th>\n",
       "      <th>tip</th>\n",
       "      <th>sex</th>\n",
       "      <th>smoker</th>\n",
       "      <th>day</th>\n",
       "      <th>time</th>\n",
       "      <th>size</th>\n",
       "    </tr>\n",
       "  </thead>\n",
       "  <tbody>\n",
       "    <tr>\n",
       "      <th>0</th>\n",
       "      <td>16.99</td>\n",
       "      <td>1.01</td>\n",
       "      <td>Female</td>\n",
       "      <td>No</td>\n",
       "      <td>Sun</td>\n",
       "      <td>Dinner</td>\n",
       "      <td>2</td>\n",
       "    </tr>\n",
       "    <tr>\n",
       "      <th>1</th>\n",
       "      <td>10.34</td>\n",
       "      <td>1.66</td>\n",
       "      <td>Male</td>\n",
       "      <td>No</td>\n",
       "      <td>Sun</td>\n",
       "      <td>Dinner</td>\n",
       "      <td>3</td>\n",
       "    </tr>\n",
       "    <tr>\n",
       "      <th>2</th>\n",
       "      <td>21.01</td>\n",
       "      <td>3.50</td>\n",
       "      <td>Male</td>\n",
       "      <td>No</td>\n",
       "      <td>Sun</td>\n",
       "      <td>Dinner</td>\n",
       "      <td>3</td>\n",
       "    </tr>\n",
       "    <tr>\n",
       "      <th>3</th>\n",
       "      <td>23.68</td>\n",
       "      <td>3.31</td>\n",
       "      <td>Male</td>\n",
       "      <td>No</td>\n",
       "      <td>Sun</td>\n",
       "      <td>Dinner</td>\n",
       "      <td>2</td>\n",
       "    </tr>\n",
       "    <tr>\n",
       "      <th>4</th>\n",
       "      <td>24.59</td>\n",
       "      <td>3.61</td>\n",
       "      <td>Female</td>\n",
       "      <td>No</td>\n",
       "      <td>Sun</td>\n",
       "      <td>Dinner</td>\n",
       "      <td>4</td>\n",
       "    </tr>\n",
       "    <tr>\n",
       "      <th>...</th>\n",
       "      <td>...</td>\n",
       "      <td>...</td>\n",
       "      <td>...</td>\n",
       "      <td>...</td>\n",
       "      <td>...</td>\n",
       "      <td>...</td>\n",
       "      <td>...</td>\n",
       "    </tr>\n",
       "    <tr>\n",
       "      <th>239</th>\n",
       "      <td>29.03</td>\n",
       "      <td>5.92</td>\n",
       "      <td>Male</td>\n",
       "      <td>No</td>\n",
       "      <td>Sat</td>\n",
       "      <td>Dinner</td>\n",
       "      <td>3</td>\n",
       "    </tr>\n",
       "    <tr>\n",
       "      <th>240</th>\n",
       "      <td>27.18</td>\n",
       "      <td>2.00</td>\n",
       "      <td>Female</td>\n",
       "      <td>Yes</td>\n",
       "      <td>Sat</td>\n",
       "      <td>Dinner</td>\n",
       "      <td>2</td>\n",
       "    </tr>\n",
       "    <tr>\n",
       "      <th>241</th>\n",
       "      <td>22.67</td>\n",
       "      <td>2.00</td>\n",
       "      <td>Male</td>\n",
       "      <td>Yes</td>\n",
       "      <td>Sat</td>\n",
       "      <td>Dinner</td>\n",
       "      <td>2</td>\n",
       "    </tr>\n",
       "    <tr>\n",
       "      <th>242</th>\n",
       "      <td>17.82</td>\n",
       "      <td>1.75</td>\n",
       "      <td>Male</td>\n",
       "      <td>No</td>\n",
       "      <td>Sat</td>\n",
       "      <td>Dinner</td>\n",
       "      <td>2</td>\n",
       "    </tr>\n",
       "    <tr>\n",
       "      <th>243</th>\n",
       "      <td>18.78</td>\n",
       "      <td>3.00</td>\n",
       "      <td>Female</td>\n",
       "      <td>No</td>\n",
       "      <td>Thur</td>\n",
       "      <td>Dinner</td>\n",
       "      <td>2</td>\n",
       "    </tr>\n",
       "  </tbody>\n",
       "</table>\n",
       "<p>244 rows × 7 columns</p>\n",
       "</div>"
      ],
      "text/plain": [
       "     total_bill   tip     sex smoker   day    time  size\n",
       "0         16.99  1.01  Female     No   Sun  Dinner     2\n",
       "1         10.34  1.66    Male     No   Sun  Dinner     3\n",
       "2         21.01  3.50    Male     No   Sun  Dinner     3\n",
       "3         23.68  3.31    Male     No   Sun  Dinner     2\n",
       "4         24.59  3.61  Female     No   Sun  Dinner     4\n",
       "..          ...   ...     ...    ...   ...     ...   ...\n",
       "239       29.03  5.92    Male     No   Sat  Dinner     3\n",
       "240       27.18  2.00  Female    Yes   Sat  Dinner     2\n",
       "241       22.67  2.00    Male    Yes   Sat  Dinner     2\n",
       "242       17.82  1.75    Male     No   Sat  Dinner     2\n",
       "243       18.78  3.00  Female     No  Thur  Dinner     2\n",
       "\n",
       "[244 rows x 7 columns]"
      ]
     },
     "execution_count": 111,
     "metadata": {},
     "output_type": "execute_result"
    }
   ],
   "source": [
    "from sklearn import linear_model\n",
    "import numpy as np\n",
    "import seaborn as sns\n",
    "import pandas as pd\n",
    "\n",
    "import ssl\n",
    "ssl._create_default_https_context = ssl._create_unverified_context\n",
    "\n",
    "tips = sns.load_dataset(\"tips\")\n",
    "tips"
   ]
  },
  {
   "cell_type": "code",
   "execution_count": 112,
   "metadata": {},
   "outputs": [
    {
     "data": {
      "text/plain": [
       "<seaborn.axisgrid.PairGrid at 0x12c9076a0>"
      ]
     },
     "execution_count": 112,
     "metadata": {},
     "output_type": "execute_result"
    },
    {
     "data": {
      "image/png": "[encoded data removed]",
      "text/plain": [
       "<Figure size 540x540 with 12 Axes>"
      ]
     },
     "metadata": {
      "needs_background": "light"
     },
     "output_type": "display_data"
    }
   ],
   "source": [
    "sns.pairplot(tips, kind=\"reg\")"
   ]
  },
  {
   "cell_type": "markdown",
   "metadata": {},
   "source": [
    "# regresyon (bağlanım analizi)\n",
    "# doğrusal regresyon"
   ]
  },
  {
   "cell_type": "code",
   "execution_count": 113,
   "metadata": {},
   "outputs": [],
   "source": [
    "# model seçimi\n",
    "modelim = linear_model.LinearRegression()"
   ]
  },
  {
   "cell_type": "code",
   "execution_count": 114,
   "metadata": {},
   "outputs": [
    {
     "data": {
      "text/plain": [
       "LinearRegression()"
      ]
     },
     "execution_count": 114,
     "metadata": {},
     "output_type": "execute_result"
    }
   ],
   "source": [
    "modelim"
   ]
  },
  {
   "cell_type": "code",
   "execution_count": 116,
   "metadata": {},
   "outputs": [
    {
     "data": {
      "text/plain": [
       "array([16.99, 10.34, 21.01, 23.68, 24.59, 25.29,  8.77, 26.88, 15.04,\n",
       "       14.78, 10.27, 35.26, 15.42, 18.43, 14.83, 21.58, 10.33, 16.29,\n",
       "       16.97, 20.65, 17.92, 20.29, 15.77, 39.42, 19.82, 17.81, 13.37,\n",
       "       12.69, 21.7 , 19.65,  9.55, 18.35, 15.06, 20.69, 17.78, 24.06,\n",
       "       16.31, 16.93, 18.69, 31.27, 16.04, 17.46, 13.94,  9.68, 30.4 ,\n",
       "       18.29, 22.23, 32.4 , 28.55, 18.04, 12.54, 10.29, 34.81,  9.94,\n",
       "       25.56, 19.49, 38.01, 26.41, 11.24, 48.27, 20.29, 13.81, 11.02,\n",
       "       18.29, 17.59, 20.08, 16.45,  3.07, 20.23, 15.01, 12.02, 17.07,\n",
       "       26.86, 25.28, 14.73, 10.51, 17.92, 27.2 , 22.76, 17.29, 19.44,\n",
       "       16.66, 10.07, 32.68, 15.98, 34.83, 13.03, 18.28, 24.71, 21.16,\n",
       "       28.97, 22.49,  5.75, 16.32, 22.75, 40.17, 27.28, 12.03, 21.01,\n",
       "       12.46, 11.35, 15.38, 44.3 , 22.42, 20.92, 15.36, 20.49, 25.21,\n",
       "       18.24, 14.31, 14.  ,  7.25, 38.07, 23.95, 25.71, 17.31, 29.93,\n",
       "       10.65, 12.43, 24.08, 11.69, 13.42, 14.26, 15.95, 12.48, 29.8 ,\n",
       "        8.52, 14.52, 11.38, 22.82, 19.08, 20.27, 11.17, 12.26, 18.26,\n",
       "        8.51, 10.33, 14.15, 16.  , 13.16, 17.47, 34.3 , 41.19, 27.05,\n",
       "       16.43,  8.35, 18.64, 11.87,  9.78,  7.51, 14.07, 13.13, 17.26,\n",
       "       24.55, 19.77, 29.85, 48.17, 25.  , 13.39, 16.49, 21.5 , 12.66,\n",
       "       16.21, 13.81, 17.51, 24.52, 20.76, 31.71, 10.59, 10.63, 50.81,\n",
       "       15.81,  7.25, 31.85, 16.82, 32.9 , 17.89, 14.48,  9.6 , 34.63,\n",
       "       34.65, 23.33, 45.35, 23.17, 40.55, 20.69, 20.9 , 30.46, 18.15,\n",
       "       23.1 , 15.69, 19.81, 28.44, 15.48, 16.58,  7.56, 10.34, 43.11,\n",
       "       13.  , 13.51, 18.71, 12.74, 13.  , 16.4 , 20.53, 16.47, 26.59,\n",
       "       38.73, 24.27, 12.76, 30.06, 25.89, 48.33, 13.27, 28.17, 12.9 ,\n",
       "       28.15, 11.59,  7.74, 30.14, 12.16, 13.42,  8.58, 15.98, 13.42,\n",
       "       16.27, 10.09, 20.45, 13.28, 22.12, 24.01, 15.69, 11.61, 10.77,\n",
       "       15.53, 10.07, 12.6 , 32.83, 35.83, 29.03, 27.18, 22.67, 17.82,\n",
       "       18.78])"
      ]
     },
     "execution_count": 116,
     "metadata": {},
     "output_type": "execute_result"
    }
   ],
   "source": [
    "# veri hazırlama ve eğitim/test bölme\n",
    "X = np.array(tips[\"total_bill\"])\n",
    "Y = np.array(tips[\"tip\"])\n",
    "X"
   ]
  },
  {
   "cell_type": "code",
   "execution_count": 117,
   "metadata": {},
   "outputs": [
    {
     "data": {
      "text/plain": [
       "array([[16.99],\n",
       "       [10.34],\n",
       "       [21.01],\n",
       "       [23.68],\n",
       "       [24.59],\n",
       "       [25.29],\n",
       "       [ 8.77],\n",
       "       [26.88],\n",
       "       [15.04],\n",
       "       [14.78],\n",
       "       [10.27],\n",
       "       [35.26],\n",
       "       [15.42],\n",
       "       [18.43],\n",
       "       [14.83],\n",
       "       [21.58],\n",
       "       [10.33],\n",
       "       [16.29],\n",
       "       [16.97],\n",
       "       [20.65],\n",
       "       [17.92],\n",
       "       [20.29],\n",
       "       [15.77],\n",
       "       [39.42],\n",
       "       [19.82],\n",
       "       [17.81],\n",
       "       [13.37],\n",
       "       [12.69],\n",
       "       [21.7 ],\n",
       "       [19.65],\n",
       "       [ 9.55],\n",
       "       [18.35],\n",
       "       [15.06],\n",
       "       [20.69],\n",
       "       [17.78],\n",
       "       [24.06],\n",
       "       [16.31],\n",
       "       [16.93],\n",
       "       [18.69],\n",
       "       [31.27],\n",
       "       [16.04],\n",
       "       [17.46],\n",
       "       [13.94],\n",
       "       [ 9.68],\n",
       "       [30.4 ],\n",
       "       [18.29],\n",
       "       [22.23],\n",
       "       [32.4 ],\n",
       "       [28.55],\n",
       "       [18.04],\n",
       "       [12.54],\n",
       "       [10.29],\n",
       "       [34.81],\n",
       "       [ 9.94],\n",
       "       [25.56],\n",
       "       [19.49],\n",
       "       [38.01],\n",
       "       [26.41],\n",
       "       [11.24],\n",
       "       [48.27],\n",
       "       [20.29],\n",
       "       [13.81],\n",
       "       [11.02],\n",
       "       [18.29],\n",
       "       [17.59],\n",
       "       [20.08],\n",
       "       [16.45],\n",
       "       [ 3.07],\n",
       "       [20.23],\n",
       "       [15.01],\n",
       "       [12.02],\n",
       "       [17.07],\n",
       "       [26.86],\n",
       "       [25.28],\n",
       "       [14.73],\n",
       "       [10.51],\n",
       "       [17.92],\n",
       "       [27.2 ],\n",
       "       [22.76],\n",
       "       [17.29],\n",
       "       [19.44],\n",
       "       [16.66],\n",
       "       [10.07],\n",
       "       [32.68],\n",
       "       [15.98],\n",
       "       [34.83],\n",
       "       [13.03],\n",
       "       [18.28],\n",
       "       [24.71],\n",
       "       [21.16],\n",
       "       [28.97],\n",
       "       [22.49],\n",
       "       [ 5.75],\n",
       "       [16.32],\n",
       "       [22.75],\n",
       "       [40.17],\n",
       "       [27.28],\n",
       "       [12.03],\n",
       "       [21.01],\n",
       "       [12.46],\n",
       "       [11.35],\n",
       "       [15.38],\n",
       "       [44.3 ],\n",
       "       [22.42],\n",
       "       [20.92],\n",
       "       [15.36],\n",
       "       [20.49],\n",
       "       [25.21],\n",
       "       [18.24],\n",
       "       [14.31],\n",
       "       [14.  ],\n",
       "       [ 7.25],\n",
       "       [38.07],\n",
       "       [23.95],\n",
       "       [25.71],\n",
       "       [17.31],\n",
       "       [29.93],\n",
       "       [10.65],\n",
       "       [12.43],\n",
       "       [24.08],\n",
       "       [11.69],\n",
       "       [13.42],\n",
       "       [14.26],\n",
       "       [15.95],\n",
       "       [12.48],\n",
       "       [29.8 ],\n",
       "       [ 8.52],\n",
       "       [14.52],\n",
       "       [11.38],\n",
       "       [22.82],\n",
       "       [19.08],\n",
       "       [20.27],\n",
       "       [11.17],\n",
       "       [12.26],\n",
       "       [18.26],\n",
       "       [ 8.51],\n",
       "       [10.33],\n",
       "       [14.15],\n",
       "       [16.  ],\n",
       "       [13.16],\n",
       "       [17.47],\n",
       "       [34.3 ],\n",
       "       [41.19],\n",
       "       [27.05],\n",
       "       [16.43],\n",
       "       [ 8.35],\n",
       "       [18.64],\n",
       "       [11.87],\n",
       "       [ 9.78],\n",
       "       [ 7.51],\n",
       "       [14.07],\n",
       "       [13.13],\n",
       "       [17.26],\n",
       "       [24.55],\n",
       "       [19.77],\n",
       "       [29.85],\n",
       "       [48.17],\n",
       "       [25.  ],\n",
       "       [13.39],\n",
       "       [16.49],\n",
       "       [21.5 ],\n",
       "       [12.66],\n",
       "       [16.21],\n",
       "       [13.81],\n",
       "       [17.51],\n",
       "       [24.52],\n",
       "       [20.76],\n",
       "       [31.71],\n",
       "       [10.59],\n",
       "       [10.63],\n",
       "       [50.81],\n",
       "       [15.81],\n",
       "       [ 7.25],\n",
       "       [31.85],\n",
       "       [16.82],\n",
       "       [32.9 ],\n",
       "       [17.89],\n",
       "       [14.48],\n",
       "       [ 9.6 ],\n",
       "       [34.63],\n",
       "       [34.65],\n",
       "       [23.33],\n",
       "       [45.35],\n",
       "       [23.17],\n",
       "       [40.55],\n",
       "       [20.69],\n",
       "       [20.9 ],\n",
       "       [30.46],\n",
       "       [18.15],\n",
       "       [23.1 ],\n",
       "       [15.69],\n",
       "       [19.81],\n",
       "       [28.44],\n",
       "       [15.48],\n",
       "       [16.58],\n",
       "       [ 7.56],\n",
       "       [10.34],\n",
       "       [43.11],\n",
       "       [13.  ],\n",
       "       [13.51],\n",
       "       [18.71],\n",
       "       [12.74],\n",
       "       [13.  ],\n",
       "       [16.4 ],\n",
       "       [20.53],\n",
       "       [16.47],\n",
       "       [26.59],\n",
       "       [38.73],\n",
       "       [24.27],\n",
       "       [12.76],\n",
       "       [30.06],\n",
       "       [25.89],\n",
       "       [48.33],\n",
       "       [13.27],\n",
       "       [28.17],\n",
       "       [12.9 ],\n",
       "       [28.15],\n",
       "       [11.59],\n",
       "       [ 7.74],\n",
       "       [30.14],\n",
       "       [12.16],\n",
       "       [13.42],\n",
       "       [ 8.58],\n",
       "       [15.98],\n",
       "       [13.42],\n",
       "       [16.27],\n",
       "       [10.09],\n",
       "       [20.45],\n",
       "       [13.28],\n",
       "       [22.12],\n",
       "       [24.01],\n",
       "       [15.69],\n",
       "       [11.61],\n",
       "       [10.77],\n",
       "       [15.53],\n",
       "       [10.07],\n",
       "       [12.6 ],\n",
       "       [32.83],\n",
       "       [35.83],\n",
       "       [29.03],\n",
       "       [27.18],\n",
       "       [22.67],\n",
       "       [17.82],\n",
       "       [18.78]])"
      ]
     },
     "execution_count": 117,
     "metadata": {},
     "output_type": "execute_result"
    }
   ],
   "source": [
    "X = X.reshape(-1,1)\n",
    "Y = Y.reshape(-1,1)\n",
    "X"
   ]
  },
  {
   "cell_type": "code",
   "execution_count": 118,
   "metadata": {},
   "outputs": [
    {
     "data": {
      "text/plain": [
       "LinearRegression()"
      ]
     },
     "execution_count": 118,
     "metadata": {},
     "output_type": "execute_result"
    }
   ],
   "source": [
    "# eğitim\n",
    "modelim.fit(X, Y)"
   ]
  },
  {
   "cell_type": "code",
   "execution_count": 119,
   "metadata": {},
   "outputs": [
    {
     "data": {
      "text/plain": [
       "array([0.92026961])"
      ]
     },
     "execution_count": 119,
     "metadata": {},
     "output_type": "execute_result"
    }
   ],
   "source": [
    "# model parametreleri\n",
    "modelim.intercept_"
   ]
  },
  {
   "cell_type": "code",
   "execution_count": 120,
   "metadata": {},
   "outputs": [
    {
     "data": {
      "text/plain": [
       "array([[0.10502452]])"
      ]
     },
     "execution_count": 120,
     "metadata": {},
     "output_type": "execute_result"
    }
   ],
   "source": [
    "modelim.coef_"
   ]
  },
  {
   "cell_type": "code",
   "execution_count": 121,
   "metadata": {},
   "outputs": [
    {
     "data": {
      "text/plain": [
       "array([[2.89263005]])"
      ]
     },
     "execution_count": 121,
     "metadata": {},
     "output_type": "execute_result"
    }
   ],
   "source": [
    "modelim.intercept_ + modelim.coef_ * X[-1] # X teki son satırın tahmini bahşişi"
   ]
  },
  {
   "cell_type": "code",
   "execution_count": 122,
   "metadata": {},
   "outputs": [
    {
     "data": {
      "text/plain": [
       "array([3.])"
      ]
     },
     "execution_count": 122,
     "metadata": {},
     "output_type": "execute_result"
    }
   ],
   "source": [
    "Y[-1]"
   ]
  },
  {
   "cell_type": "code",
   "execution_count": 123,
   "metadata": {},
   "outputs": [
    {
     "data": {
      "text/plain": [
       "array([[2.70463616],\n",
       "       [2.00622312],\n",
       "       [3.12683472],\n",
       "       [3.40725019],\n",
       "       [3.5028225 ],\n",
       "       [3.57633966],\n",
       "       [1.84133463],\n",
       "       [3.74332864],\n",
       "       [2.49983836],\n",
       "       [2.47253198],\n",
       "       [1.99887141],\n",
       "       [4.6234341 ],\n",
       "       [2.53974767],\n",
       "       [2.85587147],\n",
       "       [2.47778321],\n",
       "       [3.1866987 ],\n",
       "       [2.00517288],\n",
       "       [2.631119  ],\n",
       "       [2.70253567],\n",
       "       [3.0890259 ],\n",
       "       [2.80230897],\n",
       "       [3.05121707],\n",
       "       [2.57650625],\n",
       "       [5.06033609],\n",
       "       [3.00185555],\n",
       "       [2.79075627],\n",
       "       [2.32444741],\n",
       "       [2.25303074],\n",
       "       [3.19930164],\n",
       "       [2.98400138],\n",
       "       [1.92325375],\n",
       "       [2.84746951],\n",
       "       [2.50193885],\n",
       "       [3.09322688],\n",
       "       [2.78760553],\n",
       "       [3.4471595 ],\n",
       "       [2.63321949],\n",
       "       [2.69833469],\n",
       "       [2.88317784],\n",
       "       [4.20438627],\n",
       "       [2.60486287],\n",
       "       [2.75399769],\n",
       "       [2.38431139],\n",
       "       [1.93690694],\n",
       "       [4.11301494],\n",
       "       [2.84116804],\n",
       "       [3.25496464],\n",
       "       [4.32306398],\n",
       "       [3.91871958],\n",
       "       [2.81491191],\n",
       "       [2.23727706],\n",
       "       [2.0009719 ],\n",
       "       [4.57617306],\n",
       "       [1.96421332],\n",
       "       [3.60469628],\n",
       "       [2.96719746],\n",
       "       [4.91225152],\n",
       "       [3.69396712],\n",
       "       [2.10074519],\n",
       "       [5.98980307],\n",
       "       [3.05121707],\n",
       "       [2.3706582 ],\n",
       "       [2.0776398 ],\n",
       "       [2.84116804],\n",
       "       [2.76765087],\n",
       "       [3.02916192],\n",
       "       [2.64792292],\n",
       "       [1.24269488],\n",
       "       [3.0449156 ],\n",
       "       [2.49668762],\n",
       "       [2.18266431],\n",
       "       [2.71303813],\n",
       "       [3.74122815],\n",
       "       [3.57528941],\n",
       "       [2.46728075],\n",
       "       [2.02407729],\n",
       "       [2.80230897],\n",
       "       [3.77693649],\n",
       "       [3.31062763],\n",
       "       [2.73614352],\n",
       "       [2.96194623],\n",
       "       [2.66997807],\n",
       "       [1.9778665 ],\n",
       "       [4.35247084],\n",
       "       [2.5985614 ],\n",
       "       [4.57827355],\n",
       "       [2.28873908],\n",
       "       [2.84011779],\n",
       "       [3.51542544],\n",
       "       [3.1425884 ],\n",
       "       [3.96282988],\n",
       "       [3.28227101],\n",
       "       [1.52416059],\n",
       "       [2.63426974],\n",
       "       [3.30957738],\n",
       "       [5.13910448],\n",
       "       [3.78533845],\n",
       "       [2.18371456],\n",
       "       [3.12683472],\n",
       "       [2.2288751 ],\n",
       "       [2.11229789],\n",
       "       [2.53554669],\n",
       "       [5.57285573],\n",
       "       [3.27491929],\n",
       "       [3.11738252],\n",
       "       [2.5334462 ],\n",
       "       [3.07222197],\n",
       "       [3.5679377 ],\n",
       "       [2.83591681],\n",
       "       [2.42317046],\n",
       "       [2.39061286],\n",
       "       [1.68169736],\n",
       "       [4.91855299],\n",
       "       [3.4356068 ],\n",
       "       [3.62044996],\n",
       "       [2.73824401],\n",
       "       [4.06365342],\n",
       "       [2.03878072],\n",
       "       [2.22572436],\n",
       "       [3.44925999],\n",
       "       [2.14800622],\n",
       "       [2.32969864],\n",
       "       [2.41791923],\n",
       "       [2.59541067],\n",
       "       [2.23097559],\n",
       "       [4.05000023],\n",
       "       [1.8150785 ],\n",
       "       [2.44522561],\n",
       "       [2.11544862],\n",
       "       [3.3169291 ],\n",
       "       [2.92413741],\n",
       "       [3.04911658],\n",
       "       [2.09339347],\n",
       "       [2.2078702 ],\n",
       "       [2.8380173 ],\n",
       "       [1.81402826],\n",
       "       [2.00517288],\n",
       "       [2.40636653],\n",
       "       [2.60066189],\n",
       "       [2.30239226],\n",
       "       [2.75504793],\n",
       "       [4.52261056],\n",
       "       [5.24622948],\n",
       "       [3.76118281],\n",
       "       [2.64582243],\n",
       "       [1.79722433],\n",
       "       [2.87792662],\n",
       "       [2.16691063],\n",
       "       [1.94740939],\n",
       "       [1.70900374],\n",
       "       [2.39796457],\n",
       "       [2.29924153],\n",
       "       [2.73299278],\n",
       "       [3.49862152],\n",
       "       [2.99660432],\n",
       "       [4.05525146],\n",
       "       [5.97930062],\n",
       "       [3.54588255],\n",
       "       [2.3265479 ],\n",
       "       [2.65212391],\n",
       "       [3.17829674],\n",
       "       [2.24988   ],\n",
       "       [2.62271704],\n",
       "       [2.3706582 ],\n",
       "       [2.75924891],\n",
       "       [3.49547078],\n",
       "       [3.10057859],\n",
       "       [4.25059706],\n",
       "       [2.03247925],\n",
       "       [2.03668023],\n",
       "       [6.25656534],\n",
       "       [2.58070723],\n",
       "       [1.68169736],\n",
       "       [4.26530049],\n",
       "       [2.686782  ],\n",
       "       [4.37557624],\n",
       "       [2.79915823],\n",
       "       [2.44102463],\n",
       "       [1.92850498],\n",
       "       [4.55726865],\n",
       "       [4.55936914],\n",
       "       [3.3704916 ],\n",
       "       [5.68313148],\n",
       "       [3.35368768],\n",
       "       [5.17901379],\n",
       "       [3.09322688],\n",
       "       [3.11528203],\n",
       "       [4.11931641],\n",
       "       [2.8264646 ],\n",
       "       [3.34633597],\n",
       "       [2.56810429],\n",
       "       [3.0008053 ],\n",
       "       [3.90716689],\n",
       "       [2.54604914],\n",
       "       [2.66157611],\n",
       "       [1.71425496],\n",
       "       [2.00622312],\n",
       "       [5.44787656],\n",
       "       [2.28558834],\n",
       "       [2.33915084],\n",
       "       [2.88527833],\n",
       "       [2.25828197],\n",
       "       [2.28558834],\n",
       "       [2.6426717 ],\n",
       "       [3.07642296],\n",
       "       [2.65002341],\n",
       "       [3.71287153],\n",
       "       [4.98786917],\n",
       "       [3.46921465],\n",
       "       [2.26038246],\n",
       "       [4.07730661],\n",
       "       [3.63935437],\n",
       "       [5.99610454],\n",
       "       [2.31394496],\n",
       "       [3.87881027],\n",
       "       [2.27508589],\n",
       "       [3.87670978],\n",
       "       [2.13750377],\n",
       "       [1.73315938],\n",
       "       [4.08570857],\n",
       "       [2.19736774],\n",
       "       [2.32969864],\n",
       "       [1.82137997],\n",
       "       [2.5985614 ],\n",
       "       [2.32969864],\n",
       "       [2.62901851],\n",
       "       [1.97996699],\n",
       "       [3.06802099],\n",
       "       [2.3149952 ],\n",
       "       [3.24341194],\n",
       "       [3.44190828],\n",
       "       [2.56810429],\n",
       "       [2.13960426],\n",
       "       [2.05138367],\n",
       "       [2.55130037],\n",
       "       [1.9778665 ],\n",
       "       [2.24357853],\n",
       "       [4.36822452],\n",
       "       [4.68329807],\n",
       "       [3.96913135],\n",
       "       [3.774836  ],\n",
       "       [3.30117542],\n",
       "       [2.79180651],\n",
       "       [2.89263005]])"
      ]
     },
     "execution_count": 123,
     "metadata": {},
     "output_type": "execute_result"
    }
   ],
   "source": [
    "# tahmin\n",
    "tahminler = modelim.predict(X)\n",
    "tahminler"
   ]
  },
  {
   "cell_type": "code",
   "execution_count": 124,
   "metadata": {},
   "outputs": [
    {
     "data": {
      "text/plain": [
       "<matplotlib.collections.PathCollection at 0x12cc214a8>"
      ]
     },
     "execution_count": 124,
     "metadata": {},
     "output_type": "execute_result"
    },
    {
     "data": {
      "image/png": "[encoded data removed]",
      "text/plain": [
       "<Figure size 432x288 with 1 Axes>"
      ]
     },
     "metadata": {
      "needs_background": "light"
     },
     "output_type": "display_data"
    }
   ],
   "source": [
    "import matplotlib.pyplot as plt\n",
    "plt.scatter(X, Y, c=\"blue\")\n",
    "plt.scatter(X, tahminler, c=\"black\")"
   ]
  },
  {
   "cell_type": "code",
   "execution_count": 14,
   "metadata": {},
   "outputs": [
    {
     "data": {
      "text/plain": [
       "<seaborn.axisgrid.JointGrid at 0x120fcfb38>"
      ]
     },
     "execution_count": 14,
     "metadata": {},
     "output_type": "execute_result"
    },
    {
     "data": {
      "image/png": "[encoded data removed]",
      "text/plain": [
       "<Figure size 432x432 with 3 Axes>"
      ]
     },
     "metadata": {
      "needs_background": "light"
     },
     "output_type": "display_data"
    }
   ],
   "source": [
    "sns.jointplot(x=\"total_bill\", y=\"tip\", data=tips, kind=\"reg\")"
   ]
  },
  {
   "cell_type": "code",
   "execution_count": 15,
   "metadata": {},
   "outputs": [
    {
     "data": {
      "text/plain": [
       "0.7458253894586339"
      ]
     },
     "execution_count": 15,
     "metadata": {},
     "output_type": "execute_result"
    }
   ],
   "source": [
    "# başarı ölçümü\n",
    "from sklearn import metrics\n",
    "metrics.mean_absolute_error(Y, tahminler)"
   ]
  },
  {
   "cell_type": "code",
   "execution_count": 16,
   "metadata": {},
   "outputs": [
    {
     "data": {
      "text/plain": [
       "1.036019442011377"
      ]
     },
     "execution_count": 16,
     "metadata": {},
     "output_type": "execute_result"
    }
   ],
   "source": [
    "metrics.mean_squared_error(Y, tahminler)"
   ]
  },
  {
   "cell_type": "code",
   "execution_count": 125,
   "metadata": {},
   "outputs": [
    {
     "data": {
      "text/plain": [
       "2.99827868852459"
      ]
     },
     "execution_count": 125,
     "metadata": {},
     "output_type": "execute_result"
    }
   ],
   "source": [
    "np.mean(Y)"
   ]
  },
  {
   "cell_type": "markdown",
   "metadata": {},
   "source": [
    "# çoklu doğrusal regresyon"
   ]
  },
  {
   "cell_type": "code",
   "execution_count": 129,
   "metadata": {},
   "outputs": [
    {
     "data": {
      "text/plain": [
       "array([[16.99,  2.  ],\n",
       "       [10.34,  3.  ],\n",
       "       [21.01,  3.  ],\n",
       "       [23.68,  2.  ],\n",
       "       [24.59,  4.  ],\n",
       "       [25.29,  4.  ],\n",
       "       [ 8.77,  2.  ],\n",
       "       [26.88,  4.  ],\n",
       "       [15.04,  2.  ],\n",
       "       [14.78,  2.  ],\n",
       "       [10.27,  2.  ],\n",
       "       [35.26,  4.  ],\n",
       "       [15.42,  2.  ],\n",
       "       [18.43,  4.  ],\n",
       "       [14.83,  2.  ],\n",
       "       [21.58,  2.  ],\n",
       "       [10.33,  3.  ],\n",
       "       [16.29,  3.  ],\n",
       "       [16.97,  3.  ],\n",
       "       [20.65,  3.  ],\n",
       "       [17.92,  2.  ],\n",
       "       [20.29,  2.  ],\n",
       "       [15.77,  2.  ],\n",
       "       [39.42,  4.  ],\n",
       "       [19.82,  2.  ],\n",
       "       [17.81,  4.  ],\n",
       "       [13.37,  2.  ],\n",
       "       [12.69,  2.  ],\n",
       "       [21.7 ,  2.  ],\n",
       "       [19.65,  2.  ],\n",
       "       [ 9.55,  2.  ],\n",
       "       [18.35,  4.  ],\n",
       "       [15.06,  2.  ],\n",
       "       [20.69,  4.  ],\n",
       "       [17.78,  2.  ],\n",
       "       [24.06,  3.  ],\n",
       "       [16.31,  3.  ],\n",
       "       [16.93,  3.  ],\n",
       "       [18.69,  3.  ],\n",
       "       [31.27,  3.  ],\n",
       "       [16.04,  3.  ],\n",
       "       [17.46,  2.  ],\n",
       "       [13.94,  2.  ],\n",
       "       [ 9.68,  2.  ],\n",
       "       [30.4 ,  4.  ],\n",
       "       [18.29,  2.  ],\n",
       "       [22.23,  2.  ],\n",
       "       [32.4 ,  4.  ],\n",
       "       [28.55,  3.  ],\n",
       "       [18.04,  2.  ],\n",
       "       [12.54,  2.  ],\n",
       "       [10.29,  2.  ],\n",
       "       [34.81,  4.  ],\n",
       "       [ 9.94,  2.  ],\n",
       "       [25.56,  4.  ],\n",
       "       [19.49,  2.  ],\n",
       "       [38.01,  4.  ],\n",
       "       [26.41,  2.  ],\n",
       "       [11.24,  2.  ],\n",
       "       [48.27,  4.  ],\n",
       "       [20.29,  2.  ],\n",
       "       [13.81,  2.  ],\n",
       "       [11.02,  2.  ],\n",
       "       [18.29,  4.  ],\n",
       "       [17.59,  3.  ],\n",
       "       [20.08,  3.  ],\n",
       "       [16.45,  2.  ],\n",
       "       [ 3.07,  1.  ],\n",
       "       [20.23,  2.  ],\n",
       "       [15.01,  2.  ],\n",
       "       [12.02,  2.  ],\n",
       "       [17.07,  3.  ],\n",
       "       [26.86,  2.  ],\n",
       "       [25.28,  2.  ],\n",
       "       [14.73,  2.  ],\n",
       "       [10.51,  2.  ],\n",
       "       [17.92,  2.  ],\n",
       "       [27.2 ,  4.  ],\n",
       "       [22.76,  2.  ],\n",
       "       [17.29,  2.  ],\n",
       "       [19.44,  2.  ],\n",
       "       [16.66,  2.  ],\n",
       "       [10.07,  1.  ],\n",
       "       [32.68,  2.  ],\n",
       "       [15.98,  2.  ],\n",
       "       [34.83,  4.  ],\n",
       "       [13.03,  2.  ],\n",
       "       [18.28,  2.  ],\n",
       "       [24.71,  2.  ],\n",
       "       [21.16,  2.  ],\n",
       "       [28.97,  2.  ],\n",
       "       [22.49,  2.  ],\n",
       "       [ 5.75,  2.  ],\n",
       "       [16.32,  2.  ],\n",
       "       [22.75,  2.  ],\n",
       "       [40.17,  4.  ],\n",
       "       [27.28,  2.  ],\n",
       "       [12.03,  2.  ],\n",
       "       [21.01,  2.  ],\n",
       "       [12.46,  2.  ],\n",
       "       [11.35,  2.  ],\n",
       "       [15.38,  2.  ],\n",
       "       [44.3 ,  3.  ],\n",
       "       [22.42,  2.  ],\n",
       "       [20.92,  2.  ],\n",
       "       [15.36,  2.  ],\n",
       "       [20.49,  2.  ],\n",
       "       [25.21,  2.  ],\n",
       "       [18.24,  2.  ],\n",
       "       [14.31,  2.  ],\n",
       "       [14.  ,  2.  ],\n",
       "       [ 7.25,  1.  ],\n",
       "       [38.07,  3.  ],\n",
       "       [23.95,  2.  ],\n",
       "       [25.71,  3.  ],\n",
       "       [17.31,  2.  ],\n",
       "       [29.93,  4.  ],\n",
       "       [10.65,  2.  ],\n",
       "       [12.43,  2.  ],\n",
       "       [24.08,  4.  ],\n",
       "       [11.69,  2.  ],\n",
       "       [13.42,  2.  ],\n",
       "       [14.26,  2.  ],\n",
       "       [15.95,  2.  ],\n",
       "       [12.48,  2.  ],\n",
       "       [29.8 ,  6.  ],\n",
       "       [ 8.52,  2.  ],\n",
       "       [14.52,  2.  ],\n",
       "       [11.38,  2.  ],\n",
       "       [22.82,  3.  ],\n",
       "       [19.08,  2.  ],\n",
       "       [20.27,  2.  ],\n",
       "       [11.17,  2.  ],\n",
       "       [12.26,  2.  ],\n",
       "       [18.26,  2.  ],\n",
       "       [ 8.51,  2.  ],\n",
       "       [10.33,  2.  ],\n",
       "       [14.15,  2.  ],\n",
       "       [16.  ,  2.  ],\n",
       "       [13.16,  2.  ],\n",
       "       [17.47,  2.  ],\n",
       "       [34.3 ,  6.  ],\n",
       "       [41.19,  5.  ],\n",
       "       [27.05,  6.  ],\n",
       "       [16.43,  2.  ],\n",
       "       [ 8.35,  2.  ],\n",
       "       [18.64,  3.  ],\n",
       "       [11.87,  2.  ],\n",
       "       [ 9.78,  2.  ],\n",
       "       [ 7.51,  2.  ],\n",
       "       [14.07,  2.  ],\n",
       "       [13.13,  2.  ],\n",
       "       [17.26,  3.  ],\n",
       "       [24.55,  4.  ],\n",
       "       [19.77,  4.  ],\n",
       "       [29.85,  5.  ],\n",
       "       [48.17,  6.  ],\n",
       "       [25.  ,  4.  ],\n",
       "       [13.39,  2.  ],\n",
       "       [16.49,  4.  ],\n",
       "       [21.5 ,  4.  ],\n",
       "       [12.66,  2.  ],\n",
       "       [16.21,  3.  ],\n",
       "       [13.81,  2.  ],\n",
       "       [17.51,  2.  ],\n",
       "       [24.52,  3.  ],\n",
       "       [20.76,  2.  ],\n",
       "       [31.71,  4.  ],\n",
       "       [10.59,  2.  ],\n",
       "       [10.63,  2.  ],\n",
       "       [50.81,  3.  ],\n",
       "       [15.81,  2.  ],\n",
       "       [ 7.25,  2.  ],\n",
       "       [31.85,  2.  ],\n",
       "       [16.82,  2.  ],\n",
       "       [32.9 ,  2.  ],\n",
       "       [17.89,  2.  ],\n",
       "       [14.48,  2.  ],\n",
       "       [ 9.6 ,  2.  ],\n",
       "       [34.63,  2.  ],\n",
       "       [34.65,  4.  ],\n",
       "       [23.33,  2.  ],\n",
       "       [45.35,  3.  ],\n",
       "       [23.17,  4.  ],\n",
       "       [40.55,  2.  ],\n",
       "       [20.69,  5.  ],\n",
       "       [20.9 ,  3.  ],\n",
       "       [30.46,  5.  ],\n",
       "       [18.15,  3.  ],\n",
       "       [23.1 ,  3.  ],\n",
       "       [15.69,  2.  ],\n",
       "       [19.81,  2.  ],\n",
       "       [28.44,  2.  ],\n",
       "       [15.48,  2.  ],\n",
       "       [16.58,  2.  ],\n",
       "       [ 7.56,  2.  ],\n",
       "       [10.34,  2.  ],\n",
       "       [43.11,  4.  ],\n",
       "       [13.  ,  2.  ],\n",
       "       [13.51,  2.  ],\n",
       "       [18.71,  3.  ],\n",
       "       [12.74,  2.  ],\n",
       "       [13.  ,  2.  ],\n",
       "       [16.4 ,  2.  ],\n",
       "       [20.53,  4.  ],\n",
       "       [16.47,  3.  ],\n",
       "       [26.59,  3.  ],\n",
       "       [38.73,  4.  ],\n",
       "       [24.27,  2.  ],\n",
       "       [12.76,  2.  ],\n",
       "       [30.06,  3.  ],\n",
       "       [25.89,  4.  ],\n",
       "       [48.33,  4.  ],\n",
       "       [13.27,  2.  ],\n",
       "       [28.17,  3.  ],\n",
       "       [12.9 ,  2.  ],\n",
       "       [28.15,  5.  ],\n",
       "       [11.59,  2.  ],\n",
       "       [ 7.74,  2.  ],\n",
       "       [30.14,  4.  ],\n",
       "       [12.16,  2.  ],\n",
       "       [13.42,  2.  ],\n",
       "       [ 8.58,  1.  ],\n",
       "       [15.98,  3.  ],\n",
       "       [13.42,  2.  ],\n",
       "       [16.27,  2.  ],\n",
       "       [10.09,  2.  ],\n",
       "       [20.45,  4.  ],\n",
       "       [13.28,  2.  ],\n",
       "       [22.12,  2.  ],\n",
       "       [24.01,  4.  ],\n",
       "       [15.69,  3.  ],\n",
       "       [11.61,  2.  ],\n",
       "       [10.77,  2.  ],\n",
       "       [15.53,  2.  ],\n",
       "       [10.07,  2.  ],\n",
       "       [12.6 ,  2.  ],\n",
       "       [32.83,  2.  ],\n",
       "       [35.83,  3.  ],\n",
       "       [29.03,  3.  ],\n",
       "       [27.18,  2.  ],\n",
       "       [22.67,  2.  ],\n",
       "       [17.82,  2.  ],\n",
       "       [18.78,  2.  ]])"
      ]
     },
     "execution_count": 129,
     "metadata": {},
     "output_type": "execute_result"
    }
   ],
   "source": [
    "# veri hazırlama ve eğitim/test bölme\n",
    "X = np.array(tips[[\"total_bill\",\"size\"]])\n",
    "Y = np.array(tips[\"tip\"])\n",
    "X"
   ]
  },
  {
   "cell_type": "code",
   "execution_count": 130,
   "metadata": {},
   "outputs": [
    {
     "data": {
      "text/plain": [
       "LinearRegression()"
      ]
     },
     "execution_count": 130,
     "metadata": {},
     "output_type": "execute_result"
    }
   ],
   "source": [
    "modelim.fit(X, Y)"
   ]
  },
  {
   "cell_type": "code",
   "execution_count": 131,
   "metadata": {},
   "outputs": [
    {
     "data": {
      "text/plain": [
       "2.7952967953040986"
      ]
     },
     "execution_count": 131,
     "metadata": {},
     "output_type": "execute_result"
    }
   ],
   "source": [
    "modelim.intercept_ + modelim.coef_[0] * X[-1][0] + modelim.coef_[1] * X[-1][1]"
   ]
  },
  {
   "cell_type": "code",
   "execution_count": 132,
   "metadata": {},
   "outputs": [
    {
     "data": {
      "text/plain": [
       "array([0.09271334, 0.19259779])"
      ]
     },
     "execution_count": 132,
     "metadata": {},
     "output_type": "execute_result"
    }
   ],
   "source": [
    "modelim.coef_"
   ]
  },
  {
   "cell_type": "code",
   "execution_count": 133,
   "metadata": {},
   "outputs": [
    {
     "data": {
      "text/plain": [
       "array([2.62933992, 2.20539403, 3.19464533, 3.24959215, 3.71915687,\n",
       "       3.78405621, 1.86723629, 3.93147041, 2.44854892, 2.42444345,\n",
       "       2.0063063 , 4.70840818, 2.48377998, 3.14804272, 2.42907911,\n",
       "       3.05489414, 2.20446689, 2.75703838, 2.82008345, 3.16126853,\n",
       "       2.71556333, 2.93529393, 2.51622965, 5.09409566, 2.89171867,\n",
       "       3.09056045, 2.29371764, 2.23067257, 3.06601974, 2.8759574 ,\n",
       "       1.9395527 , 3.14062565, 2.45040318, 3.35757486, 2.70258346,\n",
       "       3.47742101, 2.75889265, 2.81637492, 2.97955039, 4.14588417,\n",
       "       2.73386005, 2.67291519, 2.34656425, 1.95160543, 4.25782136,\n",
       "       2.74986726, 3.11515781, 4.44324803, 3.89370389, 2.72668893,\n",
       "       2.21676557, 2.00816057, 4.66668717, 1.9757109 , 3.80908881,\n",
       "       2.86112326, 4.96336985, 3.50269956, 2.09623824, 5.91460869,\n",
       "       2.93529393, 2.33451151, 2.0758413 , 3.13506285, 2.87756572,\n",
       "       3.10842193, 2.57927472, 1.14617248, 2.92973113, 2.44576752,\n",
       "       2.16855464, 2.82935478, 3.54442056, 3.39793348, 2.41980778,\n",
       "       2.0285575 , 2.71556333, 3.96113868, 3.16429588, 2.65715392,\n",
       "       2.8564876 , 2.59874452, 1.79516584, 4.08401218, 2.53569945,\n",
       "       4.66854144, 2.26219511, 2.74894013, 3.34508688, 3.01595454,\n",
       "       3.7400457 , 3.13926327, 1.58724202, 2.56722199, 3.16336874,\n",
       "       5.16363066, 3.58336016, 2.16948177, 3.00204754, 2.20934851,\n",
       "       2.1064367 , 2.48007145, 5.35393895, 3.13277334, 2.99370334,\n",
       "       2.47821718, 2.9538366 , 3.39144355, 2.74523159, 2.38086818,\n",
       "       2.35212705, 1.53371423, 4.77633486, 3.27462475, 3.63039801,\n",
       "       2.65900819, 4.21424609, 2.04153737, 2.20656711, 3.67187307,\n",
       "       2.13795924, 2.29835331, 2.37623251, 2.53291805, 2.21120277,\n",
       "       4.58738894, 1.84405796, 2.40033798, 2.1092181 , 3.36245647,\n",
       "       2.8231108 , 2.93343967, 2.0897483 , 2.19080584, 2.74708586,\n",
       "       1.84313083, 2.0118691 , 2.36603405, 2.53755372, 2.27424784,\n",
       "       2.67384232, 5.00459896, 5.45079606, 4.33242727, 2.57742045,\n",
       "       1.82829669, 2.97491472, 2.15464764, 1.96087676, 1.75041749,\n",
       "       2.35861698, 2.27146644, 2.84697032, 3.71544834, 3.27227859,\n",
       "       4.39942682, 6.29053294, 3.75716934, 2.29557191, 2.96817884,\n",
       "       3.43267266, 2.22789117, 2.74962131, 2.33451151, 2.67755086,\n",
       "       3.52006914, 2.9788692 , 4.37927583, 2.03597457, 2.0396831 ,\n",
       "       5.95750277, 2.51993818, 1.72631202, 4.00706011, 2.61357866,\n",
       "       4.10440911, 2.71278193, 2.39662945, 1.94418836, 4.26480318,\n",
       "       4.65185304, 3.21714248, 5.45128795, 3.58750393, 4.81366614,\n",
       "       3.55017265, 3.18444686, 4.45598195, 2.92948519, 3.3884162 ,\n",
       "       2.50881258, 2.89079153, 3.69090763, 2.48934278, 2.59132745,\n",
       "       1.75505316, 2.01279623, 5.43620787, 2.25941371, 2.30669751,\n",
       "       2.98140466, 2.23530824, 2.25941371, 2.57463905, 3.34274072,\n",
       "       2.77372678, 3.71198575, 5.03012345, 3.30429301, 2.23716251,\n",
       "       4.03370103, 3.83968421, 5.92017149, 2.28444631, 3.85847282,\n",
       "       2.25014237, 4.24181414, 2.1286879 , 1.77174156, 4.23371589,\n",
       "       2.18153451, 2.29835331, 1.65702297, 2.72829725, 2.29835331,\n",
       "       2.56258632, 1.9896179 , 3.33532366, 2.28537344, 3.10495934,\n",
       "       3.66538314, 2.70141038, 2.13054217, 2.05266297, 2.49397845,\n",
       "       1.98776363, 2.22232837, 4.09791918, 4.56865698, 3.93820629,\n",
       "       3.57408882, 3.15595168, 2.70629199, 2.7952968 ])"
      ]
     },
     "execution_count": 133,
     "metadata": {},
     "output_type": "execute_result"
    }
   ],
   "source": [
    "tahminler = modelim.predict(X)\n",
    "tahminler"
   ]
  },
  {
   "cell_type": "code",
   "execution_count": 134,
   "metadata": {},
   "outputs": [
    {
     "data": {
      "text/plain": [
       "0.7390035049097029"
      ]
     },
     "execution_count": 134,
     "metadata": {},
     "output_type": "execute_result"
    }
   ],
   "source": [
    "metrics.mean_absolute_error(Y, tahminler)"
   ]
  },
  {
   "cell_type": "code",
   "execution_count": 135,
   "metadata": {},
   "outputs": [
    {
     "data": {
      "text/plain": [
       "1.014564905610028"
      ]
     },
     "execution_count": 135,
     "metadata": {},
     "output_type": "execute_result"
    }
   ],
   "source": [
    "metrics.mean_squared_error(Y, tahminler)"
   ]
  },
  {
   "cell_type": "code",
   "execution_count": 136,
   "metadata": {},
   "outputs": [
    {
     "data": {
      "text/html": [
       "<div>\n",
       "<style scoped>\n",
       "    .dataframe tbody tr th:only-of-type {\n",
       "        vertical-align: middle;\n",
       "    }\n",
       "\n",
       "    .dataframe tbody tr th {\n",
       "        vertical-align: top;\n",
       "    }\n",
       "\n",
       "    .dataframe thead th {\n",
       "        text-align: right;\n",
       "    }\n",
       "</style>\n",
       "<table border=\"1\" class=\"dataframe\">\n",
       "  <thead>\n",
       "    <tr style=\"text-align: right;\">\n",
       "      <th></th>\n",
       "      <th>total_bill</th>\n",
       "      <th>tip</th>\n",
       "      <th>size</th>\n",
       "      <th>sex_Male</th>\n",
       "      <th>sex_Female</th>\n",
       "      <th>smoker_Yes</th>\n",
       "      <th>smoker_No</th>\n",
       "      <th>day_Thur</th>\n",
       "      <th>day_Fri</th>\n",
       "      <th>day_Sat</th>\n",
       "      <th>day_Sun</th>\n",
       "      <th>time_Lunch</th>\n",
       "      <th>time_Dinner</th>\n",
       "    </tr>\n",
       "  </thead>\n",
       "  <tbody>\n",
       "    <tr>\n",
       "      <th>0</th>\n",
       "      <td>16.99</td>\n",
       "      <td>1.01</td>\n",
       "      <td>2</td>\n",
       "      <td>0</td>\n",
       "      <td>1</td>\n",
       "      <td>0</td>\n",
       "      <td>1</td>\n",
       "      <td>0</td>\n",
       "      <td>0</td>\n",
       "      <td>0</td>\n",
       "      <td>1</td>\n",
       "      <td>0</td>\n",
       "      <td>1</td>\n",
       "    </tr>\n",
       "    <tr>\n",
       "      <th>1</th>\n",
       "      <td>10.34</td>\n",
       "      <td>1.66</td>\n",
       "      <td>3</td>\n",
       "      <td>1</td>\n",
       "      <td>0</td>\n",
       "      <td>0</td>\n",
       "      <td>1</td>\n",
       "      <td>0</td>\n",
       "      <td>0</td>\n",
       "      <td>0</td>\n",
       "      <td>1</td>\n",
       "      <td>0</td>\n",
       "      <td>1</td>\n",
       "    </tr>\n",
       "    <tr>\n",
       "      <th>2</th>\n",
       "      <td>21.01</td>\n",
       "      <td>3.50</td>\n",
       "      <td>3</td>\n",
       "      <td>1</td>\n",
       "      <td>0</td>\n",
       "      <td>0</td>\n",
       "      <td>1</td>\n",
       "      <td>0</td>\n",
       "      <td>0</td>\n",
       "      <td>0</td>\n",
       "      <td>1</td>\n",
       "      <td>0</td>\n",
       "      <td>1</td>\n",
       "    </tr>\n",
       "    <tr>\n",
       "      <th>3</th>\n",
       "      <td>23.68</td>\n",
       "      <td>3.31</td>\n",
       "      <td>2</td>\n",
       "      <td>1</td>\n",
       "      <td>0</td>\n",
       "      <td>0</td>\n",
       "      <td>1</td>\n",
       "      <td>0</td>\n",
       "      <td>0</td>\n",
       "      <td>0</td>\n",
       "      <td>1</td>\n",
       "      <td>0</td>\n",
       "      <td>1</td>\n",
       "    </tr>\n",
       "    <tr>\n",
       "      <th>4</th>\n",
       "      <td>24.59</td>\n",
       "      <td>3.61</td>\n",
       "      <td>4</td>\n",
       "      <td>0</td>\n",
       "      <td>1</td>\n",
       "      <td>0</td>\n",
       "      <td>1</td>\n",
       "      <td>0</td>\n",
       "      <td>0</td>\n",
       "      <td>0</td>\n",
       "      <td>1</td>\n",
       "      <td>0</td>\n",
       "      <td>1</td>\n",
       "    </tr>\n",
       "    <tr>\n",
       "      <th>...</th>\n",
       "      <td>...</td>\n",
       "      <td>...</td>\n",
       "      <td>...</td>\n",
       "      <td>...</td>\n",
       "      <td>...</td>\n",
       "      <td>...</td>\n",
       "      <td>...</td>\n",
       "      <td>...</td>\n",
       "      <td>...</td>\n",
       "      <td>...</td>\n",
       "      <td>...</td>\n",
       "      <td>...</td>\n",
       "      <td>...</td>\n",
       "    </tr>\n",
       "    <tr>\n",
       "      <th>239</th>\n",
       "      <td>29.03</td>\n",
       "      <td>5.92</td>\n",
       "      <td>3</td>\n",
       "      <td>1</td>\n",
       "      <td>0</td>\n",
       "      <td>0</td>\n",
       "      <td>1</td>\n",
       "      <td>0</td>\n",
       "      <td>0</td>\n",
       "      <td>1</td>\n",
       "      <td>0</td>\n",
       "      <td>0</td>\n",
       "      <td>1</td>\n",
       "    </tr>\n",
       "    <tr>\n",
       "      <th>240</th>\n",
       "      <td>27.18</td>\n",
       "      <td>2.00</td>\n",
       "      <td>2</td>\n",
       "      <td>0</td>\n",
       "      <td>1</td>\n",
       "      <td>1</td>\n",
       "      <td>0</td>\n",
       "      <td>0</td>\n",
       "      <td>0</td>\n",
       "      <td>1</td>\n",
       "      <td>0</td>\n",
       "      <td>0</td>\n",
       "      <td>1</td>\n",
       "    </tr>\n",
       "    <tr>\n",
       "      <th>241</th>\n",
       "      <td>22.67</td>\n",
       "      <td>2.00</td>\n",
       "      <td>2</td>\n",
       "      <td>1</td>\n",
       "      <td>0</td>\n",
       "      <td>1</td>\n",
       "      <td>0</td>\n",
       "      <td>0</td>\n",
       "      <td>0</td>\n",
       "      <td>1</td>\n",
       "      <td>0</td>\n",
       "      <td>0</td>\n",
       "      <td>1</td>\n",
       "    </tr>\n",
       "    <tr>\n",
       "      <th>242</th>\n",
       "      <td>17.82</td>\n",
       "      <td>1.75</td>\n",
       "      <td>2</td>\n",
       "      <td>1</td>\n",
       "      <td>0</td>\n",
       "      <td>0</td>\n",
       "      <td>1</td>\n",
       "      <td>0</td>\n",
       "      <td>0</td>\n",
       "      <td>1</td>\n",
       "      <td>0</td>\n",
       "      <td>0</td>\n",
       "      <td>1</td>\n",
       "    </tr>\n",
       "    <tr>\n",
       "      <th>243</th>\n",
       "      <td>18.78</td>\n",
       "      <td>3.00</td>\n",
       "      <td>2</td>\n",
       "      <td>0</td>\n",
       "      <td>1</td>\n",
       "      <td>0</td>\n",
       "      <td>1</td>\n",
       "      <td>1</td>\n",
       "      <td>0</td>\n",
       "      <td>0</td>\n",
       "      <td>0</td>\n",
       "      <td>0</td>\n",
       "      <td>1</td>\n",
       "    </tr>\n",
       "  </tbody>\n",
       "</table>\n",
       "<p>244 rows × 13 columns</p>\n",
       "</div>"
      ],
      "text/plain": [
       "     total_bill   tip  size  sex_Male  sex_Female  smoker_Yes  smoker_No  \\\n",
       "0         16.99  1.01     2         0           1           0          1   \n",
       "1         10.34  1.66     3         1           0           0          1   \n",
       "2         21.01  3.50     3         1           0           0          1   \n",
       "3         23.68  3.31     2         1           0           0          1   \n",
       "4         24.59  3.61     4         0           1           0          1   \n",
       "..          ...   ...   ...       ...         ...         ...        ...   \n",
       "239       29.03  5.92     3         1           0           0          1   \n",
       "240       27.18  2.00     2         0           1           1          0   \n",
       "241       22.67  2.00     2         1           0           1          0   \n",
       "242       17.82  1.75     2         1           0           0          1   \n",
       "243       18.78  3.00     2         0           1           0          1   \n",
       "\n",
       "     day_Thur  day_Fri  day_Sat  day_Sun  time_Lunch  time_Dinner  \n",
       "0           0        0        0        1           0            1  \n",
       "1           0        0        0        1           0            1  \n",
       "2           0        0        0        1           0            1  \n",
       "3           0        0        0        1           0            1  \n",
       "4           0        0        0        1           0            1  \n",
       "..        ...      ...      ...      ...         ...          ...  \n",
       "239         0        0        1        0           0            1  \n",
       "240         0        0        1        0           0            1  \n",
       "241         0        0        1        0           0            1  \n",
       "242         0        0        1        0           0            1  \n",
       "243         1        0        0        0           0            1  \n",
       "\n",
       "[244 rows x 13 columns]"
      ]
     },
     "execution_count": 136,
     "metadata": {},
     "output_type": "execute_result"
    }
   ],
   "source": [
    "veri = pd.get_dummies(tips)\n",
    "veri"
   ]
  },
  {
   "cell_type": "code",
   "execution_count": 137,
   "metadata": {},
   "outputs": [],
   "source": [
    "X = veri.drop(columns=\"tip\")\n",
    "sütun_isimleri = X.columns\n",
    "\n",
    "Y = veri.tip "
   ]
  },
  {
   "cell_type": "code",
   "execution_count": 138,
   "metadata": {},
   "outputs": [
    {
     "data": {
      "text/html": [
       "<div>\n",
       "<style scoped>\n",
       "    .dataframe tbody tr th:only-of-type {\n",
       "        vertical-align: middle;\n",
       "    }\n",
       "\n",
       "    .dataframe tbody tr th {\n",
       "        vertical-align: top;\n",
       "    }\n",
       "\n",
       "    .dataframe thead th {\n",
       "        text-align: right;\n",
       "    }\n",
       "</style>\n",
       "<table border=\"1\" class=\"dataframe\">\n",
       "  <thead>\n",
       "    <tr style=\"text-align: right;\">\n",
       "      <th></th>\n",
       "      <th>total_bill</th>\n",
       "      <th>size</th>\n",
       "      <th>sex_Male</th>\n",
       "      <th>sex_Female</th>\n",
       "      <th>smoker_Yes</th>\n",
       "      <th>smoker_No</th>\n",
       "      <th>day_Thur</th>\n",
       "      <th>day_Fri</th>\n",
       "      <th>day_Sat</th>\n",
       "      <th>day_Sun</th>\n",
       "      <th>time_Lunch</th>\n",
       "      <th>time_Dinner</th>\n",
       "    </tr>\n",
       "  </thead>\n",
       "  <tbody>\n",
       "    <tr>\n",
       "      <th>0</th>\n",
       "      <td>16.99</td>\n",
       "      <td>2</td>\n",
       "      <td>0</td>\n",
       "      <td>1</td>\n",
       "      <td>0</td>\n",
       "      <td>1</td>\n",
       "      <td>0</td>\n",
       "      <td>0</td>\n",
       "      <td>0</td>\n",
       "      <td>1</td>\n",
       "      <td>0</td>\n",
       "      <td>1</td>\n",
       "    </tr>\n",
       "    <tr>\n",
       "      <th>1</th>\n",
       "      <td>10.34</td>\n",
       "      <td>3</td>\n",
       "      <td>1</td>\n",
       "      <td>0</td>\n",
       "      <td>0</td>\n",
       "      <td>1</td>\n",
       "      <td>0</td>\n",
       "      <td>0</td>\n",
       "      <td>0</td>\n",
       "      <td>1</td>\n",
       "      <td>0</td>\n",
       "      <td>1</td>\n",
       "    </tr>\n",
       "    <tr>\n",
       "      <th>2</th>\n",
       "      <td>21.01</td>\n",
       "      <td>3</td>\n",
       "      <td>1</td>\n",
       "      <td>0</td>\n",
       "      <td>0</td>\n",
       "      <td>1</td>\n",
       "      <td>0</td>\n",
       "      <td>0</td>\n",
       "      <td>0</td>\n",
       "      <td>1</td>\n",
       "      <td>0</td>\n",
       "      <td>1</td>\n",
       "    </tr>\n",
       "    <tr>\n",
       "      <th>3</th>\n",
       "      <td>23.68</td>\n",
       "      <td>2</td>\n",
       "      <td>1</td>\n",
       "      <td>0</td>\n",
       "      <td>0</td>\n",
       "      <td>1</td>\n",
       "      <td>0</td>\n",
       "      <td>0</td>\n",
       "      <td>0</td>\n",
       "      <td>1</td>\n",
       "      <td>0</td>\n",
       "      <td>1</td>\n",
       "    </tr>\n",
       "    <tr>\n",
       "      <th>4</th>\n",
       "      <td>24.59</td>\n",
       "      <td>4</td>\n",
       "      <td>0</td>\n",
       "      <td>1</td>\n",
       "      <td>0</td>\n",
       "      <td>1</td>\n",
       "      <td>0</td>\n",
       "      <td>0</td>\n",
       "      <td>0</td>\n",
       "      <td>1</td>\n",
       "      <td>0</td>\n",
       "      <td>1</td>\n",
       "    </tr>\n",
       "    <tr>\n",
       "      <th>...</th>\n",
       "      <td>...</td>\n",
       "      <td>...</td>\n",
       "      <td>...</td>\n",
       "      <td>...</td>\n",
       "      <td>...</td>\n",
       "      <td>...</td>\n",
       "      <td>...</td>\n",
       "      <td>...</td>\n",
       "      <td>...</td>\n",
       "      <td>...</td>\n",
       "      <td>...</td>\n",
       "      <td>...</td>\n",
       "    </tr>\n",
       "    <tr>\n",
       "      <th>239</th>\n",
       "      <td>29.03</td>\n",
       "      <td>3</td>\n",
       "      <td>1</td>\n",
       "      <td>0</td>\n",
       "      <td>0</td>\n",
       "      <td>1</td>\n",
       "      <td>0</td>\n",
       "      <td>0</td>\n",
       "      <td>1</td>\n",
       "      <td>0</td>\n",
       "      <td>0</td>\n",
       "      <td>1</td>\n",
       "    </tr>\n",
       "    <tr>\n",
       "      <th>240</th>\n",
       "      <td>27.18</td>\n",
       "      <td>2</td>\n",
       "      <td>0</td>\n",
       "      <td>1</td>\n",
       "      <td>1</td>\n",
       "      <td>0</td>\n",
       "      <td>0</td>\n",
       "      <td>0</td>\n",
       "      <td>1</td>\n",
       "      <td>0</td>\n",
       "      <td>0</td>\n",
       "      <td>1</td>\n",
       "    </tr>\n",
       "    <tr>\n",
       "      <th>241</th>\n",
       "      <td>22.67</td>\n",
       "      <td>2</td>\n",
       "      <td>1</td>\n",
       "      <td>0</td>\n",
       "      <td>1</td>\n",
       "      <td>0</td>\n",
       "      <td>0</td>\n",
       "      <td>0</td>\n",
       "      <td>1</td>\n",
       "      <td>0</td>\n",
       "      <td>0</td>\n",
       "      <td>1</td>\n",
       "    </tr>\n",
       "    <tr>\n",
       "      <th>242</th>\n",
       "      <td>17.82</td>\n",
       "      <td>2</td>\n",
       "      <td>1</td>\n",
       "      <td>0</td>\n",
       "      <td>0</td>\n",
       "      <td>1</td>\n",
       "      <td>0</td>\n",
       "      <td>0</td>\n",
       "      <td>1</td>\n",
       "      <td>0</td>\n",
       "      <td>0</td>\n",
       "      <td>1</td>\n",
       "    </tr>\n",
       "    <tr>\n",
       "      <th>243</th>\n",
       "      <td>18.78</td>\n",
       "      <td>2</td>\n",
       "      <td>0</td>\n",
       "      <td>1</td>\n",
       "      <td>0</td>\n",
       "      <td>1</td>\n",
       "      <td>1</td>\n",
       "      <td>0</td>\n",
       "      <td>0</td>\n",
       "      <td>0</td>\n",
       "      <td>0</td>\n",
       "      <td>1</td>\n",
       "    </tr>\n",
       "  </tbody>\n",
       "</table>\n",
       "<p>244 rows × 12 columns</p>\n",
       "</div>"
      ],
      "text/plain": [
       "     total_bill  size  sex_Male  sex_Female  smoker_Yes  smoker_No  day_Thur  \\\n",
       "0         16.99     2         0           1           0          1         0   \n",
       "1         10.34     3         1           0           0          1         0   \n",
       "2         21.01     3         1           0           0          1         0   \n",
       "3         23.68     2         1           0           0          1         0   \n",
       "4         24.59     4         0           1           0          1         0   \n",
       "..          ...   ...       ...         ...         ...        ...       ...   \n",
       "239       29.03     3         1           0           0          1         0   \n",
       "240       27.18     2         0           1           1          0         0   \n",
       "241       22.67     2         1           0           1          0         0   \n",
       "242       17.82     2         1           0           0          1         0   \n",
       "243       18.78     2         0           1           0          1         1   \n",
       "\n",
       "     day_Fri  day_Sat  day_Sun  time_Lunch  time_Dinner  \n",
       "0          0        0        1           0            1  \n",
       "1          0        0        1           0            1  \n",
       "2          0        0        1           0            1  \n",
       "3          0        0        1           0            1  \n",
       "4          0        0        1           0            1  \n",
       "..       ...      ...      ...         ...          ...  \n",
       "239        0        1        0           0            1  \n",
       "240        0        1        0           0            1  \n",
       "241        0        1        0           0            1  \n",
       "242        0        1        0           0            1  \n",
       "243        0        0        0           0            1  \n",
       "\n",
       "[244 rows x 12 columns]"
      ]
     },
     "execution_count": 138,
     "metadata": {},
     "output_type": "execute_result"
    }
   ],
   "source": [
    "X"
   ]
  },
  {
   "cell_type": "code",
   "execution_count": 139,
   "metadata": {},
   "outputs": [
    {
     "data": {
      "text/plain": [
       "0      1.01\n",
       "1      1.66\n",
       "2      3.50\n",
       "3      3.31\n",
       "4      3.61\n",
       "       ... \n",
       "239    5.92\n",
       "240    2.00\n",
       "241    2.00\n",
       "242    1.75\n",
       "243    3.00\n",
       "Name: tip, Length: 244, dtype: float64"
      ]
     },
     "execution_count": 139,
     "metadata": {},
     "output_type": "execute_result"
    }
   ],
   "source": [
    "Y"
   ]
  },
  {
   "cell_type": "code",
   "execution_count": 140,
   "metadata": {},
   "outputs": [
    {
     "data": {
      "text/plain": [
       "LinearRegression()"
      ]
     },
     "execution_count": 140,
     "metadata": {},
     "output_type": "execute_result"
    }
   ],
   "source": [
    "\n",
    "modelim.fit(X, Y)"
   ]
  },
  {
   "cell_type": "code",
   "execution_count": 142,
   "metadata": {},
   "outputs": [
    {
     "data": {
      "text/plain": [
       "0.7332702739551589"
      ]
     },
     "execution_count": 142,
     "metadata": {},
     "output_type": "execute_result"
    }
   ],
   "source": [
    "tah = modelim.predict(X)\n",
    "metrics.mean_absolute_error(Y, tah)"
   ]
  },
  {
   "cell_type": "code",
   "execution_count": 143,
   "metadata": {},
   "outputs": [
    {
     "data": {
      "text/plain": [
       "0.7011573948194583"
      ]
     },
     "execution_count": 143,
     "metadata": {},
     "output_type": "execute_result"
    }
   ],
   "source": [
    "modelim.intercept_"
   ]
  },
  {
   "cell_type": "code",
   "execution_count": 144,
   "metadata": {},
   "outputs": [
    {
     "data": {
      "text/plain": [
       "array([ 0.09448701,  0.175992  , -0.01622047,  0.01622047, -0.04320416,\n",
       "        0.04320416, -0.08495964,  0.07729956, -0.04415882,  0.0518189 ,\n",
       "        0.0340643 , -0.0340643 ])"
      ]
     },
     "execution_count": 144,
     "metadata": {},
     "output_type": "execute_result"
    }
   ],
   "source": [
    "modelim.coef_"
   ]
  },
  {
   "cell_type": "code",
   "execution_count": 145,
   "metadata": {},
   "outputs": [
    {
     "data": {
      "text/plain": [
       "[(0.09448700598873931, 'total_bill'),\n",
       " (0.1759920027535093, 'size'),\n",
       " (-0.01622047016508299, 'sex_Male'),\n",
       " (0.016220470165083004, 'sex_Female'),\n",
       " (-0.04320416008156677, 'smoker_Yes'),\n",
       " (0.04320416008156679, 'smoker_No'),\n",
       " (-0.0849596391521835, 'day_Thur'),\n",
       " (0.07729955844188278, 'day_Fri'),\n",
       " (-0.0441588179498218, 'day_Sat'),\n",
       " (0.0518188986601226, 'day_Sun'),\n",
       " (0.03406430053078216, 'time_Lunch'),\n",
       " (-0.034064300530782174, 'time_Dinner')]"
      ]
     },
     "execution_count": 145,
     "metadata": {},
     "output_type": "execute_result"
    }
   ],
   "source": [
    "list(zip(modelim.coef_, sütun_isimleri))"
   ]
  },
  {
   "cell_type": "code",
   "execution_count": 146,
   "metadata": {},
   "outputs": [
    {
     "data": {
      "text/plain": [
       "[<matplotlib.lines.Line2D at 0x12b583198>]"
      ]
     },
     "execution_count": 146,
     "metadata": {},
     "output_type": "execute_result"
    },
    {
     "data": {
      "image/png": "[encoded data removed]",
      "text/plain": [
       "<Figure size 1152x864 with 1 Axes>"
      ]
     },
     "metadata": {
      "needs_background": "light"
     },
     "output_type": "display_data"
    }
   ],
   "source": [
    "plt.figure(figsize=(16,12))\n",
    "plt.plot(sütun_isimleri, modelim.coef_) # np.absolute(modelim.coef_)\n",
    "plt.plot(np.linspace(0,0, 12))"
   ]
  },
  {
   "cell_type": "code",
   "execution_count": null,
   "metadata": {},
   "outputs": [],
   "source": []
  },
  {
   "cell_type": "markdown",
   "metadata": {},
   "source": [
    "# doğrusal olmayan regresyon (polinomal dönüşüm)"
   ]
  },
  {
   "cell_type": "code",
   "execution_count": 147,
   "metadata": {},
   "outputs": [
    {
     "data": {
      "text/plain": [
       "[<matplotlib.lines.Line2D at 0x12aefab70>]"
      ]
     },
     "execution_count": 147,
     "metadata": {},
     "output_type": "execute_result"
    },
    {
     "data": {
      "image/png": "[encoded data removed]",
      "text/plain": [
       "<Figure size 432x288 with 1 Axes>"
      ]
     },
     "metadata": {
      "needs_background": "light"
     },
     "output_type": "display_data"
    }
   ],
   "source": [
    "\n",
    "from sklearn.preprocessing import PolynomialFeatures\n",
    "fiyatlar = [10, 10.1, 10.2, 20, 20.2, 20.5, 40, 40.5, 41, 80, 81, 82]\n",
    "zamanlar = list(range(len(fiyatlar)))\n",
    "\n",
    "fiyatlar = pd.DataFrame(fiyatlar)\n",
    "zamanlar = pd.DataFrame(zamanlar)\n",
    "\n",
    "plt.plot(zamanlar, fiyatlar)"
   ]
  },
  {
   "cell_type": "code",
   "execution_count": 148,
   "metadata": {},
   "outputs": [
    {
     "data": {
      "text/plain": [
       "array([[ 0],\n",
       "       [ 1],\n",
       "       [ 2],\n",
       "       [ 3],\n",
       "       [ 4],\n",
       "       [ 5],\n",
       "       [ 6],\n",
       "       [ 7],\n",
       "       [ 8],\n",
       "       [ 9],\n",
       "       [10],\n",
       "       [11],\n",
       "       [12],\n",
       "       [13],\n",
       "       [14],\n",
       "       [15],\n",
       "       [16],\n",
       "       [17],\n",
       "       [18],\n",
       "       [19],\n",
       "       [20],\n",
       "       [21],\n",
       "       [22],\n",
       "       [23],\n",
       "       [24]])"
      ]
     },
     "execution_count": 148,
     "metadata": {},
     "output_type": "execute_result"
    }
   ],
   "source": [
    "#gelecek_zaman = [[12], [13], [14], [15], [16]]\n",
    "gelecek_zaman = np.arange(25).reshape(-1, 1)\n",
    "gelecek_zaman"
   ]
  },
  {
   "cell_type": "code",
   "execution_count": 149,
   "metadata": {},
   "outputs": [
    {
     "data": {
      "text/plain": [
       "array([[ -2.50512821],\n",
       "       [  4.8518648 ],\n",
       "       [ 12.20885781],\n",
       "       [ 19.56585082],\n",
       "       [ 26.92284382],\n",
       "       [ 34.27983683],\n",
       "       [ 41.63682984],\n",
       "       [ 48.99382284],\n",
       "       [ 56.35081585],\n",
       "       [ 63.70780886],\n",
       "       [ 71.06480186],\n",
       "       [ 78.42179487],\n",
       "       [ 85.77878788],\n",
       "       [ 93.13578089],\n",
       "       [100.49277389],\n",
       "       [107.8497669 ],\n",
       "       [115.20675991],\n",
       "       [122.56375291],\n",
       "       [129.92074592],\n",
       "       [137.27773893],\n",
       "       [144.63473193],\n",
       "       [151.99172494],\n",
       "       [159.34871795],\n",
       "       [166.70571096],\n",
       "       [174.06270396]])"
      ]
     },
     "execution_count": 149,
     "metadata": {},
     "output_type": "execute_result"
    }
   ],
   "source": [
    "# model\n",
    "regresyon_1 = linear_model.LinearRegression()\n",
    "\n",
    "# eğitim\n",
    "regresyon_1.fit(zamanlar, fiyatlar)\n",
    "\n",
    "# tahminleme\n",
    "tahmin1 = regresyon_1.predict(gelecek_zaman)\n",
    "tahmin1"
   ]
  },
  {
   "cell_type": "code",
   "execution_count": 150,
   "metadata": {},
   "outputs": [
    {
     "data": {
      "text/plain": [
       "array([[7.35699301]])"
      ]
     },
     "execution_count": 150,
     "metadata": {},
     "output_type": "execute_result"
    }
   ],
   "source": [
    "regresyon_1.coef_"
   ]
  },
  {
   "cell_type": "code",
   "execution_count": 151,
   "metadata": {},
   "outputs": [
    {
     "name": "stdout",
     "output_type": "stream",
     "text": [
      "[[  1.   0.   0.]\n",
      " [  1.   1.   1.]\n",
      " [  1.   2.   4.]\n",
      " [  1.   3.   9.]\n",
      " [  1.   4.  16.]\n",
      " [  1.   5.  25.]\n",
      " [  1.   6.  36.]\n",
      " [  1.   7.  49.]\n",
      " [  1.   8.  64.]\n",
      " [  1.   9.  81.]\n",
      " [  1.  10. 100.]\n",
      " [  1.  11. 121.]]\n",
      "\n",
      "tahmin edilecek veri:\n",
      "[[ 0]\n",
      " [ 1]\n",
      " [ 2]\n",
      " [ 3]\n",
      " [ 4]\n",
      " [ 5]\n",
      " [ 6]\n",
      " [ 7]\n",
      " [ 8]\n",
      " [ 9]\n",
      " [10]\n",
      " [11]\n",
      " [12]\n",
      " [13]\n",
      " [14]\n",
      " [15]\n",
      " [16]\n",
      " [17]\n",
      " [18]\n",
      " [19]\n",
      " [20]\n",
      " [21]\n",
      " [22]\n",
      " [23]\n",
      " [24]]\n",
      "\n",
      "tahmin edilecek verinin yeni hali (2. derece):\n",
      "[[  1.   0.   0.]\n",
      " [  1.   1.   1.]\n",
      " [  1.   2.   4.]\n",
      " [  1.   3.   9.]\n",
      " [  1.   4.  16.]\n",
      " [  1.   5.  25.]\n",
      " [  1.   6.  36.]\n",
      " [  1.   7.  49.]\n",
      " [  1.   8.  64.]\n",
      " [  1.   9.  81.]\n",
      " [  1.  10. 100.]\n",
      " [  1.  11. 121.]\n",
      " [  1.  12. 144.]\n",
      " [  1.  13. 169.]\n",
      " [  1.  14. 196.]\n",
      " [  1.  15. 225.]\n",
      " [  1.  16. 256.]\n",
      " [  1.  17. 289.]\n",
      " [  1.  18. 324.]\n",
      " [  1.  19. 361.]\n",
      " [  1.  20. 400.]\n",
      " [  1.  21. 441.]\n",
      " [  1.  22. 484.]\n",
      " [  1.  23. 529.]\n",
      " [  1.  24. 576.]]\n"
     ]
    }
   ],
   "source": [
    "dönüştürücü = PolynomialFeatures(degree=2)\n",
    "#print(dönüştürücü, type(dönüştürücü))\n",
    "\n",
    "yeni_x = dönüştürücü.fit_transform(zamanlar) # 1.\n",
    "print(yeni_x)\n",
    "print()\n",
    "\n",
    "# eğitildi\n",
    "regresyon_2 = linear_model.LinearRegression()\n",
    "regresyon_2.fit(yeni_x, fiyatlar) # x^ için değişti , y aynı\n",
    "\n",
    "# tahmin\n",
    "yeni_zaman_2 = dönüştürücü.fit_transform(gelecek_zaman) #2.\n",
    "print(\"tahmin edilecek veri:\")\n",
    "print(gelecek_zaman)\n",
    "print()\n",
    "print(\"tahmin edilecek verinin yeni hali (2. derece):\")\n",
    "print(yeni_zaman_2)"
   ]
  },
  {
   "cell_type": "code",
   "execution_count": 152,
   "metadata": {},
   "outputs": [
    {
     "data": {
      "text/plain": [
       "array([[  9.00082418],\n",
       "       [ 10.08184316],\n",
       "       [ 12.41805694],\n",
       "       [ 16.00946553],\n",
       "       [ 20.85606893],\n",
       "       [ 26.95786713],\n",
       "       [ 34.31486014],\n",
       "       [ 42.92704795],\n",
       "       [ 52.79443057],\n",
       "       [ 63.91700799],\n",
       "       [ 76.29478022],\n",
       "       [ 89.92774725],\n",
       "       [104.81590909],\n",
       "       [120.95926573],\n",
       "       [138.35781718],\n",
       "       [157.01156344],\n",
       "       [176.9205045 ],\n",
       "       [198.08464036],\n",
       "       [220.50397103],\n",
       "       [244.1784965 ],\n",
       "       [269.10821678],\n",
       "       [295.29313187],\n",
       "       [322.73324176],\n",
       "       [351.42854645],\n",
       "       [381.37904595]])"
      ]
     },
     "execution_count": 152,
     "metadata": {},
     "output_type": "execute_result"
    }
   ],
   "source": [
    "tahmin2 = regresyon_2.predict(yeni_zaman_2)\n",
    "tahmin2"
   ]
  },
  {
   "cell_type": "code",
   "execution_count": 153,
   "metadata": {},
   "outputs": [
    {
     "data": {
      "text/plain": [
       "array([[0.        , 0.45342158, 0.6275974 ]])"
      ]
     },
     "execution_count": 153,
     "metadata": {},
     "output_type": "execute_result"
    }
   ],
   "source": [
    "regresyon_2.coef_"
   ]
  },
  {
   "cell_type": "code",
   "execution_count": 154,
   "metadata": {},
   "outputs": [
    {
     "data": {
      "text/plain": [
       "array([[ 11.24249084],\n",
       "       [  9.87805528],\n",
       "       [ 10.99154179],\n",
       "       [ 14.31123321],\n",
       "       [ 19.56541237],\n",
       "       [ 26.48236208],\n",
       "       [ 34.79036519],\n",
       "       [ 44.21770452],\n",
       "       [ 54.49266289],\n",
       "       [ 65.34352314],\n",
       "       [ 76.4985681 ],\n",
       "       [ 87.68608059],\n",
       "       [ 98.63434343],\n",
       "       [109.07163947],\n",
       "       [118.72625153],\n",
       "       [127.32646243],\n",
       "       [134.600555  ],\n",
       "       [140.27681208],\n",
       "       [144.08351648],\n",
       "       [145.74895105],\n",
       "       [145.0013986 ],\n",
       "       [141.56914197],\n",
       "       [135.18046398],\n",
       "       [125.56364746],\n",
       "       [112.44697525]])"
      ]
     },
     "execution_count": 154,
     "metadata": {},
     "output_type": "execute_result"
    }
   ],
   "source": [
    "#3. derece regresyon tahmini\n",
    "dönüştürücü_3 = PolynomialFeatures(degree=3)\n",
    "\n",
    "# eğitim için gerekli input hazırlanıyor\n",
    "yeni_zaman_3 = dönüştürücü_3.fit_transform(zamanlar)\n",
    "\n",
    "# eğitim\n",
    "regresyon_3 = linear_model.LinearRegression()\n",
    "regresyon_3.fit(yeni_zaman_3, fiyatlar)\n",
    "\n",
    "# tahmin için gerekli input (x) hazırlanıyor\n",
    "yeni_zaman_3 = dönüştürücü_3.fit_transform(gelecek_zaman)\n",
    "\n",
    "tahmin3 = regresyon_3.predict(yeni_zaman_3)\n",
    "tahmin3"
   ]
  },
  {
   "cell_type": "code",
   "execution_count": 155,
   "metadata": {},
   "outputs": [
    {
     "data": {
      "text/plain": [
       "array([[ 0.        , -2.69396899,  1.37481962, -0.0452862 ]])"
      ]
     },
     "execution_count": 155,
     "metadata": {},
     "output_type": "execute_result"
    }
   ],
   "source": [
    "regresyon_3.coef_"
   ]
  },
  {
   "cell_type": "code",
   "execution_count": 40,
   "metadata": {},
   "outputs": [
    {
     "data": {
      "image/png": "[encoded data removed]",
      "text/plain": [
       "<Figure size 1152x864 with 1 Axes>"
      ]
     },
     "metadata": {
      "needs_background": "light"
     },
     "output_type": "display_data"
    }
   ],
   "source": [
    "plt.figure(figsize=(16,12))\n",
    "plt.plot(zamanlar, fiyatlar)\n",
    "plt.plot(gelecek_zaman, tahmin1, color=\"red\", label=\"lineer\") # doğrusal tahmin gelecek 5 ay\n",
    "plt.plot(gelecek_zaman, tahmin2, color=\"green\", label=\"2.derece\") # eğrisel 2. derece\n",
    "plt.plot(gelecek_zaman, tahmin3, color=\"black\", label=\"3.derece\") # eğrisel 3. derece\n",
    "plt.legend()\n",
    "plt.show()"
   ]
  },
  {
   "cell_type": "code",
   "execution_count": null,
   "metadata": {},
   "outputs": [],
   "source": []
  },
  {
   "cell_type": "code",
   "execution_count": null,
   "metadata": {},
   "outputs": [],
   "source": []
  },
  {
   "cell_type": "code",
   "execution_count": 156,
   "metadata": {},
   "outputs": [
    {
     "data": {
      "text/plain": [
       "{'data': array([[   8.3252    ,   41.        ,    6.98412698, ...,    2.55555556,\n",
       "           37.88      , -122.23      ],\n",
       "        [   8.3014    ,   21.        ,    6.23813708, ...,    2.10984183,\n",
       "           37.86      , -122.22      ],\n",
       "        [   7.2574    ,   52.        ,    8.28813559, ...,    2.80225989,\n",
       "           37.85      , -122.24      ],\n",
       "        ...,\n",
       "        [   1.7       ,   17.        ,    5.20554273, ...,    2.3256351 ,\n",
       "           39.43      , -121.22      ],\n",
       "        [   1.8672    ,   18.        ,    5.32951289, ...,    2.12320917,\n",
       "           39.43      , -121.32      ],\n",
       "        [   2.3886    ,   16.        ,    5.25471698, ...,    2.61698113,\n",
       "           39.37      , -121.24      ]]),\n",
       " 'target': array([4.526, 3.585, 3.521, ..., 0.923, 0.847, 0.894]),\n",
       " 'frame': None,\n",
       " 'target_names': ['MedHouseVal'],\n",
       " 'feature_names': ['MedInc',\n",
       "  'HouseAge',\n",
       "  'AveRooms',\n",
       "  'AveBedrms',\n",
       "  'Population',\n",
       "  'AveOccup',\n",
       "  'Latitude',\n",
       "  'Longitude'],\n",
       " 'DESCR': '.. _california_housing_dataset:\\n\\nCalifornia Housing dataset\\n--------------------------\\n\\n**Data Set Characteristics:**\\n\\n    :Number of Instances: 20640\\n\\n    :Number of Attributes: 8 numeric, predictive attributes and the target\\n\\n    :Attribute Information:\\n        - MedInc        median income in block\\n        - HouseAge      median house age in block\\n        - AveRooms      average number of rooms\\n        - AveBedrms     average number of bedrooms\\n        - Population    block population\\n        - AveOccup      average house occupancy\\n        - Latitude      house block latitude\\n        - Longitude     house block longitude\\n\\n    :Missing Attribute Values: None\\n\\nThis dataset was obtained from the StatLib repository.\\nhttp://lib.stat.cmu.edu/datasets/\\n\\nThe target variable is the median house value for California districts.\\n\\nThis dataset was derived from the 1990 U.S. census, using one row per census\\nblock group. A block group is the smallest geographical unit for which the U.S.\\nCensus Bureau publishes sample data (a block group typically has a population\\nof 600 to 3,000 people).\\n\\nIt can be downloaded/loaded using the\\n:func:`sklearn.datasets.fetch_california_housing` function.\\n\\n.. topic:: References\\n\\n    - Pace, R. Kelley and Ronald Barry, Sparse Spatial Autoregressions,\\n      Statistics and Probability Letters, 33 (1997) 291-297\\n'}"
      ]
     },
     "execution_count": 156,
     "metadata": {},
     "output_type": "execute_result"
    }
   ],
   "source": [
    "from sklearn import datasets\n",
    "\n",
    "df = datasets.fetch_california_housing()\n",
    "df"
   ]
  },
  {
   "cell_type": "code",
   "execution_count": 157,
   "metadata": {},
   "outputs": [
    {
     "name": "stdout",
     "output_type": "stream",
     "text": [
      ".. _california_housing_dataset:\n",
      "\n",
      "California Housing dataset\n",
      "--------------------------\n",
      "\n",
      "**Data Set Characteristics:**\n",
      "\n",
      "    :Number of Instances: 20640\n",
      "\n",
      "    :Number of Attributes: 8 numeric, predictive attributes and the target\n",
      "\n",
      "    :Attribute Information:\n",
      "        - MedInc        median income in block\n",
      "        - HouseAge      median house age in block\n",
      "        - AveRooms      average number of rooms\n",
      "        - AveBedrms     average number of bedrooms\n",
      "        - Population    block population\n",
      "        - AveOccup      average house occupancy\n",
      "        - Latitude      house block latitude\n",
      "        - Longitude     house block longitude\n",
      "\n",
      "    :Missing Attribute Values: None\n",
      "\n",
      "This dataset was obtained from the StatLib repository.\n",
      "http://lib.stat.cmu.edu/datasets/\n",
      "\n",
      "The target variable is the median house value for California districts.\n",
      "\n",
      "This dataset was derived from the 1990 U.S. census, using one row per census\n",
      "block group. A block group is the smallest geographical unit for which the U.S.\n",
      "Census Bureau publishes sample data (a block group typically has a population\n",
      "of 600 to 3,000 people).\n",
      "\n",
      "It can be downloaded/loaded using the\n",
      ":func:`sklearn.datasets.fetch_california_housing` function.\n",
      "\n",
      ".. topic:: References\n",
      "\n",
      "    - Pace, R. Kelley and Ronald Barry, Sparse Spatial Autoregressions,\n",
      "      Statistics and Probability Letters, 33 (1997) 291-297\n",
      "\n"
     ]
    }
   ],
   "source": [
    "print(df.DESCR)"
   ]
  },
  {
   "cell_type": "code",
   "execution_count": 158,
   "metadata": {},
   "outputs": [
    {
     "data": {
      "text/html": [
       "<div>\n",
       "<style scoped>\n",
       "    .dataframe tbody tr th:only-of-type {\n",
       "        vertical-align: middle;\n",
       "    }\n",
       "\n",
       "    .dataframe tbody tr th {\n",
       "        vertical-align: top;\n",
       "    }\n",
       "\n",
       "    .dataframe thead th {\n",
       "        text-align: right;\n",
       "    }\n",
       "</style>\n",
       "<table border=\"1\" class=\"dataframe\">\n",
       "  <thead>\n",
       "    <tr style=\"text-align: right;\">\n",
       "      <th></th>\n",
       "      <th>MedInc</th>\n",
       "      <th>HouseAge</th>\n",
       "      <th>AveRooms</th>\n",
       "      <th>AveBedrooms</th>\n",
       "      <th>Population</th>\n",
       "      <th>AveOccup</th>\n",
       "      <th>Lat</th>\n",
       "      <th>Long</th>\n",
       "    </tr>\n",
       "  </thead>\n",
       "  <tbody>\n",
       "    <tr>\n",
       "      <th>0</th>\n",
       "      <td>8.3252</td>\n",
       "      <td>41.0</td>\n",
       "      <td>6.984127</td>\n",
       "      <td>1.023810</td>\n",
       "      <td>322.0</td>\n",
       "      <td>2.555556</td>\n",
       "      <td>37.88</td>\n",
       "      <td>-122.23</td>\n",
       "    </tr>\n",
       "    <tr>\n",
       "      <th>1</th>\n",
       "      <td>8.3014</td>\n",
       "      <td>21.0</td>\n",
       "      <td>6.238137</td>\n",
       "      <td>0.971880</td>\n",
       "      <td>2401.0</td>\n",
       "      <td>2.109842</td>\n",
       "      <td>37.86</td>\n",
       "      <td>-122.22</td>\n",
       "    </tr>\n",
       "    <tr>\n",
       "      <th>2</th>\n",
       "      <td>7.2574</td>\n",
       "      <td>52.0</td>\n",
       "      <td>8.288136</td>\n",
       "      <td>1.073446</td>\n",
       "      <td>496.0</td>\n",
       "      <td>2.802260</td>\n",
       "      <td>37.85</td>\n",
       "      <td>-122.24</td>\n",
       "    </tr>\n",
       "    <tr>\n",
       "      <th>3</th>\n",
       "      <td>5.6431</td>\n",
       "      <td>52.0</td>\n",
       "      <td>5.817352</td>\n",
       "      <td>1.073059</td>\n",
       "      <td>558.0</td>\n",
       "      <td>2.547945</td>\n",
       "      <td>37.85</td>\n",
       "      <td>-122.25</td>\n",
       "    </tr>\n",
       "    <tr>\n",
       "      <th>4</th>\n",
       "      <td>3.8462</td>\n",
       "      <td>52.0</td>\n",
       "      <td>6.281853</td>\n",
       "      <td>1.081081</td>\n",
       "      <td>565.0</td>\n",
       "      <td>2.181467</td>\n",
       "      <td>37.85</td>\n",
       "      <td>-122.25</td>\n",
       "    </tr>\n",
       "    <tr>\n",
       "      <th>...</th>\n",
       "      <td>...</td>\n",
       "      <td>...</td>\n",
       "      <td>...</td>\n",
       "      <td>...</td>\n",
       "      <td>...</td>\n",
       "      <td>...</td>\n",
       "      <td>...</td>\n",
       "      <td>...</td>\n",
       "    </tr>\n",
       "    <tr>\n",
       "      <th>20635</th>\n",
       "      <td>1.5603</td>\n",
       "      <td>25.0</td>\n",
       "      <td>5.045455</td>\n",
       "      <td>1.133333</td>\n",
       "      <td>845.0</td>\n",
       "      <td>2.560606</td>\n",
       "      <td>39.48</td>\n",
       "      <td>-121.09</td>\n",
       "    </tr>\n",
       "    <tr>\n",
       "      <th>20636</th>\n",
       "      <td>2.5568</td>\n",
       "      <td>18.0</td>\n",
       "      <td>6.114035</td>\n",
       "      <td>1.315789</td>\n",
       "      <td>356.0</td>\n",
       "      <td>3.122807</td>\n",
       "      <td>39.49</td>\n",
       "      <td>-121.21</td>\n",
       "    </tr>\n",
       "    <tr>\n",
       "      <th>20637</th>\n",
       "      <td>1.7000</td>\n",
       "      <td>17.0</td>\n",
       "      <td>5.205543</td>\n",
       "      <td>1.120092</td>\n",
       "      <td>1007.0</td>\n",
       "      <td>2.325635</td>\n",
       "      <td>39.43</td>\n",
       "      <td>-121.22</td>\n",
       "    </tr>\n",
       "    <tr>\n",
       "      <th>20638</th>\n",
       "      <td>1.8672</td>\n",
       "      <td>18.0</td>\n",
       "      <td>5.329513</td>\n",
       "      <td>1.171920</td>\n",
       "      <td>741.0</td>\n",
       "      <td>2.123209</td>\n",
       "      <td>39.43</td>\n",
       "      <td>-121.32</td>\n",
       "    </tr>\n",
       "    <tr>\n",
       "      <th>20639</th>\n",
       "      <td>2.3886</td>\n",
       "      <td>16.0</td>\n",
       "      <td>5.254717</td>\n",
       "      <td>1.162264</td>\n",
       "      <td>1387.0</td>\n",
       "      <td>2.616981</td>\n",
       "      <td>39.37</td>\n",
       "      <td>-121.24</td>\n",
       "    </tr>\n",
       "  </tbody>\n",
       "</table>\n",
       "<p>20640 rows × 8 columns</p>\n",
       "</div>"
      ],
      "text/plain": [
       "       MedInc  HouseAge  AveRooms  AveBedrooms  Population  AveOccup    Lat  \\\n",
       "0      8.3252      41.0  6.984127     1.023810       322.0  2.555556  37.88   \n",
       "1      8.3014      21.0  6.238137     0.971880      2401.0  2.109842  37.86   \n",
       "2      7.2574      52.0  8.288136     1.073446       496.0  2.802260  37.85   \n",
       "3      5.6431      52.0  5.817352     1.073059       558.0  2.547945  37.85   \n",
       "4      3.8462      52.0  6.281853     1.081081       565.0  2.181467  37.85   \n",
       "...       ...       ...       ...          ...         ...       ...    ...   \n",
       "20635  1.5603      25.0  5.045455     1.133333       845.0  2.560606  39.48   \n",
       "20636  2.5568      18.0  6.114035     1.315789       356.0  3.122807  39.49   \n",
       "20637  1.7000      17.0  5.205543     1.120092      1007.0  2.325635  39.43   \n",
       "20638  1.8672      18.0  5.329513     1.171920       741.0  2.123209  39.43   \n",
       "20639  2.3886      16.0  5.254717     1.162264      1387.0  2.616981  39.37   \n",
       "\n",
       "         Long  \n",
       "0     -122.23  \n",
       "1     -122.22  \n",
       "2     -122.24  \n",
       "3     -122.25  \n",
       "4     -122.25  \n",
       "...       ...  \n",
       "20635 -121.09  \n",
       "20636 -121.21  \n",
       "20637 -121.22  \n",
       "20638 -121.32  \n",
       "20639 -121.24  \n",
       "\n",
       "[20640 rows x 8 columns]"
      ]
     },
     "execution_count": 158,
     "metadata": {},
     "output_type": "execute_result"
    }
   ],
   "source": [
    "X = pd.DataFrame(df.data, columns=[\"MedInc\", \"HouseAge\", \"AveRooms\", \"AveBedrooms\", \"Population\", \"AveOccup\", \"Lat\", \"Long\"])\n",
    "X"
   ]
  },
  {
   "cell_type": "code",
   "execution_count": 159,
   "metadata": {},
   "outputs": [
    {
     "data": {
      "text/plain": [
       "array([4.526, 3.585, 3.521, ..., 0.923, 0.847, 0.894])"
      ]
     },
     "execution_count": 159,
     "metadata": {},
     "output_type": "execute_result"
    }
   ],
   "source": [
    "Y = df[\"target\"]\n",
    "Y"
   ]
  },
  {
   "cell_type": "code",
   "execution_count": 160,
   "metadata": {},
   "outputs": [
    {
     "data": {
      "text/plain": [
       "<seaborn.axisgrid.PairGrid at 0x12eede5f8>"
      ]
     },
     "execution_count": 160,
     "metadata": {},
     "output_type": "execute_result"
    },
    {
     "data": {
      "image/png": "[encoded data removed]",
      "text/plain": [
       "<Figure size 1440x1440 with 72 Axes>"
      ]
     },
     "metadata": {
      "needs_background": "light"
     },
     "output_type": "display_data"
    }
   ],
   "source": [
    "sns.pairplot(X[::50], kind=\"reg\")"
   ]
  },
  {
   "cell_type": "code",
   "execution_count": 161,
   "metadata": {},
   "outputs": [
    {
     "data": {
      "text/html": [
       "<div>\n",
       "<style scoped>\n",
       "    .dataframe tbody tr th:only-of-type {\n",
       "        vertical-align: middle;\n",
       "    }\n",
       "\n",
       "    .dataframe tbody tr th {\n",
       "        vertical-align: top;\n",
       "    }\n",
       "\n",
       "    .dataframe thead th {\n",
       "        text-align: right;\n",
       "    }\n",
       "</style>\n",
       "<table border=\"1\" class=\"dataframe\">\n",
       "  <thead>\n",
       "    <tr style=\"text-align: right;\">\n",
       "      <th></th>\n",
       "      <th>MedInc</th>\n",
       "      <th>HouseAge</th>\n",
       "      <th>AveRooms</th>\n",
       "      <th>AveBedrooms</th>\n",
       "      <th>Population</th>\n",
       "      <th>AveOccup</th>\n",
       "      <th>Lat</th>\n",
       "      <th>Long</th>\n",
       "      <th>price</th>\n",
       "    </tr>\n",
       "  </thead>\n",
       "  <tbody>\n",
       "    <tr>\n",
       "      <th>0</th>\n",
       "      <td>8.3252</td>\n",
       "      <td>41.0</td>\n",
       "      <td>6.984127</td>\n",
       "      <td>1.023810</td>\n",
       "      <td>322.0</td>\n",
       "      <td>2.555556</td>\n",
       "      <td>37.88</td>\n",
       "      <td>-122.23</td>\n",
       "      <td>4.526</td>\n",
       "    </tr>\n",
       "    <tr>\n",
       "      <th>1</th>\n",
       "      <td>8.3014</td>\n",
       "      <td>21.0</td>\n",
       "      <td>6.238137</td>\n",
       "      <td>0.971880</td>\n",
       "      <td>2401.0</td>\n",
       "      <td>2.109842</td>\n",
       "      <td>37.86</td>\n",
       "      <td>-122.22</td>\n",
       "      <td>3.585</td>\n",
       "    </tr>\n",
       "    <tr>\n",
       "      <th>2</th>\n",
       "      <td>7.2574</td>\n",
       "      <td>52.0</td>\n",
       "      <td>8.288136</td>\n",
       "      <td>1.073446</td>\n",
       "      <td>496.0</td>\n",
       "      <td>2.802260</td>\n",
       "      <td>37.85</td>\n",
       "      <td>-122.24</td>\n",
       "      <td>3.521</td>\n",
       "    </tr>\n",
       "    <tr>\n",
       "      <th>3</th>\n",
       "      <td>5.6431</td>\n",
       "      <td>52.0</td>\n",
       "      <td>5.817352</td>\n",
       "      <td>1.073059</td>\n",
       "      <td>558.0</td>\n",
       "      <td>2.547945</td>\n",
       "      <td>37.85</td>\n",
       "      <td>-122.25</td>\n",
       "      <td>3.413</td>\n",
       "    </tr>\n",
       "    <tr>\n",
       "      <th>4</th>\n",
       "      <td>3.8462</td>\n",
       "      <td>52.0</td>\n",
       "      <td>6.281853</td>\n",
       "      <td>1.081081</td>\n",
       "      <td>565.0</td>\n",
       "      <td>2.181467</td>\n",
       "      <td>37.85</td>\n",
       "      <td>-122.25</td>\n",
       "      <td>3.422</td>\n",
       "    </tr>\n",
       "    <tr>\n",
       "      <th>...</th>\n",
       "      <td>...</td>\n",
       "      <td>...</td>\n",
       "      <td>...</td>\n",
       "      <td>...</td>\n",
       "      <td>...</td>\n",
       "      <td>...</td>\n",
       "      <td>...</td>\n",
       "      <td>...</td>\n",
       "      <td>...</td>\n",
       "    </tr>\n",
       "    <tr>\n",
       "      <th>20635</th>\n",
       "      <td>1.5603</td>\n",
       "      <td>25.0</td>\n",
       "      <td>5.045455</td>\n",
       "      <td>1.133333</td>\n",
       "      <td>845.0</td>\n",
       "      <td>2.560606</td>\n",
       "      <td>39.48</td>\n",
       "      <td>-121.09</td>\n",
       "      <td>0.781</td>\n",
       "    </tr>\n",
       "    <tr>\n",
       "      <th>20636</th>\n",
       "      <td>2.5568</td>\n",
       "      <td>18.0</td>\n",
       "      <td>6.114035</td>\n",
       "      <td>1.315789</td>\n",
       "      <td>356.0</td>\n",
       "      <td>3.122807</td>\n",
       "      <td>39.49</td>\n",
       "      <td>-121.21</td>\n",
       "      <td>0.771</td>\n",
       "    </tr>\n",
       "    <tr>\n",
       "      <th>20637</th>\n",
       "      <td>1.7000</td>\n",
       "      <td>17.0</td>\n",
       "      <td>5.205543</td>\n",
       "      <td>1.120092</td>\n",
       "      <td>1007.0</td>\n",
       "      <td>2.325635</td>\n",
       "      <td>39.43</td>\n",
       "      <td>-121.22</td>\n",
       "      <td>0.923</td>\n",
       "    </tr>\n",
       "    <tr>\n",
       "      <th>20638</th>\n",
       "      <td>1.8672</td>\n",
       "      <td>18.0</td>\n",
       "      <td>5.329513</td>\n",
       "      <td>1.171920</td>\n",
       "      <td>741.0</td>\n",
       "      <td>2.123209</td>\n",
       "      <td>39.43</td>\n",
       "      <td>-121.32</td>\n",
       "      <td>0.847</td>\n",
       "    </tr>\n",
       "    <tr>\n",
       "      <th>20639</th>\n",
       "      <td>2.3886</td>\n",
       "      <td>16.0</td>\n",
       "      <td>5.254717</td>\n",
       "      <td>1.162264</td>\n",
       "      <td>1387.0</td>\n",
       "      <td>2.616981</td>\n",
       "      <td>39.37</td>\n",
       "      <td>-121.24</td>\n",
       "      <td>0.894</td>\n",
       "    </tr>\n",
       "  </tbody>\n",
       "</table>\n",
       "<p>20640 rows × 9 columns</p>\n",
       "</div>"
      ],
      "text/plain": [
       "       MedInc  HouseAge  AveRooms  AveBedrooms  Population  AveOccup    Lat  \\\n",
       "0      8.3252      41.0  6.984127     1.023810       322.0  2.555556  37.88   \n",
       "1      8.3014      21.0  6.238137     0.971880      2401.0  2.109842  37.86   \n",
       "2      7.2574      52.0  8.288136     1.073446       496.0  2.802260  37.85   \n",
       "3      5.6431      52.0  5.817352     1.073059       558.0  2.547945  37.85   \n",
       "4      3.8462      52.0  6.281853     1.081081       565.0  2.181467  37.85   \n",
       "...       ...       ...       ...          ...         ...       ...    ...   \n",
       "20635  1.5603      25.0  5.045455     1.133333       845.0  2.560606  39.48   \n",
       "20636  2.5568      18.0  6.114035     1.315789       356.0  3.122807  39.49   \n",
       "20637  1.7000      17.0  5.205543     1.120092      1007.0  2.325635  39.43   \n",
       "20638  1.8672      18.0  5.329513     1.171920       741.0  2.123209  39.43   \n",
       "20639  2.3886      16.0  5.254717     1.162264      1387.0  2.616981  39.37   \n",
       "\n",
       "         Long  price  \n",
       "0     -122.23  4.526  \n",
       "1     -122.22  3.585  \n",
       "2     -122.24  3.521  \n",
       "3     -122.25  3.413  \n",
       "4     -122.25  3.422  \n",
       "...       ...    ...  \n",
       "20635 -121.09  0.781  \n",
       "20636 -121.21  0.771  \n",
       "20637 -121.22  0.923  \n",
       "20638 -121.32  0.847  \n",
       "20639 -121.24  0.894  \n",
       "\n",
       "[20640 rows x 9 columns]"
      ]
     },
     "execution_count": 161,
     "metadata": {},
     "output_type": "execute_result"
    }
   ],
   "source": [
    "tüm = pd.DataFrame(X.copy())\n",
    "tüm['price'] = Y\n",
    "tüm"
   ]
  },
  {
   "cell_type": "code",
   "execution_count": 162,
   "metadata": {},
   "outputs": [],
   "source": [
    "from sklearn.linear_model import Ridge, LinearRegression, Lasso, ElasticNet\n",
    "from sklearn.model_selection import train_test_split"
   ]
  },
  {
   "cell_type": "code",
   "execution_count": 164,
   "metadata": {},
   "outputs": [],
   "source": [
    "x_tr, x_test, y_tr, y_test = train_test_split(X, Y, test_size=0.2, random_state=8)"
   ]
  },
  {
   "cell_type": "code",
   "execution_count": 165,
   "metadata": {},
   "outputs": [
    {
     "data": {
      "text/plain": [
       "Ridge()"
      ]
     },
     "execution_count": 165,
     "metadata": {},
     "output_type": "execute_result"
    }
   ],
   "source": [
    "ridge_model = Ridge(alpha=1.0)\n",
    "ridge_model.fit(x_tr, y_tr)\n",
    "ridge_model"
   ]
  },
  {
   "cell_type": "code",
   "execution_count": 167,
   "metadata": {},
   "outputs": [
    {
     "name": "stdout",
     "output_type": "stream",
     "text": [
      "0.6179212072163108\n"
     ]
    }
   ],
   "source": [
    "\n",
    "#ridge_model.predict(X_test)\n",
    "\n",
    "print(ridge_model.score(x_test, y_test))\n",
    "\n",
    "ridge_tah = ridge_model.predict(x_test)\n",
    "#ridge_tah"
   ]
  },
  {
   "cell_type": "code",
   "execution_count": 168,
   "metadata": {},
   "outputs": [
    {
     "data": {
      "text/plain": [
       "0.5015655705340079"
      ]
     },
     "execution_count": 168,
     "metadata": {},
     "output_type": "execute_result"
    }
   ],
   "source": [
    "metrics.mean_squared_error(y_test, ridge_tah)"
   ]
  },
  {
   "cell_type": "code",
   "execution_count": 53,
   "metadata": {},
   "outputs": [
    {
     "data": {
      "text/plain": [
       "2.068558169089147"
      ]
     },
     "execution_count": 53,
     "metadata": {},
     "output_type": "execute_result"
    }
   ],
   "source": [
    "np.mean(Y)"
   ]
  },
  {
   "cell_type": "code",
   "execution_count": 169,
   "metadata": {},
   "outputs": [
    {
     "data": {
      "text/plain": [
       "0.5267030044502627"
      ]
     },
     "execution_count": 169,
     "metadata": {},
     "output_type": "execute_result"
    }
   ],
   "source": [
    "metrics.mean_absolute_error(y_test, ridge_tah)"
   ]
  },
  {
   "cell_type": "code",
   "execution_count": 170,
   "metadata": {},
   "outputs": [
    {
     "data": {
      "text/plain": [
       "0.5019071034763907"
      ]
     },
     "execution_count": 170,
     "metadata": {},
     "output_type": "execute_result"
    }
   ],
   "source": [
    "ridge_model.set_params(alpha=20)\n",
    "ridge_model.fit(x_tr, y_tr)\n",
    "\n",
    "ridge_tah = ridge_model.predict(x_test)\n",
    "metrics.mean_squared_error(y_test, ridge_tah)"
   ]
  },
  {
   "cell_type": "code",
   "execution_count": 175,
   "metadata": {},
   "outputs": [
    {
     "name": "stdout",
     "output_type": "stream",
     "text": [
      "-250\n",
      "[ 4.88042926e-01  9.30890531e-03 -2.08000480e-01  1.16379878e+00\n",
      " -5.77967477e-06 -3.58965900e-03 -4.10244476e-01 -4.27419350e-01]\n",
      "0.5031289460777912\n",
      "\n",
      "-240\n",
      "[ 4.83654671e-01  9.34003302e-03 -1.99792657e-01  1.12166978e+00\n",
      " -5.65996080e-06 -3.57559938e-03 -4.11948904e-01 -4.28678408e-01]\n",
      "0.5023369111523888\n",
      "\n",
      "-230\n",
      "[ 4.79584387e-01  9.37026450e-03 -1.92172065e-01  1.08252662e+00\n",
      " -5.54363978e-06 -3.56270033e-03 -4.13457078e-01 -4.29768211e-01]\n",
      "0.5016970064824259\n",
      "\n",
      "-220\n",
      "[ 4.75799230e-01  9.39968196e-03 -1.85078164e-01  1.04606172e+00\n",
      " -5.43039986e-06 -3.55084093e-03 -4.14789771e-01 -4.30706783e-01]\n",
      "0.501184256159089\n",
      "\n",
      "-210\n",
      "[ 4.72270719e-01  9.42835681e-03 -1.78458454e-01  1.01200838e+00\n",
      " -5.31997026e-06 -3.53991631e-03 -4.15964990e-01 -4.31509750e-01]\n",
      "0.5007782103733033\n",
      "\n",
      "-200\n",
      "[ 4.68974036e-01  9.45635135e-03 -1.72267187e-01  9.80134148e-01\n",
      " -5.21211462e-06 -3.52983513e-03 -4.16998425e-01 -4.32190719e-01]\n",
      "0.5004620297647784\n",
      "\n",
      "-190\n",
      "[ 4.65887452e-01  9.48372023e-03 -1.66464310e-01  9.50235556e-01\n",
      " -5.10662572e-06 -3.52051739e-03 -4.17903803e-01 -4.32761603e-01]\n",
      "0.5002217749381982\n",
      "\n",
      "-180\n",
      "[ 4.62991866e-01  9.51051158e-03 -1.61014611e-01  9.22133694e-01\n",
      " -5.00332103e-06 -3.51189282e-03 -4.18693191e-01 -4.33232866e-01]\n",
      "0.5000458507873121\n",
      "\n",
      "-170\n",
      "[ 4.60270416e-01  9.53676798e-03 -1.55887006e-01  8.95670633e-01\n",
      " -4.90203910e-06 -3.50389936e-03 -4.19377236e-01 -4.33613744e-01]\n",
      "0.49992456866809704\n",
      "\n",
      "-160\n",
      "[ 4.57708163e-01  9.56252722e-03 -1.51053952e-01  8.70706432e-01\n",
      " -4.80263658e-06 -3.49648204e-03 -4.19965366e-01 -4.33912413e-01]\n",
      "0.4998497990318315\n",
      "\n",
      "-150\n",
      "[ 4.55291822e-01  9.58782300e-03 -1.46490956e-01  8.47116651e-01\n",
      " -4.70498572e-06 -3.48959200e-03 -4.20465964e-01 -4.34136141e-01]\n",
      "0.4998146940352601\n",
      "\n",
      "-140\n",
      "[ 4.53009539e-01  9.61268545e-03 -1.42176167e-01  8.24790258e-01\n",
      " -4.60897226e-06 -3.48318564e-03 -4.20886502e-01 -4.34291409e-01]\n",
      "0.49981346467862015\n",
      "\n",
      "-130\n",
      "[ 4.50850707e-01  9.63714161e-03 -1.38090025e-01  8.03627875e-01\n",
      " -4.51449364e-06 -3.47722396e-03 -4.21233666e-01 -4.34384011e-01]\n",
      "0.4998412007250909\n",
      "\n",
      "-120\n",
      "[ 4.48805804e-01  9.66121585e-03 -1.34214971e-01  7.83540285e-01\n",
      " -4.42145758e-06 -3.47167195e-03 -4.21513454e-01 -4.34419148e-01]\n",
      "0.49989372440288005\n",
      "\n",
      "-110\n",
      "[ 4.46866257e-01  9.68493013e-03 -1.30535199e-01  7.64447165e-01\n",
      " -4.32978072e-06 -3.46649809e-03 -4.21731263e-01 -4.34401497e-01]\n",
      "0.49996747094683913\n",
      "\n"
     ]
    }
   ],
   "source": [
    "alphalar = [-250, -200, -150, -100, -10, -0.5, 0, 0.005, 0.01, 0.05, 0.1, 0.3, 0.5, 0.8, 1, 10, 20, 100]\n",
    "alphalar = np.arange(-250, -100, 10)\n",
    "mse_ler = []\n",
    "for i in alphalar:\n",
    "    print(i)\n",
    "    ridge_model.set_params(alpha=i)\n",
    "    ridge_model.fit(x_tr, y_tr)\n",
    "    ridge_tah = ridge_model.predict(x_test)\n",
    "    print(ridge_model.coef_)\n",
    "    mse = metrics.mean_squared_error(y_test, ridge_tah)\n",
    "    print(mse)\n",
    "    mse_ler.append(mse)\n",
    "    print()"
   ]
  },
  {
   "cell_type": "code",
   "execution_count": 176,
   "metadata": {},
   "outputs": [
    {
     "data": {
      "text/plain": [
       "[<matplotlib.lines.Line2D at 0x1305d4320>]"
      ]
     },
     "execution_count": 176,
     "metadata": {},
     "output_type": "execute_result"
    },
    {
     "data": {
      "image/png": "[encoded data removed]",
      "text/plain": [
       "<Figure size 432x288 with 1 Axes>"
      ]
     },
     "metadata": {
      "needs_background": "light"
     },
     "output_type": "display_data"
    }
   ],
   "source": [
    "plt.plot(alphalar, mse_ler, marker=\"o\")"
   ]
  },
  {
   "cell_type": "code",
   "execution_count": 177,
   "metadata": {},
   "outputs": [
    {
     "name": "stdout",
     "output_type": "stream",
     "text": [
      "[ 4.46866257e-01  9.68493013e-03 -1.30535199e-01  7.64447165e-01\n",
      " -4.32978072e-06 -3.46649809e-03 -4.21731263e-01 -4.34401497e-01]\n",
      "\n",
      "-36.96676569579309\n",
      "\n",
      "fiyat = -36.96676569579309 + [ 4.46866257e-01  9.68493013e-03 -1.30535199e-01  7.64447165e-01\n",
      " -4.32978072e-06 -3.46649809e-03 -4.21731263e-01 -4.34401497e-01] her bir sütunla çarpılır \n"
     ]
    }
   ],
   "source": [
    "print(ridge_model.coef_)\n",
    "print()\n",
    "print(ridge_model.intercept_)\n",
    "print()\n",
    "print(\"fiyat = {} + {} her bir sütunla çarpılır \".format(ridge_model.intercept_, ridge_model.coef_))"
   ]
  },
  {
   "cell_type": "code",
   "execution_count": 178,
   "metadata": {},
   "outputs": [],
   "source": [
    "# lasso"
   ]
  },
  {
   "cell_type": "code",
   "execution_count": 179,
   "metadata": {},
   "outputs": [
    {
     "data": {
      "text/plain": [
       "0.9421516435990103"
      ]
     },
     "execution_count": 179,
     "metadata": {},
     "output_type": "execute_result"
    }
   ],
   "source": [
    "\"\"\"# Lasso regresyon\"\"\"\n",
    "\n",
    "lasso_model = Lasso()\n",
    "\n",
    "lasso_model.fit(x_tr, y_tr)\n",
    "\n",
    "lasso_tah = lasso_model.predict(x_test)\n",
    "metrics.mean_squared_error(y_test, lasso_tah)"
   ]
  },
  {
   "cell_type": "code",
   "execution_count": 182,
   "metadata": {},
   "outputs": [
    {
     "data": {
      "text/plain": [
       "0.9100403657250329"
      ]
     },
     "execution_count": 182,
     "metadata": {},
     "output_type": "execute_result"
    }
   ],
   "source": [
    "metrics.mean_absolute_error(y_test, lasso_tah)"
   ]
  },
  {
   "cell_type": "code",
   "execution_count": 187,
   "metadata": {},
   "outputs": [
    {
     "name": "stdout",
     "output_type": "stream",
     "text": [
      "-0.5\n",
      "mse: 11.975805193128465\n",
      "[ 2.24416514e+00 -3.31461499e-02 -3.62489390e+00  1.88196740e+01\n",
      " -1.75005758e-04 -1.01293214e-02 -1.07183602e+00 -1.36607211e+00]\n",
      "intercept: -131.50481200006942\n",
      "\n",
      "0.005\n",
      "mse: 0.5055747428993125\n",
      "[ 4.12473946e-01  1.02785669e-02 -6.44233989e-02  4.21193590e-01\n",
      " -1.94349993e-06 -3.35704171e-03 -4.15016158e-01 -4.22750937e-01]\n",
      "intercept: -35.68297396914868\n",
      "\n",
      "0.01\n",
      "mse: 0.5119397196368213\n",
      "[ 3.94240055e-01  1.06304212e-02 -2.91788374e-02  2.38992496e-01\n",
      " -4.93720989e-07 -3.28605650e-03 -4.08883443e-01 -4.13815603e-01]\n",
      "intercept: -34.76634299037528\n",
      "\n",
      "0.05\n",
      "mse: 0.5425516303861161\n",
      "[ 3.82866108e-01  1.27564645e-02  0.00000000e+00  0.00000000e+00\n",
      "  6.92051676e-06 -3.20071841e-03 -2.74960200e-01 -2.69424996e-01]\n",
      "intercept: -22.197098352383374\n",
      "\n",
      "0.1\n",
      "mse: 0.5982543097317911\n",
      "[ 3.88628718e-01  1.55448858e-02 -0.00000000e+00  0.00000000e+00\n",
      "  1.91163367e-05 -3.15087590e-03 -1.09834756e-01 -9.30837910e-02]\n",
      "intercept: -7.114917273681421\n",
      "\n",
      "0.3\n",
      "mse: 0.6738953242640883\n",
      "[ 3.44495734e-01  1.49250128e-02 -0.00000000e+00  0.00000000e+00\n",
      "  2.24322085e-05 -1.62794220e-03 -0.00000000e+00 -0.00000000e+00]\n",
      "intercept: 0.2814938665550295\n",
      "\n",
      "0.5\n",
      "mse: 0.7241559899348499\n",
      "[ 2.87825706e-01  1.23803107e-02  0.00000000e+00 -0.00000000e+00\n",
      "  1.31543149e-05 -0.00000000e+00 -0.00000000e+00 -0.00000000e+00]\n",
      "intercept: 0.5824402873421917\n",
      "\n",
      "0.8\n",
      "mse: 0.83881531951495\n",
      "[ 2.03216174e-01  8.66232817e-03  0.00000000e+00 -0.00000000e+00\n",
      "  1.41977930e-06 -0.00000000e+00 -0.00000000e+00 -0.00000000e+00]\n",
      "intercept: 1.033954860249101\n",
      "\n",
      "1\n",
      "mse: 0.9421516435990103\n",
      "[ 1.46842703e-01  6.22951965e-03  0.00000000e+00 -0.00000000e+00\n",
      " -4.72116322e-06 -0.00000000e+00 -0.00000000e+00 -0.00000000e+00]\n",
      "intercept: 1.3311190443553367\n",
      "\n",
      "10\n",
      "mse: 1.3123687120113954\n",
      "[ 0.00000000e+00  0.00000000e+00  0.00000000e+00 -0.00000000e+00\n",
      " -1.70626108e-05 -0.00000000e+00 -0.00000000e+00 -0.00000000e+00]\n",
      "intercept: 2.0968741331290603\n",
      "\n",
      "50\n",
      "mse: 1.3131111920432355\n",
      "[ 0.  0.  0. -0. -0. -0. -0. -0.]\n",
      "intercept: 2.0724726786579457\n",
      "\n",
      "100\n",
      "mse: 1.3131111920432355\n",
      "[ 0.  0.  0. -0. -0. -0. -0. -0.]\n",
      "intercept: 2.0724726786579457\n",
      "\n",
      "300\n",
      "mse: 1.3131111920432355\n",
      "[ 0.  0.  0. -0. -0. -0. -0. -0.]\n",
      "intercept: 2.0724726786579457\n",
      "\n"
     ]
    }
   ],
   "source": [
    "alphalar = [-0.5, 0.005, 0.01, 0.05, 0.1, 0.3, 0.5, 0.8, 1, 10, 50, 100, 300]\n",
    "#alphalar = [-0.5, -0.1, 0, 0.005, 0.008, 0.01, 0.02, 0.03]\n",
    "lasso_mse_ler = []\n",
    "for i in alphalar:\n",
    "    print(i)\n",
    "    lasso_model.set_params(alpha=i)\n",
    "    lasso_model.fit(x_tr, y_tr)\n",
    "    lasso_tah = lasso_model.predict(x_test)\n",
    "    mse = metrics.mean_squared_error(y_test, lasso_tah)\n",
    "    print(\"mse:\", mse)\n",
    "    lasso_mse_ler.append(mse)\n",
    "    print(lasso_model.coef_)\n",
    "    print(\"intercept:\", lasso_model.intercept_)\n",
    "    print()"
   ]
  },
  {
   "cell_type": "code",
   "execution_count": 188,
   "metadata": {},
   "outputs": [
    {
     "data": {
      "image/png": "[encoded data removed]",
      "text/plain": [
       "<Figure size 1440x720 with 1 Axes>"
      ]
     },
     "metadata": {
      "needs_background": "light"
     },
     "output_type": "display_data"
    }
   ],
   "source": [
    "plt.figure(figsize=(20,10))\n",
    "plt.plot(alphalar, lasso_mse_ler, marker=\"*\")\n",
    "plt.show()\n"
   ]
  },
  {
   "cell_type": "code",
   "execution_count": null,
   "metadata": {},
   "outputs": [],
   "source": []
  },
  {
   "cell_type": "code",
   "execution_count": 192,
   "metadata": {},
   "outputs": [
    {
     "data": {
      "text/plain": [
       "0.7652122890805457"
      ]
     },
     "execution_count": 192,
     "metadata": {},
     "output_type": "execute_result"
    }
   ],
   "source": [
    "\"\"\"# ElasticNet\"\"\"\n",
    "\n",
    "enet_model = ElasticNet()\n",
    "\n",
    "enet_model.fit(x_tr, y_tr)\n",
    "\n",
    "enet_tahmin = enet_model.predict(x_test)\n",
    "metrics.mean_squared_error(y_test, enet_tahmin)"
   ]
  },
  {
   "cell_type": "code",
   "execution_count": 196,
   "metadata": {},
   "outputs": [
    {
     "ename": "ImportError",
     "evalue": "cannot import name 'mean_absolute_percentage_error'",
     "output_type": "error",
     "traceback": [
      "\u001b[0;31m---------------------------------------------------------------------------\u001b[0m",
      "\u001b[0;31mImportError\u001b[0m                               Traceback (most recent call last)",
      "\u001b[0;32m<ipython-input-196-6c95b1f00cdd>\u001b[0m in \u001b[0;36m<module>\u001b[0;34m\u001b[0m\n\u001b[0;32m----> 1\u001b[0;31m \u001b[0;32mfrom\u001b[0m \u001b[0msklearn\u001b[0m\u001b[0;34m.\u001b[0m\u001b[0mmetrics\u001b[0m \u001b[0;32mimport\u001b[0m \u001b[0mmean_absolute_percentage_error\u001b[0m\u001b[0;34m\u001b[0m\u001b[0m\n\u001b[0m",
      "\u001b[0;31mImportError\u001b[0m: cannot import name 'mean_absolute_percentage_error'"
     ]
    }
   ],
   "source": [
    "from sklearn.metrics import mean_absolute_percentage_error"
   ]
  },
  {
   "cell_type": "code",
   "execution_count": 197,
   "metadata": {},
   "outputs": [
    {
     "name": "stdout",
     "output_type": "stream",
     "text": [
      "-0.05\n"
     ]
    },
    {
     "name": "stderr",
     "output_type": "stream",
     "text": [
      "/Library/Frameworks/Python.framework/Versions/3.6/lib/python3.6/site-packages/sklearn/linear_model/_coordinate_descent.py:531: ConvergenceWarning: Objective did not converge. You might want to increase the number of iterations. Duality gap: 11371.080345557006, tolerance: 2.2062991467603803\n",
      "  positive)\n"
     ]
    },
    {
     "name": "stdout",
     "output_type": "stream",
     "text": [
      "0.9534002413913566\n",
      "[ 1.18009056e+00  5.52665703e-03 -1.49585411e+00  7.73392113e+00\n",
      " -2.07184170e-05 -6.10350884e-03 -8.75502721e-02 -1.71038342e-01]\n",
      "\n",
      "-0.04\n"
     ]
    },
    {
     "name": "stderr",
     "output_type": "stream",
     "text": [
      "/Library/Frameworks/Python.framework/Versions/3.6/lib/python3.6/site-packages/sklearn/linear_model/_coordinate_descent.py:531: ConvergenceWarning: Objective did not converge. You might want to increase the number of iterations. Duality gap: 14250.654579778919, tolerance: 2.2062991467603803\n",
      "  positive)\n"
     ]
    },
    {
     "name": "stdout",
     "output_type": "stream",
     "text": [
      "0.6150085052134422\n",
      "[ 7.53346347e-01  7.14042045e-03 -7.05828728e-01  3.71181858e+00\n",
      " -1.44725614e-05 -4.55313451e-03 -3.27407282e-01 -3.72977321e-01]\n",
      "\n",
      "-0.03\n"
     ]
    },
    {
     "name": "stderr",
     "output_type": "stream",
     "text": [
      "/Library/Frameworks/Python.framework/Versions/3.6/lib/python3.6/site-packages/sklearn/linear_model/_coordinate_descent.py:531: ConvergenceWarning: Objective did not converge. You might want to increase the number of iterations. Duality gap: 15536.430943284184, tolerance: 2.2062991467603803\n",
      "  positive)\n"
     ]
    },
    {
     "name": "stdout",
     "output_type": "stream",
     "text": [
      "0.5454835568238172\n",
      "[ 5.95334109e-01  8.06290402e-03 -4.11347592e-01  2.20773368e+00\n",
      " -1.08476780e-05 -3.99031928e-03 -3.98203598e-01 -4.28416656e-01]\n",
      "\n",
      "-0.019999999999999997\n"
     ]
    },
    {
     "name": "stderr",
     "output_type": "stream",
     "text": [
      "/Library/Frameworks/Python.framework/Versions/3.6/lib/python3.6/site-packages/sklearn/linear_model/_coordinate_descent.py:531: ConvergenceWarning: Objective did not converge. You might want to increase the number of iterations. Duality gap: 16362.336875246641, tolerance: 2.2062991467603803\n",
      "  positive)\n"
     ]
    },
    {
     "name": "stdout",
     "output_type": "stream",
     "text": [
      "0.5274970322698813\n",
      "[ 5.13574147e-01  8.77265300e-03 -2.57662719e-01  1.41948081e+00\n",
      " -8.02845692e-06 -3.70604482e-03 -4.21830882e-01 -4.43153106e-01]\n",
      "\n",
      "-0.009999999999999995\n"
     ]
    },
    {
     "name": "stderr",
     "output_type": "stream",
     "text": [
      "/Library/Frameworks/Python.framework/Versions/3.6/lib/python3.6/site-packages/sklearn/linear_model/_coordinate_descent.py:531: ConvergenceWarning: Objective did not converge. You might want to increase the number of iterations. Duality gap: 16989.018057650337, tolerance: 2.2062991467603803\n",
      "  positive)\n"
     ]
    },
    {
     "name": "stdout",
     "output_type": "stream",
     "text": [
      "0.5243214950993362\n",
      "[ 4.63905491e-01  9.38055014e-03 -1.63370908e-01  9.33489412e-01\n",
      " -5.59435898e-06 -3.53774996e-03 -4.26202615e-01 -4.41403244e-01]\n",
      "\n",
      "6.938893903907228e-18\n"
     ]
    },
    {
     "name": "stderr",
     "output_type": "stream",
     "text": [
      "/Library/Frameworks/Python.framework/Versions/3.6/lib/python3.6/site-packages/sklearn/linear_model/_coordinate_descent.py:531: ConvergenceWarning: Objective did not converge. You might want to increase the number of iterations. Duality gap: 4366.2415932585, tolerance: 2.2062991467603803\n",
      "  positive)\n"
     ]
    },
    {
     "name": "stdout",
     "output_type": "stream",
     "text": [
      "0.5266876679226544\n",
      "[ 4.30704894e-01  9.92664602e-03 -9.96637606e-02  6.03377342e-01\n",
      " -3.39354844e-06 -3.42800711e-03 -4.21154489e-01 -4.31691678e-01]\n",
      "\n",
      "0.010000000000000009\n",
      "0.5306639536797025\n",
      "[ 4.07049078e-01  1.04294766e-02 -5.37653629e-02  3.64204167e-01\n",
      " -1.35574946e-06 -3.35145024e-03 -4.11007004e-01 -4.17755373e-01]\n",
      "\n",
      "0.020000000000000004\n",
      "0.5349441238336141\n",
      "[ 3.89452524e-01  1.09004910e-02 -1.92078649e-02  1.82987474e-01\n",
      "  5.47912153e-07 -3.29547060e-03 -3.97810354e-01 -4.01347533e-01]\n",
      "\n",
      "0.030000000000000013\n",
      "0.5383636335130463\n",
      "[ 3.79916843e-01  1.13081757e-02 -0.00000000e+00  7.29378898e-02\n",
      "  2.05862327e-06 -3.26723668e-03 -3.79940803e-01 -3.81041507e-01]\n",
      "\n",
      "0.04000000000000002\n",
      "0.5401985694037703\n",
      "[ 3.80386211e-01  1.16196747e-02  0.00000000e+00  4.55769401e-02\n",
      "  2.86671674e-06 -3.27373572e-03 -3.55642210e-01 -3.55276884e-01]\n",
      "\n",
      "0.05000000000000002\n",
      "0.5430029582387653\n",
      "[ 3.78037311e-01  1.19458422e-02  5.25235404e-03  0.00000000e+00\n",
      "  3.90714611e-06 -3.26798670e-03 -3.34574642e-01 -3.32545238e-01]\n",
      "\n",
      "0.06000000000000001\n",
      "0.5446756398728438\n",
      "[ 3.79608635e-01  1.22516300e-02  2.98206236e-03  0.00000000e+00\n",
      "  5.01749707e-06 -3.27353299e-03 -3.12898821e-01 -3.09627058e-01]\n",
      "\n",
      "0.07000000000000002\n",
      "0.5465207135762767\n",
      "[ 3.81057198e-01  1.25437097e-02  7.81475775e-04  0.00000000e+00\n",
      "  6.07690885e-06 -3.27720517e-03 -2.91982533e-01 -2.87512653e-01]\n",
      "\n",
      "0.08000000000000003\n",
      "0.5486455214097439\n",
      "[ 3.81726319e-01  1.28423767e-02  0.00000000e+00  0.00000000e+00\n",
      "  7.31155964e-06 -3.27626479e-03 -2.72845235e-01 -2.67153345e-01]\n",
      "\n",
      "0.09000000000000001\n",
      "0.5510463661320331\n",
      "[ 3.81942015e-01  1.31397590e-02  0.00000000e+00  0.00000000e+00\n",
      "  8.62204249e-06 -3.27223606e-03 -2.54915482e-01 -2.48003926e-01]\n",
      "\n",
      "0.10000000000000002\n",
      "0.553732578869095\n",
      "[ 3.82090903e-01  1.34255938e-02  0.00000000e+00  0.00000000e+00\n",
      "  9.88350977e-06 -3.26685923e-03 -2.37541702e-01 -2.29448376e-01]\n",
      "\n",
      "0.11000000000000003\n",
      "0.5566432438873307\n",
      "[ 3.82176277e-01  1.37004138e-02  0.00000000e+00  0.00000000e+00\n",
      "  1.10982150e-05 -3.26019711e-03 -2.20698455e-01 -2.11459513e-01]\n",
      "\n",
      "0.12000000000000004\n",
      "0.5597958375406396\n",
      "[ 3.82201256e-01  1.39647232e-02  0.00000000e+00  0.00000000e+00\n",
      "  1.22682941e-05 -3.25230922e-03 -2.04361681e-01 -1.94011642e-01]\n",
      "\n",
      "0.13000000000000006\n",
      "0.5630376746247795\n",
      "[ 3.82168747e-01  1.42189927e-02  0.00000000e+00  0.00000000e+00\n",
      "  1.33957380e-05 -3.24325105e-03 -1.88508903e-01 -1.77080746e-01]\n",
      "\n",
      "0.14\n",
      "0.5663776918451349\n",
      "[ 3.82085991e-01  1.44644228e-02 -0.00000000e+00  0.00000000e+00\n",
      "  1.44862592e-05 -3.23316953e-03 -1.73086783e-01 -1.60612701e-01]\n",
      "\n",
      "0.15000000000000002\n",
      "0.5698828271993137\n",
      "[ 3.81946482e-01  1.46999031e-02 -0.00000000e+00  0.00000000e+00\n",
      "  1.55338892e-05 -3.22192297e-03 -1.58140336e-01 -1.44649850e-01]\n",
      "\n",
      "0.16000000000000003\n",
      "0.5734821296603649\n",
      "[ 3.81757222e-01  1.49265957e-02 -0.00000000e+00  0.00000000e+00\n",
      "  1.65441786e-05 -3.20965378e-03 -1.43618055e-01 -1.29140030e-01]\n",
      "\n",
      "0.17000000000000004\n",
      "0.5771705592168893\n",
      "[ 3.81520454e-01  1.51448641e-02 -0.00000000e+00  0.00000000e+00\n",
      "  1.75186574e-05 -3.19640475e-03 -1.29502527e-01 -1.14064605e-01]\n",
      "\n",
      "0.18000000000000005\n",
      "0.5809410718226149\n",
      "[ 3.81238309e-01  1.53550530e-02 -0.00000000e+00  0.00000000e+00\n",
      "  1.84587775e-05 -3.18221647e-03 -1.15777246e-01 -9.94059091e-02]\n",
      "\n",
      "0.19000000000000006\n",
      "0.5847411924423779\n",
      "[ 3.80917282e-01  1.55582458e-02 -0.00000000e+00  0.00000000e+00\n",
      "  1.93697940e-05 -3.16722234e-03 -1.02394701e-01 -8.51161818e-02]\n",
      "\n",
      "0.20000000000000007\n",
      "0.5885609285043348\n",
      "[ 3.80549937e-01  1.57531745e-02 -0.00000000e+00  0.00000000e+00\n",
      "  2.02449327e-05 -3.15126095e-03 -8.94065529e-02 -7.12443109e-02]\n",
      "\n",
      "0.21000000000000008\n",
      "0.5924314012572071\n",
      "[ 3.80142742e-01  1.59409186e-02 -0.00000000e+00  0.00000000e+00\n",
      "  2.10894492e-05 -3.13446540e-03 -7.67655788e-02 -5.77429277e-02]\n",
      "\n",
      "0.22000000000000008\n",
      "0.5963206888123658\n",
      "[ 3.79701202e-01  1.61223977e-02 -0.00000000e+00  0.00000000e+00\n",
      "  2.19078239e-05 -3.11694906e-03 -6.44315789e-02 -4.45717038e-02]\n",
      "\n",
      "0.23000000000000004\n",
      "0.6002441996211012\n",
      "[ 3.79226372e-01  1.62977805e-02 -0.00000000e+00  0.00000000e+00\n",
      "  2.27006974e-05 -3.09873118e-03 -5.23960196e-02 -3.17211801e-02]\n",
      "\n",
      "0.24000000000000005\n",
      "0.6041880794898931\n",
      "[ 3.78712884e-01  1.64661476e-02 -0.00000000e+00  0.00000000e+00\n",
      "  2.34630775e-05 -3.07969408e-03 -4.06958559e-02 -1.92259544e-02]\n",
      "\n",
      "0.25000000000000006\n",
      "0.608150302506045\n",
      "[ 3.78164903e-01  1.66281938e-02 -0.00000000e+00  0.00000000e+00\n",
      "  2.41983178e-05 -3.05992317e-03 -2.93004948e-02 -7.05518222e-03]\n",
      "\n",
      "0.26000000000000006\n",
      "0.6108107145390501\n",
      "[ 3.77088158e-01  1.66926053e-02 -0.00000000e+00  0.00000000e+00\n",
      "  2.45920639e-05 -3.02966333e-03 -2.23247001e-02 -0.00000000e+00]\n",
      "\n",
      "0.2700000000000001\n",
      "0.6115950804711794\n",
      "[ 3.75301858e-01  1.66246472e-02 -0.00000000e+00  0.00000000e+00\n",
      "  2.45434450e-05 -2.98541568e-03 -2.13561719e-02 -0.00000000e+00]\n",
      "\n",
      "0.2800000000000001\n",
      "0.6123908616078567\n",
      "[ 3.73520759e-01  1.65568763e-02 -0.00000000e+00  0.00000000e+00\n",
      "  2.44951645e-05 -2.94119443e-03 -2.03893466e-02 -0.00000000e+00]\n",
      "\n",
      "0.2900000000000001\n",
      "0.6131921462187583\n",
      "[ 3.71744252e-01  1.64891928e-02 -0.00000000e+00  0.00000000e+00\n",
      "  2.44467937e-05 -2.89699224e-03 -1.94242768e-02 -0.00000000e+00]\n",
      "\n",
      "0.3000000000000001\n",
      "0.6140035210608525\n",
      "[ 3.69972321e-01  1.64215965e-02 -0.00000000e+00  0.00000000e+00\n",
      "  2.43983323e-05 -2.85280906e-03 -1.84609581e-02 -0.00000000e+00]\n",
      "\n",
      "0.3100000000000001\n",
      "0.6148272733450616\n",
      "[ 3.68204946e-01  1.63540868e-02 -0.00000000e+00  0.00000000e+00\n",
      "  2.43497804e-05 -2.80864480e-03 -1.74993862e-02 -0.00000000e+00]\n",
      "\n",
      "0.32000000000000006\n",
      "0.6156614527728224\n",
      "[ 3.66442111e-01  1.62866636e-02 -0.00000000e+00  0.00000000e+00\n",
      "  2.43011376e-05 -2.76449940e-03 -1.65395566e-02 -0.00000000e+00]\n",
      "\n",
      "0.33000000000000007\n",
      "0.6165126048109347\n",
      "[ 3.64683797e-01  1.62193265e-02 -0.00000000e+00  0.00000000e+00\n",
      "  2.42524039e-05 -2.72037280e-03 -1.55814650e-02 -0.00000000e+00]\n",
      "\n",
      "0.3400000000000001\n",
      "0.6173773085778587\n",
      "[ 3.62929988e-01  1.61520751e-02 -0.00000000e+00  0.00000000e+00\n",
      "  2.42035792e-05 -2.67626492e-03 -1.46251071e-02 -0.00000000e+00]\n",
      "\n",
      "0.3500000000000001\n",
      "0.618253141090196\n",
      "[ 3.61180665e-01  1.60849091e-02 -0.00000000e+00  0.00000000e+00\n",
      "  2.41546633e-05 -2.63217569e-03 -1.36704785e-02 -0.00000000e+00]\n",
      "\n",
      "0.3600000000000001\n",
      "0.6191406985184157\n",
      "[ 3.59435811e-01  1.60178282e-02 -0.00000000e+00  0.00000000e+00\n",
      "  2.41056561e-05 -2.58810505e-03 -1.27175749e-02 -0.00000000e+00]\n",
      "\n",
      "0.3700000000000001\n",
      "0.6200384766433786\n",
      "[ 3.57695409e-01  1.59508320e-02 -0.00000000e+00  0.00000000e+00\n",
      "  2.40565575e-05 -2.54405293e-03 -1.17663920e-02 -0.00000000e+00]\n",
      "\n",
      "0.3800000000000001\n",
      "0.6209427212875474\n",
      "[ 3.55960706e-01  1.58841326e-02 -0.00000000e+00  0.00000000e+00\n",
      "  2.40083162e-05 -2.50003514e-03 -1.08168028e-02 -0.00000000e+00]\n",
      "\n",
      "0.39000000000000007\n",
      "0.6218509278752323\n",
      "[ 3.54229190e-01  1.58173110e-02 -0.00000000e+00  0.00000000e+00\n",
      "  2.39590625e-05 -2.45602032e-03 -9.86904516e-03 -0.00000000e+00]\n",
      "\n",
      "0.4000000000000001\n",
      "0.6227704085192114\n",
      "[ 3.52502074e-01  1.57505733e-02 -0.00000000e+00  0.00000000e+00\n",
      "  2.39097169e-05 -2.41202382e-03 -8.92299535e-03 -0.00000000e+00]\n",
      "\n",
      "0.4100000000000001\n",
      "0.6237049057041651\n",
      "[ 3.50779342e-01  1.56839189e-02 -0.00000000e+00  0.00000000e+00\n",
      "  2.38602793e-05 -2.36804557e-03 -7.97864912e-03 -0.00000000e+00]\n",
      "\n",
      "0.4200000000000001\n",
      "0.6246491094539833\n",
      "[ 3.49060976e-01  1.56173477e-02 -0.00000000e+00  0.00000000e+00\n",
      "  2.38107495e-05 -2.32408550e-03 -7.03600224e-03 -0.00000000e+00]\n",
      "\n",
      "0.4300000000000001\n",
      "0.6256130184123835\n",
      "[ 3.47346960e-01  1.55508593e-02 -0.00000000e+00  0.00000000e+00\n",
      "  2.37611275e-05 -2.28014357e-03 -6.09505046e-03 -0.00000000e+00]\n",
      "\n",
      "0.4400000000000001\n",
      "0.6265825218091786\n",
      "[ 3.45637277e-01  1.54844533e-02 -0.00000000e+00  0.00000000e+00\n",
      "  2.37114131e-05 -2.23621969e-03 -5.15578955e-03 -0.00000000e+00]\n",
      "\n",
      "0.4500000000000001\n",
      "0.6275634008672424\n",
      "[ 3.43931910e-01  1.54181295e-02 -0.00000000e+00  0.00000000e+00\n",
      "  2.36616063e-05 -2.19231380e-03 -4.21821530e-03 -0.00000000e+00]\n",
      "\n",
      "0.46000000000000013\n",
      "0.6285561865539674\n",
      "[ 3.42230844e-01  1.53518876e-02 -0.00000000e+00  0.00000000e+00\n",
      "  2.36117069e-05 -2.14842585e-03 -3.28232351e-03 -0.00000000e+00]\n",
      "\n",
      "0.47000000000000014\n",
      "0.6295500783838063\n",
      "[ 3.40534061e-01  1.52857272e-02 -0.00000000e+00  0.00000000e+00\n",
      "  2.35617149e-05 -2.10455576e-03 -2.34810997e-03 -0.00000000e+00]\n",
      "\n",
      "0.48000000000000015\n",
      "0.6305535587179387\n",
      "[ 3.38841545e-01  1.52196480e-02 -0.00000000e+00  0.00000000e+00\n",
      "  2.35116302e-05 -2.06070348e-03 -1.41557053e-03 -0.00000000e+00]\n",
      "\n",
      "0.49000000000000016\n",
      "0.6315647019069467\n",
      "[ 3.37153281e-01  1.51536497e-02 -0.00000000e+00  0.00000000e+00\n",
      "  2.34614526e-05 -2.01686894e-03 -4.84700996e-04 -0.00000000e+00]\n",
      "\n"
     ]
    }
   ],
   "source": [
    "alphalar = np.arange(-0.05,0.5, 0.01)\n",
    "\n",
    "enet_mae_ler = []\n",
    "for i in alphalar:\n",
    "    print(i)\n",
    "    enet_model.set_params(alpha=i)\n",
    "    enet_model.fit(x_tr, y_tr)\n",
    "    enet_tahmin = enet_model.predict(x_test)\n",
    "    mse = metrics.mean_absolute_error(y_test, enet_tahmin)\n",
    "    print(mse)\n",
    "    enet_mae_ler.append(mse)\n",
    "    print(enet_model.coef_)\n",
    "    print()"
   ]
  },
  {
   "cell_type": "code",
   "execution_count": 198,
   "metadata": {},
   "outputs": [
    {
     "data": {
      "text/plain": [
       "[<matplotlib.lines.Line2D at 0x135e9b358>]"
      ]
     },
     "execution_count": 198,
     "metadata": {},
     "output_type": "execute_result"
    },
    {
     "data": {
      "image/png": "[encoded data removed]",
      "text/plain": [
       "<Figure size 1440x1440 with 1 Axes>"
      ]
     },
     "metadata": {
      "needs_background": "light"
     },
     "output_type": "display_data"
    }
   ],
   "source": [
    "plt.figure(figsize=(20,20))\n",
    "plt.plot(alphalar, enet_mae_ler, marker=\"^\")"
   ]
  },
  {
   "cell_type": "code",
   "execution_count": 199,
   "metadata": {},
   "outputs": [],
   "source": [
    "# time series analisis\n",
    "# ar, ma, arima, sarima, sarimax, lstm\n",
    "\n",
    "# 2. yöntem. normal regr.\n",
    "# yıllık sezonsal ekti için yeni feature\n",
    "# haftalık(0-6), günlük(0-23) .... ayrı featurelar"
   ]
  },
  {
   "cell_type": "code",
   "execution_count": null,
   "metadata": {},
   "outputs": [],
   "source": []
  },
  {
   "cell_type": "code",
   "execution_count": null,
   "metadata": {},
   "outputs": [],
   "source": [
    "# veri normalize edilebilir\n",
    "# regresyon için (statsmodel) OLS modülü kullanılabilir. r2 değeri modelin veriyi açıklayabilme becerisi. 0-1 arası."
   ]
  },
  {
   "cell_type": "code",
   "execution_count": null,
   "metadata": {},
   "outputs": [],
   "source": []
  },
  {
   "cell_type": "code",
   "execution_count": null,
   "metadata": {},
   "outputs": [],
   "source": []
  },
  {
   "cell_type": "code",
   "execution_count": null,
   "metadata": {},
   "outputs": [],
   "source": []
  },
  {
   "cell_type": "code",
   "execution_count": null,
   "metadata": {},
   "outputs": [],
   "source": []
  },
  {
   "cell_type": "code",
   "execution_count": null,
   "metadata": {},
   "outputs": [],
   "source": []
  },
  {
   "cell_type": "code",
   "execution_count": null,
   "metadata": {},
   "outputs": [],
   "source": []
  },
  {
   "cell_type": "code",
   "execution_count": 200,
   "metadata": {},
   "outputs": [
    {
     "data": {
      "text/html": [
       "<div>\n",
       "<style scoped>\n",
       "    .dataframe tbody tr th:only-of-type {\n",
       "        vertical-align: middle;\n",
       "    }\n",
       "\n",
       "    .dataframe tbody tr th {\n",
       "        vertical-align: top;\n",
       "    }\n",
       "\n",
       "    .dataframe thead th {\n",
       "        text-align: right;\n",
       "    }\n",
       "</style>\n",
       "<table border=\"1\" class=\"dataframe\">\n",
       "  <thead>\n",
       "    <tr style=\"text-align: right;\">\n",
       "      <th></th>\n",
       "      <th>Id</th>\n",
       "      <th>MSSubClass</th>\n",
       "      <th>MSZoning</th>\n",
       "      <th>LotFrontage</th>\n",
       "      <th>LotArea</th>\n",
       "      <th>Street</th>\n",
       "      <th>Alley</th>\n",
       "      <th>LotShape</th>\n",
       "      <th>LandContour</th>\n",
       "      <th>Utilities</th>\n",
       "      <th>...</th>\n",
       "      <th>PoolArea</th>\n",
       "      <th>PoolQC</th>\n",
       "      <th>Fence</th>\n",
       "      <th>MiscFeature</th>\n",
       "      <th>MiscVal</th>\n",
       "      <th>MoSold</th>\n",
       "      <th>YrSold</th>\n",
       "      <th>SaleType</th>\n",
       "      <th>SaleCondition</th>\n",
       "      <th>SalePrice</th>\n",
       "    </tr>\n",
       "  </thead>\n",
       "  <tbody>\n",
       "    <tr>\n",
       "      <th>0</th>\n",
       "      <td>1</td>\n",
       "      <td>60</td>\n",
       "      <td>RL</td>\n",
       "      <td>65.0</td>\n",
       "      <td>8450</td>\n",
       "      <td>Pave</td>\n",
       "      <td>NaN</td>\n",
       "      <td>Reg</td>\n",
       "      <td>Lvl</td>\n",
       "      <td>AllPub</td>\n",
       "      <td>...</td>\n",
       "      <td>0</td>\n",
       "      <td>NaN</td>\n",
       "      <td>NaN</td>\n",
       "      <td>NaN</td>\n",
       "      <td>0</td>\n",
       "      <td>2</td>\n",
       "      <td>2008</td>\n",
       "      <td>WD</td>\n",
       "      <td>Normal</td>\n",
       "      <td>208500</td>\n",
       "    </tr>\n",
       "    <tr>\n",
       "      <th>1</th>\n",
       "      <td>2</td>\n",
       "      <td>20</td>\n",
       "      <td>RL</td>\n",
       "      <td>80.0</td>\n",
       "      <td>9600</td>\n",
       "      <td>Pave</td>\n",
       "      <td>NaN</td>\n",
       "      <td>Reg</td>\n",
       "      <td>Lvl</td>\n",
       "      <td>AllPub</td>\n",
       "      <td>...</td>\n",
       "      <td>0</td>\n",
       "      <td>NaN</td>\n",
       "      <td>NaN</td>\n",
       "      <td>NaN</td>\n",
       "      <td>0</td>\n",
       "      <td>5</td>\n",
       "      <td>2007</td>\n",
       "      <td>WD</td>\n",
       "      <td>Normal</td>\n",
       "      <td>181500</td>\n",
       "    </tr>\n",
       "    <tr>\n",
       "      <th>2</th>\n",
       "      <td>3</td>\n",
       "      <td>60</td>\n",
       "      <td>RL</td>\n",
       "      <td>68.0</td>\n",
       "      <td>11250</td>\n",
       "      <td>Pave</td>\n",
       "      <td>NaN</td>\n",
       "      <td>IR1</td>\n",
       "      <td>Lvl</td>\n",
       "      <td>AllPub</td>\n",
       "      <td>...</td>\n",
       "      <td>0</td>\n",
       "      <td>NaN</td>\n",
       "      <td>NaN</td>\n",
       "      <td>NaN</td>\n",
       "      <td>0</td>\n",
       "      <td>9</td>\n",
       "      <td>2008</td>\n",
       "      <td>WD</td>\n",
       "      <td>Normal</td>\n",
       "      <td>223500</td>\n",
       "    </tr>\n",
       "    <tr>\n",
       "      <th>3</th>\n",
       "      <td>4</td>\n",
       "      <td>70</td>\n",
       "      <td>RL</td>\n",
       "      <td>60.0</td>\n",
       "      <td>9550</td>\n",
       "      <td>Pave</td>\n",
       "      <td>NaN</td>\n",
       "      <td>IR1</td>\n",
       "      <td>Lvl</td>\n",
       "      <td>AllPub</td>\n",
       "      <td>...</td>\n",
       "      <td>0</td>\n",
       "      <td>NaN</td>\n",
       "      <td>NaN</td>\n",
       "      <td>NaN</td>\n",
       "      <td>0</td>\n",
       "      <td>2</td>\n",
       "      <td>2006</td>\n",
       "      <td>WD</td>\n",
       "      <td>Abnorml</td>\n",
       "      <td>140000</td>\n",
       "    </tr>\n",
       "    <tr>\n",
       "      <th>4</th>\n",
       "      <td>5</td>\n",
       "      <td>60</td>\n",
       "      <td>RL</td>\n",
       "      <td>84.0</td>\n",
       "      <td>14260</td>\n",
       "      <td>Pave</td>\n",
       "      <td>NaN</td>\n",
       "      <td>IR1</td>\n",
       "      <td>Lvl</td>\n",
       "      <td>AllPub</td>\n",
       "      <td>...</td>\n",
       "      <td>0</td>\n",
       "      <td>NaN</td>\n",
       "      <td>NaN</td>\n",
       "      <td>NaN</td>\n",
       "      <td>0</td>\n",
       "      <td>12</td>\n",
       "      <td>2008</td>\n",
       "      <td>WD</td>\n",
       "      <td>Normal</td>\n",
       "      <td>250000</td>\n",
       "    </tr>\n",
       "    <tr>\n",
       "      <th>...</th>\n",
       "      <td>...</td>\n",
       "      <td>...</td>\n",
       "      <td>...</td>\n",
       "      <td>...</td>\n",
       "      <td>...</td>\n",
       "      <td>...</td>\n",
       "      <td>...</td>\n",
       "      <td>...</td>\n",
       "      <td>...</td>\n",
       "      <td>...</td>\n",
       "      <td>...</td>\n",
       "      <td>...</td>\n",
       "      <td>...</td>\n",
       "      <td>...</td>\n",
       "      <td>...</td>\n",
       "      <td>...</td>\n",
       "      <td>...</td>\n",
       "      <td>...</td>\n",
       "      <td>...</td>\n",
       "      <td>...</td>\n",
       "      <td>...</td>\n",
       "    </tr>\n",
       "    <tr>\n",
       "      <th>1455</th>\n",
       "      <td>1456</td>\n",
       "      <td>60</td>\n",
       "      <td>RL</td>\n",
       "      <td>62.0</td>\n",
       "      <td>7917</td>\n",
       "      <td>Pave</td>\n",
       "      <td>NaN</td>\n",
       "      <td>Reg</td>\n",
       "      <td>Lvl</td>\n",
       "      <td>AllPub</td>\n",
       "      <td>...</td>\n",
       "      <td>0</td>\n",
       "      <td>NaN</td>\n",
       "      <td>NaN</td>\n",
       "      <td>NaN</td>\n",
       "      <td>0</td>\n",
       "      <td>8</td>\n",
       "      <td>2007</td>\n",
       "      <td>WD</td>\n",
       "      <td>Normal</td>\n",
       "      <td>175000</td>\n",
       "    </tr>\n",
       "    <tr>\n",
       "      <th>1456</th>\n",
       "      <td>1457</td>\n",
       "      <td>20</td>\n",
       "      <td>RL</td>\n",
       "      <td>85.0</td>\n",
       "      <td>13175</td>\n",
       "      <td>Pave</td>\n",
       "      <td>NaN</td>\n",
       "      <td>Reg</td>\n",
       "      <td>Lvl</td>\n",
       "      <td>AllPub</td>\n",
       "      <td>...</td>\n",
       "      <td>0</td>\n",
       "      <td>NaN</td>\n",
       "      <td>MnPrv</td>\n",
       "      <td>NaN</td>\n",
       "      <td>0</td>\n",
       "      <td>2</td>\n",
       "      <td>2010</td>\n",
       "      <td>WD</td>\n",
       "      <td>Normal</td>\n",
       "      <td>210000</td>\n",
       "    </tr>\n",
       "    <tr>\n",
       "      <th>1457</th>\n",
       "      <td>1458</td>\n",
       "      <td>70</td>\n",
       "      <td>RL</td>\n",
       "      <td>66.0</td>\n",
       "      <td>9042</td>\n",
       "      <td>Pave</td>\n",
       "      <td>NaN</td>\n",
       "      <td>Reg</td>\n",
       "      <td>Lvl</td>\n",
       "      <td>AllPub</td>\n",
       "      <td>...</td>\n",
       "      <td>0</td>\n",
       "      <td>NaN</td>\n",
       "      <td>GdPrv</td>\n",
       "      <td>Shed</td>\n",
       "      <td>2500</td>\n",
       "      <td>5</td>\n",
       "      <td>2010</td>\n",
       "      <td>WD</td>\n",
       "      <td>Normal</td>\n",
       "      <td>266500</td>\n",
       "    </tr>\n",
       "    <tr>\n",
       "      <th>1458</th>\n",
       "      <td>1459</td>\n",
       "      <td>20</td>\n",
       "      <td>RL</td>\n",
       "      <td>68.0</td>\n",
       "      <td>9717</td>\n",
       "      <td>Pave</td>\n",
       "      <td>NaN</td>\n",
       "      <td>Reg</td>\n",
       "      <td>Lvl</td>\n",
       "      <td>AllPub</td>\n",
       "      <td>...</td>\n",
       "      <td>0</td>\n",
       "      <td>NaN</td>\n",
       "      <td>NaN</td>\n",
       "      <td>NaN</td>\n",
       "      <td>0</td>\n",
       "      <td>4</td>\n",
       "      <td>2010</td>\n",
       "      <td>WD</td>\n",
       "      <td>Normal</td>\n",
       "      <td>142125</td>\n",
       "    </tr>\n",
       "    <tr>\n",
       "      <th>1459</th>\n",
       "      <td>1460</td>\n",
       "      <td>20</td>\n",
       "      <td>RL</td>\n",
       "      <td>75.0</td>\n",
       "      <td>9937</td>\n",
       "      <td>Pave</td>\n",
       "      <td>NaN</td>\n",
       "      <td>Reg</td>\n",
       "      <td>Lvl</td>\n",
       "      <td>AllPub</td>\n",
       "      <td>...</td>\n",
       "      <td>0</td>\n",
       "      <td>NaN</td>\n",
       "      <td>NaN</td>\n",
       "      <td>NaN</td>\n",
       "      <td>0</td>\n",
       "      <td>6</td>\n",
       "      <td>2008</td>\n",
       "      <td>WD</td>\n",
       "      <td>Normal</td>\n",
       "      <td>147500</td>\n",
       "    </tr>\n",
       "  </tbody>\n",
       "</table>\n",
       "<p>1460 rows × 81 columns</p>\n",
       "</div>"
      ],
      "text/plain": [
       "        Id  MSSubClass MSZoning  LotFrontage  LotArea Street Alley LotShape  \\\n",
       "0        1          60       RL         65.0     8450   Pave   NaN      Reg   \n",
       "1        2          20       RL         80.0     9600   Pave   NaN      Reg   \n",
       "2        3          60       RL         68.0    11250   Pave   NaN      IR1   \n",
       "3        4          70       RL         60.0     9550   Pave   NaN      IR1   \n",
       "4        5          60       RL         84.0    14260   Pave   NaN      IR1   \n",
       "...    ...         ...      ...          ...      ...    ...   ...      ...   \n",
       "1455  1456          60       RL         62.0     7917   Pave   NaN      Reg   \n",
       "1456  1457          20       RL         85.0    13175   Pave   NaN      Reg   \n",
       "1457  1458          70       RL         66.0     9042   Pave   NaN      Reg   \n",
       "1458  1459          20       RL         68.0     9717   Pave   NaN      Reg   \n",
       "1459  1460          20       RL         75.0     9937   Pave   NaN      Reg   \n",
       "\n",
       "     LandContour Utilities  ... PoolArea PoolQC  Fence MiscFeature MiscVal  \\\n",
       "0            Lvl    AllPub  ...        0    NaN    NaN         NaN       0   \n",
       "1            Lvl    AllPub  ...        0    NaN    NaN         NaN       0   \n",
       "2            Lvl    AllPub  ...        0    NaN    NaN         NaN       0   \n",
       "3            Lvl    AllPub  ...        0    NaN    NaN         NaN       0   \n",
       "4            Lvl    AllPub  ...        0    NaN    NaN         NaN       0   \n",
       "...          ...       ...  ...      ...    ...    ...         ...     ...   \n",
       "1455         Lvl    AllPub  ...        0    NaN    NaN         NaN       0   \n",
       "1456         Lvl    AllPub  ...        0    NaN  MnPrv         NaN       0   \n",
       "1457         Lvl    AllPub  ...        0    NaN  GdPrv        Shed    2500   \n",
       "1458         Lvl    AllPub  ...        0    NaN    NaN         NaN       0   \n",
       "1459         Lvl    AllPub  ...        0    NaN    NaN         NaN       0   \n",
       "\n",
       "     MoSold YrSold  SaleType  SaleCondition  SalePrice  \n",
       "0         2   2008        WD         Normal     208500  \n",
       "1         5   2007        WD         Normal     181500  \n",
       "2         9   2008        WD         Normal     223500  \n",
       "3         2   2006        WD        Abnorml     140000  \n",
       "4        12   2008        WD         Normal     250000  \n",
       "...     ...    ...       ...            ...        ...  \n",
       "1455      8   2007        WD         Normal     175000  \n",
       "1456      2   2010        WD         Normal     210000  \n",
       "1457      5   2010        WD         Normal     266500  \n",
       "1458      4   2010        WD         Normal     142125  \n",
       "1459      6   2008        WD         Normal     147500  \n",
       "\n",
       "[1460 rows x 81 columns]"
      ]
     },
     "execution_count": 200,
     "metadata": {},
     "output_type": "execute_result"
    }
   ],
   "source": [
    "yol = \"/Users/data/house-prices-advanced-regression-techniques/train.csv\"\n",
    "veri = pd.read_csv(yol)\n",
    "veri"
   ]
  },
  {
   "cell_type": "code",
   "execution_count": 202,
   "metadata": {},
   "outputs": [
    {
     "data": {
      "text/html": [
       "<div>\n",
       "<style scoped>\n",
       "    .dataframe tbody tr th:only-of-type {\n",
       "        vertical-align: middle;\n",
       "    }\n",
       "\n",
       "    .dataframe tbody tr th {\n",
       "        vertical-align: top;\n",
       "    }\n",
       "\n",
       "    .dataframe thead th {\n",
       "        text-align: right;\n",
       "    }\n",
       "</style>\n",
       "<table border=\"1\" class=\"dataframe\">\n",
       "  <thead>\n",
       "    <tr style=\"text-align: right;\">\n",
       "      <th></th>\n",
       "      <th>Id</th>\n",
       "      <th>MSSubClass</th>\n",
       "      <th>MSZoning</th>\n",
       "      <th>LotFrontage</th>\n",
       "      <th>LotArea</th>\n",
       "      <th>Street</th>\n",
       "      <th>Alley</th>\n",
       "      <th>LotShape</th>\n",
       "      <th>LandContour</th>\n",
       "      <th>Utilities</th>\n",
       "      <th>...</th>\n",
       "      <th>ScreenPorch</th>\n",
       "      <th>PoolArea</th>\n",
       "      <th>PoolQC</th>\n",
       "      <th>Fence</th>\n",
       "      <th>MiscFeature</th>\n",
       "      <th>MiscVal</th>\n",
       "      <th>MoSold</th>\n",
       "      <th>YrSold</th>\n",
       "      <th>SaleType</th>\n",
       "      <th>SaleCondition</th>\n",
       "    </tr>\n",
       "  </thead>\n",
       "  <tbody>\n",
       "    <tr>\n",
       "      <th>0</th>\n",
       "      <td>1</td>\n",
       "      <td>60</td>\n",
       "      <td>RL</td>\n",
       "      <td>65.0</td>\n",
       "      <td>8450</td>\n",
       "      <td>Pave</td>\n",
       "      <td>NaN</td>\n",
       "      <td>Reg</td>\n",
       "      <td>Lvl</td>\n",
       "      <td>AllPub</td>\n",
       "      <td>...</td>\n",
       "      <td>0</td>\n",
       "      <td>0</td>\n",
       "      <td>NaN</td>\n",
       "      <td>NaN</td>\n",
       "      <td>NaN</td>\n",
       "      <td>0</td>\n",
       "      <td>2</td>\n",
       "      <td>2008</td>\n",
       "      <td>WD</td>\n",
       "      <td>Normal</td>\n",
       "    </tr>\n",
       "    <tr>\n",
       "      <th>1</th>\n",
       "      <td>2</td>\n",
       "      <td>20</td>\n",
       "      <td>RL</td>\n",
       "      <td>80.0</td>\n",
       "      <td>9600</td>\n",
       "      <td>Pave</td>\n",
       "      <td>NaN</td>\n",
       "      <td>Reg</td>\n",
       "      <td>Lvl</td>\n",
       "      <td>AllPub</td>\n",
       "      <td>...</td>\n",
       "      <td>0</td>\n",
       "      <td>0</td>\n",
       "      <td>NaN</td>\n",
       "      <td>NaN</td>\n",
       "      <td>NaN</td>\n",
       "      <td>0</td>\n",
       "      <td>5</td>\n",
       "      <td>2007</td>\n",
       "      <td>WD</td>\n",
       "      <td>Normal</td>\n",
       "    </tr>\n",
       "    <tr>\n",
       "      <th>2</th>\n",
       "      <td>3</td>\n",
       "      <td>60</td>\n",
       "      <td>RL</td>\n",
       "      <td>68.0</td>\n",
       "      <td>11250</td>\n",
       "      <td>Pave</td>\n",
       "      <td>NaN</td>\n",
       "      <td>IR1</td>\n",
       "      <td>Lvl</td>\n",
       "      <td>AllPub</td>\n",
       "      <td>...</td>\n",
       "      <td>0</td>\n",
       "      <td>0</td>\n",
       "      <td>NaN</td>\n",
       "      <td>NaN</td>\n",
       "      <td>NaN</td>\n",
       "      <td>0</td>\n",
       "      <td>9</td>\n",
       "      <td>2008</td>\n",
       "      <td>WD</td>\n",
       "      <td>Normal</td>\n",
       "    </tr>\n",
       "    <tr>\n",
       "      <th>3</th>\n",
       "      <td>4</td>\n",
       "      <td>70</td>\n",
       "      <td>RL</td>\n",
       "      <td>60.0</td>\n",
       "      <td>9550</td>\n",
       "      <td>Pave</td>\n",
       "      <td>NaN</td>\n",
       "      <td>IR1</td>\n",
       "      <td>Lvl</td>\n",
       "      <td>AllPub</td>\n",
       "      <td>...</td>\n",
       "      <td>0</td>\n",
       "      <td>0</td>\n",
       "      <td>NaN</td>\n",
       "      <td>NaN</td>\n",
       "      <td>NaN</td>\n",
       "      <td>0</td>\n",
       "      <td>2</td>\n",
       "      <td>2006</td>\n",
       "      <td>WD</td>\n",
       "      <td>Abnorml</td>\n",
       "    </tr>\n",
       "    <tr>\n",
       "      <th>4</th>\n",
       "      <td>5</td>\n",
       "      <td>60</td>\n",
       "      <td>RL</td>\n",
       "      <td>84.0</td>\n",
       "      <td>14260</td>\n",
       "      <td>Pave</td>\n",
       "      <td>NaN</td>\n",
       "      <td>IR1</td>\n",
       "      <td>Lvl</td>\n",
       "      <td>AllPub</td>\n",
       "      <td>...</td>\n",
       "      <td>0</td>\n",
       "      <td>0</td>\n",
       "      <td>NaN</td>\n",
       "      <td>NaN</td>\n",
       "      <td>NaN</td>\n",
       "      <td>0</td>\n",
       "      <td>12</td>\n",
       "      <td>2008</td>\n",
       "      <td>WD</td>\n",
       "      <td>Normal</td>\n",
       "    </tr>\n",
       "    <tr>\n",
       "      <th>...</th>\n",
       "      <td>...</td>\n",
       "      <td>...</td>\n",
       "      <td>...</td>\n",
       "      <td>...</td>\n",
       "      <td>...</td>\n",
       "      <td>...</td>\n",
       "      <td>...</td>\n",
       "      <td>...</td>\n",
       "      <td>...</td>\n",
       "      <td>...</td>\n",
       "      <td>...</td>\n",
       "      <td>...</td>\n",
       "      <td>...</td>\n",
       "      <td>...</td>\n",
       "      <td>...</td>\n",
       "      <td>...</td>\n",
       "      <td>...</td>\n",
       "      <td>...</td>\n",
       "      <td>...</td>\n",
       "      <td>...</td>\n",
       "      <td>...</td>\n",
       "    </tr>\n",
       "    <tr>\n",
       "      <th>1455</th>\n",
       "      <td>1456</td>\n",
       "      <td>60</td>\n",
       "      <td>RL</td>\n",
       "      <td>62.0</td>\n",
       "      <td>7917</td>\n",
       "      <td>Pave</td>\n",
       "      <td>NaN</td>\n",
       "      <td>Reg</td>\n",
       "      <td>Lvl</td>\n",
       "      <td>AllPub</td>\n",
       "      <td>...</td>\n",
       "      <td>0</td>\n",
       "      <td>0</td>\n",
       "      <td>NaN</td>\n",
       "      <td>NaN</td>\n",
       "      <td>NaN</td>\n",
       "      <td>0</td>\n",
       "      <td>8</td>\n",
       "      <td>2007</td>\n",
       "      <td>WD</td>\n",
       "      <td>Normal</td>\n",
       "    </tr>\n",
       "    <tr>\n",
       "      <th>1456</th>\n",
       "      <td>1457</td>\n",
       "      <td>20</td>\n",
       "      <td>RL</td>\n",
       "      <td>85.0</td>\n",
       "      <td>13175</td>\n",
       "      <td>Pave</td>\n",
       "      <td>NaN</td>\n",
       "      <td>Reg</td>\n",
       "      <td>Lvl</td>\n",
       "      <td>AllPub</td>\n",
       "      <td>...</td>\n",
       "      <td>0</td>\n",
       "      <td>0</td>\n",
       "      <td>NaN</td>\n",
       "      <td>MnPrv</td>\n",
       "      <td>NaN</td>\n",
       "      <td>0</td>\n",
       "      <td>2</td>\n",
       "      <td>2010</td>\n",
       "      <td>WD</td>\n",
       "      <td>Normal</td>\n",
       "    </tr>\n",
       "    <tr>\n",
       "      <th>1457</th>\n",
       "      <td>1458</td>\n",
       "      <td>70</td>\n",
       "      <td>RL</td>\n",
       "      <td>66.0</td>\n",
       "      <td>9042</td>\n",
       "      <td>Pave</td>\n",
       "      <td>NaN</td>\n",
       "      <td>Reg</td>\n",
       "      <td>Lvl</td>\n",
       "      <td>AllPub</td>\n",
       "      <td>...</td>\n",
       "      <td>0</td>\n",
       "      <td>0</td>\n",
       "      <td>NaN</td>\n",
       "      <td>GdPrv</td>\n",
       "      <td>Shed</td>\n",
       "      <td>2500</td>\n",
       "      <td>5</td>\n",
       "      <td>2010</td>\n",
       "      <td>WD</td>\n",
       "      <td>Normal</td>\n",
       "    </tr>\n",
       "    <tr>\n",
       "      <th>1458</th>\n",
       "      <td>1459</td>\n",
       "      <td>20</td>\n",
       "      <td>RL</td>\n",
       "      <td>68.0</td>\n",
       "      <td>9717</td>\n",
       "      <td>Pave</td>\n",
       "      <td>NaN</td>\n",
       "      <td>Reg</td>\n",
       "      <td>Lvl</td>\n",
       "      <td>AllPub</td>\n",
       "      <td>...</td>\n",
       "      <td>0</td>\n",
       "      <td>0</td>\n",
       "      <td>NaN</td>\n",
       "      <td>NaN</td>\n",
       "      <td>NaN</td>\n",
       "      <td>0</td>\n",
       "      <td>4</td>\n",
       "      <td>2010</td>\n",
       "      <td>WD</td>\n",
       "      <td>Normal</td>\n",
       "    </tr>\n",
       "    <tr>\n",
       "      <th>1459</th>\n",
       "      <td>1460</td>\n",
       "      <td>20</td>\n",
       "      <td>RL</td>\n",
       "      <td>75.0</td>\n",
       "      <td>9937</td>\n",
       "      <td>Pave</td>\n",
       "      <td>NaN</td>\n",
       "      <td>Reg</td>\n",
       "      <td>Lvl</td>\n",
       "      <td>AllPub</td>\n",
       "      <td>...</td>\n",
       "      <td>0</td>\n",
       "      <td>0</td>\n",
       "      <td>NaN</td>\n",
       "      <td>NaN</td>\n",
       "      <td>NaN</td>\n",
       "      <td>0</td>\n",
       "      <td>6</td>\n",
       "      <td>2008</td>\n",
       "      <td>WD</td>\n",
       "      <td>Normal</td>\n",
       "    </tr>\n",
       "  </tbody>\n",
       "</table>\n",
       "<p>1460 rows × 80 columns</p>\n",
       "</div>"
      ],
      "text/plain": [
       "        Id  MSSubClass MSZoning  LotFrontage  LotArea Street Alley LotShape  \\\n",
       "0        1          60       RL         65.0     8450   Pave   NaN      Reg   \n",
       "1        2          20       RL         80.0     9600   Pave   NaN      Reg   \n",
       "2        3          60       RL         68.0    11250   Pave   NaN      IR1   \n",
       "3        4          70       RL         60.0     9550   Pave   NaN      IR1   \n",
       "4        5          60       RL         84.0    14260   Pave   NaN      IR1   \n",
       "...    ...         ...      ...          ...      ...    ...   ...      ...   \n",
       "1455  1456          60       RL         62.0     7917   Pave   NaN      Reg   \n",
       "1456  1457          20       RL         85.0    13175   Pave   NaN      Reg   \n",
       "1457  1458          70       RL         66.0     9042   Pave   NaN      Reg   \n",
       "1458  1459          20       RL         68.0     9717   Pave   NaN      Reg   \n",
       "1459  1460          20       RL         75.0     9937   Pave   NaN      Reg   \n",
       "\n",
       "     LandContour Utilities  ... ScreenPorch PoolArea PoolQC  Fence  \\\n",
       "0            Lvl    AllPub  ...           0        0    NaN    NaN   \n",
       "1            Lvl    AllPub  ...           0        0    NaN    NaN   \n",
       "2            Lvl    AllPub  ...           0        0    NaN    NaN   \n",
       "3            Lvl    AllPub  ...           0        0    NaN    NaN   \n",
       "4            Lvl    AllPub  ...           0        0    NaN    NaN   \n",
       "...          ...       ...  ...         ...      ...    ...    ...   \n",
       "1455         Lvl    AllPub  ...           0        0    NaN    NaN   \n",
       "1456         Lvl    AllPub  ...           0        0    NaN  MnPrv   \n",
       "1457         Lvl    AllPub  ...           0        0    NaN  GdPrv   \n",
       "1458         Lvl    AllPub  ...           0        0    NaN    NaN   \n",
       "1459         Lvl    AllPub  ...           0        0    NaN    NaN   \n",
       "\n",
       "     MiscFeature MiscVal MoSold  YrSold  SaleType  SaleCondition  \n",
       "0            NaN       0      2    2008        WD         Normal  \n",
       "1            NaN       0      5    2007        WD         Normal  \n",
       "2            NaN       0      9    2008        WD         Normal  \n",
       "3            NaN       0      2    2006        WD        Abnorml  \n",
       "4            NaN       0     12    2008        WD         Normal  \n",
       "...          ...     ...    ...     ...       ...            ...  \n",
       "1455         NaN       0      8    2007        WD         Normal  \n",
       "1456         NaN       0      2    2010        WD         Normal  \n",
       "1457        Shed    2500      5    2010        WD         Normal  \n",
       "1458         NaN       0      4    2010        WD         Normal  \n",
       "1459         NaN       0      6    2008        WD         Normal  \n",
       "\n",
       "[1460 rows x 80 columns]"
      ]
     },
     "execution_count": 202,
     "metadata": {},
     "output_type": "execute_result"
    }
   ],
   "source": [
    "# Ridge ile deneyelim\n",
    "X = veri.iloc[:,:-1]\n",
    "X"
   ]
  },
  {
   "cell_type": "code",
   "execution_count": 203,
   "metadata": {},
   "outputs": [],
   "source": [
    "X = pd.get_dummies(X)"
   ]
  },
  {
   "cell_type": "code",
   "execution_count": 204,
   "metadata": {},
   "outputs": [
    {
     "data": {
      "text/html": [
       "<div>\n",
       "<style scoped>\n",
       "    .dataframe tbody tr th:only-of-type {\n",
       "        vertical-align: middle;\n",
       "    }\n",
       "\n",
       "    .dataframe tbody tr th {\n",
       "        vertical-align: top;\n",
       "    }\n",
       "\n",
       "    .dataframe thead th {\n",
       "        text-align: right;\n",
       "    }\n",
       "</style>\n",
       "<table border=\"1\" class=\"dataframe\">\n",
       "  <thead>\n",
       "    <tr style=\"text-align: right;\">\n",
       "      <th></th>\n",
       "      <th>Id</th>\n",
       "      <th>MSSubClass</th>\n",
       "      <th>LotFrontage</th>\n",
       "      <th>LotArea</th>\n",
       "      <th>OverallQual</th>\n",
       "      <th>OverallCond</th>\n",
       "      <th>YearBuilt</th>\n",
       "      <th>YearRemodAdd</th>\n",
       "      <th>MasVnrArea</th>\n",
       "      <th>BsmtFinSF1</th>\n",
       "      <th>...</th>\n",
       "      <th>SaleType_ConLw</th>\n",
       "      <th>SaleType_New</th>\n",
       "      <th>SaleType_Oth</th>\n",
       "      <th>SaleType_WD</th>\n",
       "      <th>SaleCondition_Abnorml</th>\n",
       "      <th>SaleCondition_AdjLand</th>\n",
       "      <th>SaleCondition_Alloca</th>\n",
       "      <th>SaleCondition_Family</th>\n",
       "      <th>SaleCondition_Normal</th>\n",
       "      <th>SaleCondition_Partial</th>\n",
       "    </tr>\n",
       "  </thead>\n",
       "  <tbody>\n",
       "    <tr>\n",
       "      <th>0</th>\n",
       "      <td>1</td>\n",
       "      <td>60</td>\n",
       "      <td>65.0</td>\n",
       "      <td>8450</td>\n",
       "      <td>7</td>\n",
       "      <td>5</td>\n",
       "      <td>2003</td>\n",
       "      <td>2003</td>\n",
       "      <td>196.0</td>\n",
       "      <td>706</td>\n",
       "      <td>...</td>\n",
       "      <td>0</td>\n",
       "      <td>0</td>\n",
       "      <td>0</td>\n",
       "      <td>1</td>\n",
       "      <td>0</td>\n",
       "      <td>0</td>\n",
       "      <td>0</td>\n",
       "      <td>0</td>\n",
       "      <td>1</td>\n",
       "      <td>0</td>\n",
       "    </tr>\n",
       "    <tr>\n",
       "      <th>1</th>\n",
       "      <td>2</td>\n",
       "      <td>20</td>\n",
       "      <td>80.0</td>\n",
       "      <td>9600</td>\n",
       "      <td>6</td>\n",
       "      <td>8</td>\n",
       "      <td>1976</td>\n",
       "      <td>1976</td>\n",
       "      <td>0.0</td>\n",
       "      <td>978</td>\n",
       "      <td>...</td>\n",
       "      <td>0</td>\n",
       "      <td>0</td>\n",
       "      <td>0</td>\n",
       "      <td>1</td>\n",
       "      <td>0</td>\n",
       "      <td>0</td>\n",
       "      <td>0</td>\n",
       "      <td>0</td>\n",
       "      <td>1</td>\n",
       "      <td>0</td>\n",
       "    </tr>\n",
       "    <tr>\n",
       "      <th>2</th>\n",
       "      <td>3</td>\n",
       "      <td>60</td>\n",
       "      <td>68.0</td>\n",
       "      <td>11250</td>\n",
       "      <td>7</td>\n",
       "      <td>5</td>\n",
       "      <td>2001</td>\n",
       "      <td>2002</td>\n",
       "      <td>162.0</td>\n",
       "      <td>486</td>\n",
       "      <td>...</td>\n",
       "      <td>0</td>\n",
       "      <td>0</td>\n",
       "      <td>0</td>\n",
       "      <td>1</td>\n",
       "      <td>0</td>\n",
       "      <td>0</td>\n",
       "      <td>0</td>\n",
       "      <td>0</td>\n",
       "      <td>1</td>\n",
       "      <td>0</td>\n",
       "    </tr>\n",
       "    <tr>\n",
       "      <th>3</th>\n",
       "      <td>4</td>\n",
       "      <td>70</td>\n",
       "      <td>60.0</td>\n",
       "      <td>9550</td>\n",
       "      <td>7</td>\n",
       "      <td>5</td>\n",
       "      <td>1915</td>\n",
       "      <td>1970</td>\n",
       "      <td>0.0</td>\n",
       "      <td>216</td>\n",
       "      <td>...</td>\n",
       "      <td>0</td>\n",
       "      <td>0</td>\n",
       "      <td>0</td>\n",
       "      <td>1</td>\n",
       "      <td>1</td>\n",
       "      <td>0</td>\n",
       "      <td>0</td>\n",
       "      <td>0</td>\n",
       "      <td>0</td>\n",
       "      <td>0</td>\n",
       "    </tr>\n",
       "    <tr>\n",
       "      <th>4</th>\n",
       "      <td>5</td>\n",
       "      <td>60</td>\n",
       "      <td>84.0</td>\n",
       "      <td>14260</td>\n",
       "      <td>8</td>\n",
       "      <td>5</td>\n",
       "      <td>2000</td>\n",
       "      <td>2000</td>\n",
       "      <td>350.0</td>\n",
       "      <td>655</td>\n",
       "      <td>...</td>\n",
       "      <td>0</td>\n",
       "      <td>0</td>\n",
       "      <td>0</td>\n",
       "      <td>1</td>\n",
       "      <td>0</td>\n",
       "      <td>0</td>\n",
       "      <td>0</td>\n",
       "      <td>0</td>\n",
       "      <td>1</td>\n",
       "      <td>0</td>\n",
       "    </tr>\n",
       "    <tr>\n",
       "      <th>...</th>\n",
       "      <td>...</td>\n",
       "      <td>...</td>\n",
       "      <td>...</td>\n",
       "      <td>...</td>\n",
       "      <td>...</td>\n",
       "      <td>...</td>\n",
       "      <td>...</td>\n",
       "      <td>...</td>\n",
       "      <td>...</td>\n",
       "      <td>...</td>\n",
       "      <td>...</td>\n",
       "      <td>...</td>\n",
       "      <td>...</td>\n",
       "      <td>...</td>\n",
       "      <td>...</td>\n",
       "      <td>...</td>\n",
       "      <td>...</td>\n",
       "      <td>...</td>\n",
       "      <td>...</td>\n",
       "      <td>...</td>\n",
       "      <td>...</td>\n",
       "    </tr>\n",
       "    <tr>\n",
       "      <th>1455</th>\n",
       "      <td>1456</td>\n",
       "      <td>60</td>\n",
       "      <td>62.0</td>\n",
       "      <td>7917</td>\n",
       "      <td>6</td>\n",
       "      <td>5</td>\n",
       "      <td>1999</td>\n",
       "      <td>2000</td>\n",
       "      <td>0.0</td>\n",
       "      <td>0</td>\n",
       "      <td>...</td>\n",
       "      <td>0</td>\n",
       "      <td>0</td>\n",
       "      <td>0</td>\n",
       "      <td>1</td>\n",
       "      <td>0</td>\n",
       "      <td>0</td>\n",
       "      <td>0</td>\n",
       "      <td>0</td>\n",
       "      <td>1</td>\n",
       "      <td>0</td>\n",
       "    </tr>\n",
       "    <tr>\n",
       "      <th>1456</th>\n",
       "      <td>1457</td>\n",
       "      <td>20</td>\n",
       "      <td>85.0</td>\n",
       "      <td>13175</td>\n",
       "      <td>6</td>\n",
       "      <td>6</td>\n",
       "      <td>1978</td>\n",
       "      <td>1988</td>\n",
       "      <td>119.0</td>\n",
       "      <td>790</td>\n",
       "      <td>...</td>\n",
       "      <td>0</td>\n",
       "      <td>0</td>\n",
       "      <td>0</td>\n",
       "      <td>1</td>\n",
       "      <td>0</td>\n",
       "      <td>0</td>\n",
       "      <td>0</td>\n",
       "      <td>0</td>\n",
       "      <td>1</td>\n",
       "      <td>0</td>\n",
       "    </tr>\n",
       "    <tr>\n",
       "      <th>1457</th>\n",
       "      <td>1458</td>\n",
       "      <td>70</td>\n",
       "      <td>66.0</td>\n",
       "      <td>9042</td>\n",
       "      <td>7</td>\n",
       "      <td>9</td>\n",
       "      <td>1941</td>\n",
       "      <td>2006</td>\n",
       "      <td>0.0</td>\n",
       "      <td>275</td>\n",
       "      <td>...</td>\n",
       "      <td>0</td>\n",
       "      <td>0</td>\n",
       "      <td>0</td>\n",
       "      <td>1</td>\n",
       "      <td>0</td>\n",
       "      <td>0</td>\n",
       "      <td>0</td>\n",
       "      <td>0</td>\n",
       "      <td>1</td>\n",
       "      <td>0</td>\n",
       "    </tr>\n",
       "    <tr>\n",
       "      <th>1458</th>\n",
       "      <td>1459</td>\n",
       "      <td>20</td>\n",
       "      <td>68.0</td>\n",
       "      <td>9717</td>\n",
       "      <td>5</td>\n",
       "      <td>6</td>\n",
       "      <td>1950</td>\n",
       "      <td>1996</td>\n",
       "      <td>0.0</td>\n",
       "      <td>49</td>\n",
       "      <td>...</td>\n",
       "      <td>0</td>\n",
       "      <td>0</td>\n",
       "      <td>0</td>\n",
       "      <td>1</td>\n",
       "      <td>0</td>\n",
       "      <td>0</td>\n",
       "      <td>0</td>\n",
       "      <td>0</td>\n",
       "      <td>1</td>\n",
       "      <td>0</td>\n",
       "    </tr>\n",
       "    <tr>\n",
       "      <th>1459</th>\n",
       "      <td>1460</td>\n",
       "      <td>20</td>\n",
       "      <td>75.0</td>\n",
       "      <td>9937</td>\n",
       "      <td>5</td>\n",
       "      <td>6</td>\n",
       "      <td>1965</td>\n",
       "      <td>1965</td>\n",
       "      <td>0.0</td>\n",
       "      <td>830</td>\n",
       "      <td>...</td>\n",
       "      <td>0</td>\n",
       "      <td>0</td>\n",
       "      <td>0</td>\n",
       "      <td>1</td>\n",
       "      <td>0</td>\n",
       "      <td>0</td>\n",
       "      <td>0</td>\n",
       "      <td>0</td>\n",
       "      <td>1</td>\n",
       "      <td>0</td>\n",
       "    </tr>\n",
       "  </tbody>\n",
       "</table>\n",
       "<p>1460 rows × 289 columns</p>\n",
       "</div>"
      ],
      "text/plain": [
       "        Id  MSSubClass  LotFrontage  LotArea  OverallQual  OverallCond  \\\n",
       "0        1          60         65.0     8450            7            5   \n",
       "1        2          20         80.0     9600            6            8   \n",
       "2        3          60         68.0    11250            7            5   \n",
       "3        4          70         60.0     9550            7            5   \n",
       "4        5          60         84.0    14260            8            5   \n",
       "...    ...         ...          ...      ...          ...          ...   \n",
       "1455  1456          60         62.0     7917            6            5   \n",
       "1456  1457          20         85.0    13175            6            6   \n",
       "1457  1458          70         66.0     9042            7            9   \n",
       "1458  1459          20         68.0     9717            5            6   \n",
       "1459  1460          20         75.0     9937            5            6   \n",
       "\n",
       "      YearBuilt  YearRemodAdd  MasVnrArea  BsmtFinSF1  ...  SaleType_ConLw  \\\n",
       "0          2003          2003       196.0         706  ...               0   \n",
       "1          1976          1976         0.0         978  ...               0   \n",
       "2          2001          2002       162.0         486  ...               0   \n",
       "3          1915          1970         0.0         216  ...               0   \n",
       "4          2000          2000       350.0         655  ...               0   \n",
       "...         ...           ...         ...         ...  ...             ...   \n",
       "1455       1999          2000         0.0           0  ...               0   \n",
       "1456       1978          1988       119.0         790  ...               0   \n",
       "1457       1941          2006         0.0         275  ...               0   \n",
       "1458       1950          1996         0.0          49  ...               0   \n",
       "1459       1965          1965         0.0         830  ...               0   \n",
       "\n",
       "      SaleType_New  SaleType_Oth  SaleType_WD  SaleCondition_Abnorml  \\\n",
       "0                0             0            1                      0   \n",
       "1                0             0            1                      0   \n",
       "2                0             0            1                      0   \n",
       "3                0             0            1                      1   \n",
       "4                0             0            1                      0   \n",
       "...            ...           ...          ...                    ...   \n",
       "1455             0             0            1                      0   \n",
       "1456             0             0            1                      0   \n",
       "1457             0             0            1                      0   \n",
       "1458             0             0            1                      0   \n",
       "1459             0             0            1                      0   \n",
       "\n",
       "      SaleCondition_AdjLand  SaleCondition_Alloca  SaleCondition_Family  \\\n",
       "0                         0                     0                     0   \n",
       "1                         0                     0                     0   \n",
       "2                         0                     0                     0   \n",
       "3                         0                     0                     0   \n",
       "4                         0                     0                     0   \n",
       "...                     ...                   ...                   ...   \n",
       "1455                      0                     0                     0   \n",
       "1456                      0                     0                     0   \n",
       "1457                      0                     0                     0   \n",
       "1458                      0                     0                     0   \n",
       "1459                      0                     0                     0   \n",
       "\n",
       "      SaleCondition_Normal  SaleCondition_Partial  \n",
       "0                        1                      0  \n",
       "1                        1                      0  \n",
       "2                        1                      0  \n",
       "3                        0                      0  \n",
       "4                        1                      0  \n",
       "...                    ...                    ...  \n",
       "1455                     1                      0  \n",
       "1456                     1                      0  \n",
       "1457                     1                      0  \n",
       "1458                     1                      0  \n",
       "1459                     1                      0  \n",
       "\n",
       "[1460 rows x 289 columns]"
      ]
     },
     "execution_count": 204,
     "metadata": {},
     "output_type": "execute_result"
    }
   ],
   "source": [
    "X = X.fillna(X.mean())\n",
    "X"
   ]
  },
  {
   "cell_type": "code",
   "execution_count": null,
   "metadata": {},
   "outputs": [],
   "source": []
  },
  {
   "cell_type": "code",
   "execution_count": null,
   "metadata": {},
   "outputs": [],
   "source": []
  },
  {
   "cell_type": "code",
   "execution_count": null,
   "metadata": {},
   "outputs": [],
   "source": []
  },
  {
   "cell_type": "code",
   "execution_count": 205,
   "metadata": {},
   "outputs": [
    {
     "data": {
      "text/plain": [
       "0       208500\n",
       "1       181500\n",
       "2       223500\n",
       "3       140000\n",
       "4       250000\n",
       "         ...  \n",
       "1455    175000\n",
       "1456    210000\n",
       "1457    266500\n",
       "1458    142125\n",
       "1459    147500\n",
       "Name: SalePrice, Length: 1460, dtype: int64"
      ]
     },
     "execution_count": 205,
     "metadata": {},
     "output_type": "execute_result"
    }
   ],
   "source": [
    "Y = veri[\"SalePrice\"]\n",
    "Y"
   ]
  },
  {
   "cell_type": "code",
   "execution_count": 206,
   "metadata": {},
   "outputs": [],
   "source": [
    "#X = X.iloc[0:10]\n",
    "#Y = Y[0:10]\n",
    "#X.LotFrontage.isnull()"
   ]
  },
  {
   "cell_type": "code",
   "execution_count": 208,
   "metadata": {},
   "outputs": [
    {
     "data": {
      "text/plain": [
       "Ridge()"
      ]
     },
     "execution_count": 208,
     "metadata": {},
     "output_type": "execute_result"
    }
   ],
   "source": [
    "\n",
    "\n",
    "x_tr, x_test, y_tr, y_test = train_test_split(X, Y, test_size=0.2, random_state=6)\n",
    "modelim = linear_model.Ridge().fit(x_tr, y_tr)\n",
    "modelim"
   ]
  },
  {
   "cell_type": "code",
   "execution_count": 210,
   "metadata": {},
   "outputs": [
    {
     "data": {
      "text/plain": [
       "18514.38897628679"
      ]
     },
     "execution_count": 210,
     "metadata": {},
     "output_type": "execute_result"
    }
   ],
   "source": [
    "tah = modelim.predict(x_test)\n",
    "metrics.mean_absolute_error(y_test, tah)"
   ]
  },
  {
   "cell_type": "code",
   "execution_count": 211,
   "metadata": {},
   "outputs": [
    {
     "data": {
      "text/plain": [
       "183995.48630136985"
      ]
     },
     "execution_count": 211,
     "metadata": {},
     "output_type": "execute_result"
    }
   ],
   "source": [
    "np.mean(y_test)"
   ]
  },
  {
   "cell_type": "code",
   "execution_count": 212,
   "metadata": {},
   "outputs": [
    {
     "name": "stderr",
     "output_type": "stream",
     "text": [
      "/Library/Frameworks/Python.framework/Versions/3.6/lib/python3.6/site-packages/ipykernel_launcher.py:2: UserWarning: With alpha=0, this algorithm does not converge well. You are advised to use the LinearRegression estimator\n",
      "  \n",
      "/Library/Frameworks/Python.framework/Versions/3.6/lib/python3.6/site-packages/sklearn/linear_model/_coordinate_descent.py:531: UserWarning: Coordinate descent with no regularization may lead to unexpected results and is discouraged.\n",
      "  positive)\n",
      "/Library/Frameworks/Python.framework/Versions/3.6/lib/python3.6/site-packages/sklearn/linear_model/_coordinate_descent.py:531: ConvergenceWarning: Objective did not converge. You might want to increase the number of iterations. Duality gap: 198077066270.3051, tolerance: 698001432.3780247\n",
      "  positive)\n"
     ]
    },
    {
     "name": "stdout",
     "output_type": "stream",
     "text": [
      "17581.4552853889\n"
     ]
    },
    {
     "name": "stderr",
     "output_type": "stream",
     "text": [
      "/Library/Frameworks/Python.framework/Versions/3.6/lib/python3.6/site-packages/sklearn/linear_model/_coordinate_descent.py:531: ConvergenceWarning: Objective did not converge. You might want to increase the number of iterations. Duality gap: 356625776177.5794, tolerance: 698001432.3780247\n",
      "  positive)\n"
     ]
    },
    {
     "name": "stdout",
     "output_type": "stream",
     "text": [
      "18842.127583914273\n"
     ]
    },
    {
     "name": "stderr",
     "output_type": "stream",
     "text": [
      "/Library/Frameworks/Python.framework/Versions/3.6/lib/python3.6/site-packages/sklearn/linear_model/_coordinate_descent.py:531: ConvergenceWarning: Objective did not converge. You might want to increase the number of iterations. Duality gap: 391160388357.229, tolerance: 698001432.3780247\n",
      "  positive)\n"
     ]
    },
    {
     "name": "stdout",
     "output_type": "stream",
     "text": [
      "18907.310208744435\n"
     ]
    },
    {
     "name": "stderr",
     "output_type": "stream",
     "text": [
      "/Library/Frameworks/Python.framework/Versions/3.6/lib/python3.6/site-packages/sklearn/linear_model/_coordinate_descent.py:531: ConvergenceWarning: Objective did not converge. You might want to increase the number of iterations. Duality gap: 414198219769.4598, tolerance: 698001432.3780247\n",
      "  positive)\n"
     ]
    },
    {
     "name": "stdout",
     "output_type": "stream",
     "text": [
      "18961.79367019911\n"
     ]
    },
    {
     "name": "stderr",
     "output_type": "stream",
     "text": [
      "/Library/Frameworks/Python.framework/Versions/3.6/lib/python3.6/site-packages/sklearn/linear_model/_coordinate_descent.py:531: ConvergenceWarning: Objective did not converge. You might want to increase the number of iterations. Duality gap: 431898102767.4564, tolerance: 698001432.3780247\n",
      "  positive)\n"
     ]
    },
    {
     "name": "stdout",
     "output_type": "stream",
     "text": [
      "19028.18218166103\n"
     ]
    },
    {
     "name": "stderr",
     "output_type": "stream",
     "text": [
      "/Library/Frameworks/Python.framework/Versions/3.6/lib/python3.6/site-packages/sklearn/linear_model/_coordinate_descent.py:531: ConvergenceWarning: Objective did not converge. You might want to increase the number of iterations. Duality gap: 446410612109.53955, tolerance: 698001432.3780247\n",
      "  positive)\n"
     ]
    },
    {
     "name": "stdout",
     "output_type": "stream",
     "text": [
      "19093.079403925974\n"
     ]
    },
    {
     "name": "stderr",
     "output_type": "stream",
     "text": [
      "/Library/Frameworks/Python.framework/Versions/3.6/lib/python3.6/site-packages/sklearn/linear_model/_coordinate_descent.py:531: ConvergenceWarning: Objective did not converge. You might want to increase the number of iterations. Duality gap: 458774593873.56903, tolerance: 698001432.3780247\n",
      "  positive)\n"
     ]
    },
    {
     "name": "stdout",
     "output_type": "stream",
     "text": [
      "19146.000193693846\n"
     ]
    },
    {
     "name": "stderr",
     "output_type": "stream",
     "text": [
      "/Library/Frameworks/Python.framework/Versions/3.6/lib/python3.6/site-packages/sklearn/linear_model/_coordinate_descent.py:531: ConvergenceWarning: Objective did not converge. You might want to increase the number of iterations. Duality gap: 469580575672.6211, tolerance: 698001432.3780247\n",
      "  positive)\n"
     ]
    },
    {
     "name": "stdout",
     "output_type": "stream",
     "text": [
      "19192.423022426607\n"
     ]
    },
    {
     "name": "stderr",
     "output_type": "stream",
     "text": [
      "/Library/Frameworks/Python.framework/Versions/3.6/lib/python3.6/site-packages/sklearn/linear_model/_coordinate_descent.py:531: ConvergenceWarning: Objective did not converge. You might want to increase the number of iterations. Duality gap: 479199432575.79736, tolerance: 698001432.3780247\n",
      "  positive)\n"
     ]
    },
    {
     "name": "stdout",
     "output_type": "stream",
     "text": [
      "19243.490159093904\n"
     ]
    },
    {
     "name": "stderr",
     "output_type": "stream",
     "text": [
      "/Library/Frameworks/Python.framework/Versions/3.6/lib/python3.6/site-packages/sklearn/linear_model/_coordinate_descent.py:531: ConvergenceWarning: Objective did not converge. You might want to increase the number of iterations. Duality gap: 487880830339.27563, tolerance: 698001432.3780247\n",
      "  positive)\n"
     ]
    },
    {
     "name": "stdout",
     "output_type": "stream",
     "text": [
      "19294.47751887505\n"
     ]
    },
    {
     "name": "stderr",
     "output_type": "stream",
     "text": [
      "/Library/Frameworks/Python.framework/Versions/3.6/lib/python3.6/site-packages/sklearn/linear_model/_coordinate_descent.py:531: ConvergenceWarning: Objective did not converge. You might want to increase the number of iterations. Duality gap: 495801335999.1241, tolerance: 698001432.3780247\n",
      "  positive)\n"
     ]
    },
    {
     "name": "stdout",
     "output_type": "stream",
     "text": [
      "19341.88956060272\n"
     ]
    },
    {
     "name": "stderr",
     "output_type": "stream",
     "text": [
      "/Library/Frameworks/Python.framework/Versions/3.6/lib/python3.6/site-packages/sklearn/linear_model/_coordinate_descent.py:531: ConvergenceWarning: Objective did not converge. You might want to increase the number of iterations. Duality gap: 503090854349.3619, tolerance: 698001432.3780247\n",
      "  positive)\n"
     ]
    },
    {
     "name": "stdout",
     "output_type": "stream",
     "text": [
      "19388.269357416746\n"
     ]
    },
    {
     "name": "stderr",
     "output_type": "stream",
     "text": [
      "/Library/Frameworks/Python.framework/Versions/3.6/lib/python3.6/site-packages/sklearn/linear_model/_coordinate_descent.py:531: ConvergenceWarning: Objective did not converge. You might want to increase the number of iterations. Duality gap: 509847812631.14703, tolerance: 698001432.3780247\n",
      "  positive)\n"
     ]
    },
    {
     "name": "stdout",
     "output_type": "stream",
     "text": [
      "19439.08452116556\n"
     ]
    },
    {
     "name": "stderr",
     "output_type": "stream",
     "text": [
      "/Library/Frameworks/Python.framework/Versions/3.6/lib/python3.6/site-packages/sklearn/linear_model/_coordinate_descent.py:531: ConvergenceWarning: Objective did not converge. You might want to increase the number of iterations. Duality gap: 516148697939.45544, tolerance: 698001432.3780247\n",
      "  positive)\n"
     ]
    },
    {
     "name": "stdout",
     "output_type": "stream",
     "text": [
      "19490.99214602035\n"
     ]
    },
    {
     "name": "stderr",
     "output_type": "stream",
     "text": [
      "/Library/Frameworks/Python.framework/Versions/3.6/lib/python3.6/site-packages/sklearn/linear_model/_coordinate_descent.py:531: ConvergenceWarning: Objective did not converge. You might want to increase the number of iterations. Duality gap: 522054176797.97833, tolerance: 698001432.3780247\n",
      "  positive)\n"
     ]
    },
    {
     "name": "stdout",
     "output_type": "stream",
     "text": [
      "19544.553599877163\n"
     ]
    },
    {
     "name": "stderr",
     "output_type": "stream",
     "text": [
      "/Library/Frameworks/Python.framework/Versions/3.6/lib/python3.6/site-packages/sklearn/linear_model/_coordinate_descent.py:531: ConvergenceWarning: Objective did not converge. You might want to increase the number of iterations. Duality gap: 527613149273.07764, tolerance: 698001432.3780247\n",
      "  positive)\n"
     ]
    },
    {
     "name": "stdout",
     "output_type": "stream",
     "text": [
      "19595.68037949284\n"
     ]
    },
    {
     "name": "stderr",
     "output_type": "stream",
     "text": [
      "/Library/Frameworks/Python.framework/Versions/3.6/lib/python3.6/site-packages/sklearn/linear_model/_coordinate_descent.py:531: ConvergenceWarning: Objective did not converge. You might want to increase the number of iterations. Duality gap: 532865866731.5924, tolerance: 698001432.3780247\n",
      "  positive)\n"
     ]
    },
    {
     "name": "stdout",
     "output_type": "stream",
     "text": [
      "19641.69462185115\n"
     ]
    },
    {
     "name": "stderr",
     "output_type": "stream",
     "text": [
      "/Library/Frameworks/Python.framework/Versions/3.6/lib/python3.6/site-packages/sklearn/linear_model/_coordinate_descent.py:531: ConvergenceWarning: Objective did not converge. You might want to increase the number of iterations. Duality gap: 537845628535.79626, tolerance: 698001432.3780247\n",
      "  positive)\n"
     ]
    },
    {
     "name": "stdout",
     "output_type": "stream",
     "text": [
      "19686.251689157805\n"
     ]
    },
    {
     "name": "stderr",
     "output_type": "stream",
     "text": [
      "/Library/Frameworks/Python.framework/Versions/3.6/lib/python3.6/site-packages/sklearn/linear_model/_coordinate_descent.py:531: ConvergenceWarning: Objective did not converge. You might want to increase the number of iterations. Duality gap: 542580282156.2909, tolerance: 698001432.3780247\n",
      "  positive)\n"
     ]
    },
    {
     "name": "stdout",
     "output_type": "stream",
     "text": [
      "19728.40360016009\n"
     ]
    },
    {
     "name": "stderr",
     "output_type": "stream",
     "text": [
      "/Library/Frameworks/Python.framework/Versions/3.6/lib/python3.6/site-packages/sklearn/linear_model/_coordinate_descent.py:531: ConvergenceWarning: Objective did not converge. You might want to increase the number of iterations. Duality gap: 547093598321.9747, tolerance: 698001432.3780247\n",
      "  positive)\n"
     ]
    },
    {
     "name": "stdout",
     "output_type": "stream",
     "text": [
      "19771.14688062641\n"
     ]
    },
    {
     "name": "stderr",
     "output_type": "stream",
     "text": [
      "/Library/Frameworks/Python.framework/Versions/3.6/lib/python3.6/site-packages/sklearn/linear_model/_coordinate_descent.py:531: ConvergenceWarning: Objective did not converge. You might want to increase the number of iterations. Duality gap: 551405825119.9343, tolerance: 698001432.3780247\n",
      "  positive)\n"
     ]
    },
    {
     "name": "stdout",
     "output_type": "stream",
     "text": [
      "19814.93735431166\n"
     ]
    },
    {
     "name": "stderr",
     "output_type": "stream",
     "text": [
      "/Library/Frameworks/Python.framework/Versions/3.6/lib/python3.6/site-packages/sklearn/linear_model/_coordinate_descent.py:531: ConvergenceWarning: Objective did not converge. You might want to increase the number of iterations. Duality gap: 555534487738.1721, tolerance: 698001432.3780247\n",
      "  positive)\n"
     ]
    },
    {
     "name": "stdout",
     "output_type": "stream",
     "text": [
      "19855.38977359899\n"
     ]
    },
    {
     "name": "stderr",
     "output_type": "stream",
     "text": [
      "/Library/Frameworks/Python.framework/Versions/3.6/lib/python3.6/site-packages/sklearn/linear_model/_coordinate_descent.py:531: ConvergenceWarning: Objective did not converge. You might want to increase the number of iterations. Duality gap: 559494812652.2322, tolerance: 698001432.3780247\n",
      "  positive)\n"
     ]
    },
    {
     "name": "stdout",
     "output_type": "stream",
     "text": [
      "19892.862838331246\n"
     ]
    },
    {
     "name": "stderr",
     "output_type": "stream",
     "text": [
      "/Library/Frameworks/Python.framework/Versions/3.6/lib/python3.6/site-packages/sklearn/linear_model/_coordinate_descent.py:531: ConvergenceWarning: Objective did not converge. You might want to increase the number of iterations. Duality gap: 563300125784.6547, tolerance: 698001432.3780247\n",
      "  positive)\n"
     ]
    },
    {
     "name": "stdout",
     "output_type": "stream",
     "text": [
      "19927.66333082757\n",
      "19960.69674222051\n"
     ]
    },
    {
     "name": "stderr",
     "output_type": "stream",
     "text": [
      "/Library/Frameworks/Python.framework/Versions/3.6/lib/python3.6/site-packages/sklearn/linear_model/_coordinate_descent.py:531: ConvergenceWarning: Objective did not converge. You might want to increase the number of iterations. Duality gap: 566962146258.7296, tolerance: 698001432.3780247\n",
      "  positive)\n"
     ]
    }
   ],
   "source": [
    "for i in np.arange(0,0.5, 0.02):\n",
    "    modelim = linear_model.ElasticNet(alpha=i).fit(x_tr, y_tr)\n",
    "    tah = modelim.predict(x_test)\n",
    "    başarı = metrics.mean_absolute_error(y_test, tah)\n",
    "    print(başarı)"
   ]
  },
  {
   "cell_type": "code",
   "execution_count": 216,
   "metadata": {},
   "outputs": [
    {
     "name": "stderr",
     "output_type": "stream",
     "text": [
      "/Library/Frameworks/Python.framework/Versions/3.6/lib/python3.6/site-packages/sklearn/linear_model/_coordinate_descent.py:531: ConvergenceWarning: Objective did not converge. You might want to increase the number of iterations. Duality gap: 837661864067.3522, tolerance: 698001432.3780247\n",
      "  positive)\n"
     ]
    },
    {
     "name": "stdout",
     "output_type": "stream",
     "text": [
      "24377.330784071088\n"
     ]
    },
    {
     "name": "stderr",
     "output_type": "stream",
     "text": [
      "/Library/Frameworks/Python.framework/Versions/3.6/lib/python3.6/site-packages/sklearn/linear_model/_coordinate_descent.py:531: ConvergenceWarning: Objective did not converge. You might want to increase the number of iterations. Duality gap: 828052994628.6414, tolerance: 698001432.3780247\n",
      "  positive)\n"
     ]
    },
    {
     "name": "stdout",
     "output_type": "stream",
     "text": [
      "24093.93211544499\n"
     ]
    },
    {
     "name": "stderr",
     "output_type": "stream",
     "text": [
      "/Library/Frameworks/Python.framework/Versions/3.6/lib/python3.6/site-packages/sklearn/linear_model/_coordinate_descent.py:531: ConvergenceWarning: Objective did not converge. You might want to increase the number of iterations. Duality gap: 813879133388.8442, tolerance: 698001432.3780247\n",
      "  positive)\n"
     ]
    },
    {
     "name": "stdout",
     "output_type": "stream",
     "text": [
      "23675.260058600805\n"
     ]
    },
    {
     "name": "stderr",
     "output_type": "stream",
     "text": [
      "/Library/Frameworks/Python.framework/Versions/3.6/lib/python3.6/site-packages/sklearn/linear_model/_coordinate_descent.py:531: ConvergenceWarning: Objective did not converge. You might want to increase the number of iterations. Duality gap: 790300323642.0668, tolerance: 698001432.3780247\n",
      "  positive)\n"
     ]
    },
    {
     "name": "stdout",
     "output_type": "stream",
     "text": [
      "23022.762459754413\n"
     ]
    },
    {
     "name": "stderr",
     "output_type": "stream",
     "text": [
      "/Library/Frameworks/Python.framework/Versions/3.6/lib/python3.6/site-packages/sklearn/linear_model/_coordinate_descent.py:531: ConvergenceWarning: Objective did not converge. You might want to increase the number of iterations. Duality gap: 741395054554.235, tolerance: 698001432.3780247\n",
      "  positive)\n"
     ]
    },
    {
     "name": "stdout",
     "output_type": "stream",
     "text": [
      "21890.111903102486\n"
     ]
    },
    {
     "name": "stderr",
     "output_type": "stream",
     "text": [
      "/Library/Frameworks/Python.framework/Versions/3.6/lib/python3.6/site-packages/sklearn/linear_model/_coordinate_descent.py:531: ConvergenceWarning: Objective did not converge. You might want to increase the number of iterations. Duality gap: 514917359142.81146, tolerance: 698001432.3780247\n",
      "  positive)\n"
     ]
    },
    {
     "name": "stdout",
     "output_type": "stream",
     "text": [
      "19341.622110641856\n"
     ]
    },
    {
     "name": "stderr",
     "output_type": "stream",
     "text": [
      "/Library/Frameworks/Python.framework/Versions/3.6/lib/python3.6/site-packages/sklearn/linear_model/_coordinate_descent.py:531: ConvergenceWarning: Objective did not converge. You might want to increase the number of iterations. Duality gap: nan, tolerance: 698001432.3780247\n",
      "  positive)\n"
     ]
    },
    {
     "name": "stdout",
     "output_type": "stream",
     "text": [
      "60006.897682492025\n"
     ]
    },
    {
     "name": "stderr",
     "output_type": "stream",
     "text": [
      "/Library/Frameworks/Python.framework/Versions/3.6/lib/python3.6/site-packages/sklearn/linear_model/_coordinate_descent.py:531: ConvergenceWarning: Objective did not converge. You might want to increase the number of iterations. Duality gap: nan, tolerance: 698001432.3780247\n",
      "  positive)\n"
     ]
    },
    {
     "name": "stdout",
     "output_type": "stream",
     "text": [
      "60006.897682492025\n"
     ]
    },
    {
     "name": "stderr",
     "output_type": "stream",
     "text": [
      "/Library/Frameworks/Python.framework/Versions/3.6/lib/python3.6/site-packages/sklearn/linear_model/_coordinate_descent.py:531: ConvergenceWarning: Objective did not converge. You might want to increase the number of iterations. Duality gap: nan, tolerance: 698001432.3780247\n",
      "  positive)\n"
     ]
    },
    {
     "name": "stdout",
     "output_type": "stream",
     "text": [
      "60006.897682492025\n",
      "4.345905083649304e+121\n"
     ]
    },
    {
     "name": "stderr",
     "output_type": "stream",
     "text": [
      "/Library/Frameworks/Python.framework/Versions/3.6/lib/python3.6/site-packages/sklearn/linear_model/_coordinate_descent.py:531: ConvergenceWarning: Objective did not converge. You might want to increase the number of iterations. Duality gap: 3.6135616589117567e+245, tolerance: 698001432.3780247\n",
      "  positive)\n"
     ]
    }
   ],
   "source": [
    "for i in np.arange(-50, 50, 10):\n",
    "    modelim = linear_model.ElasticNet(alpha=0.1, l1_ratio=i).fit(x_tr, y_tr)\n",
    "    tah = modelim.predict(x_test)\n",
    "    başarı = metrics.mean_absolute_error(y_test, tah)\n",
    "    print(başarı)"
   ]
  },
  {
   "cell_type": "markdown",
   "metadata": {},
   "source": [
    "# yeni örnek"
   ]
  },
  {
   "cell_type": "code",
   "execution_count": 218,
   "metadata": {},
   "outputs": [
    {
     "data": {
      "text/html": [
       "<div>\n",
       "<style scoped>\n",
       "    .dataframe tbody tr th:only-of-type {\n",
       "        vertical-align: middle;\n",
       "    }\n",
       "\n",
       "    .dataframe tbody tr th {\n",
       "        vertical-align: top;\n",
       "    }\n",
       "\n",
       "    .dataframe thead th {\n",
       "        text-align: right;\n",
       "    }\n",
       "</style>\n",
       "<table border=\"1\" class=\"dataframe\">\n",
       "  <thead>\n",
       "    <tr style=\"text-align: right;\">\n",
       "      <th></th>\n",
       "      <th>datetime</th>\n",
       "      <th>id</th>\n",
       "      <th>name</th>\n",
       "      <th>geoid</th>\n",
       "      <th>geoname</th>\n",
       "      <th>value</th>\n",
       "    </tr>\n",
       "  </thead>\n",
       "  <tbody>\n",
       "    <tr>\n",
       "      <th>0</th>\n",
       "      <td>2014-01-01 23:00:00</td>\n",
       "      <td>600</td>\n",
       "      <td>Precio mercado SPOT Diario ESP</td>\n",
       "      <td>3.0</td>\n",
       "      <td>España</td>\n",
       "      <td>25.280833</td>\n",
       "    </tr>\n",
       "    <tr>\n",
       "      <th>1</th>\n",
       "      <td>2014-01-02 23:00:00</td>\n",
       "      <td>600</td>\n",
       "      <td>Precio mercado SPOT Diario ESP</td>\n",
       "      <td>3.0</td>\n",
       "      <td>España</td>\n",
       "      <td>39.924167</td>\n",
       "    </tr>\n",
       "    <tr>\n",
       "      <th>2</th>\n",
       "      <td>2014-01-03 23:00:00</td>\n",
       "      <td>600</td>\n",
       "      <td>Precio mercado SPOT Diario ESP</td>\n",
       "      <td>3.0</td>\n",
       "      <td>España</td>\n",
       "      <td>4.992083</td>\n",
       "    </tr>\n",
       "    <tr>\n",
       "      <th>3</th>\n",
       "      <td>2014-01-04 23:00:00</td>\n",
       "      <td>600</td>\n",
       "      <td>Precio mercado SPOT Diario ESP</td>\n",
       "      <td>3.0</td>\n",
       "      <td>España</td>\n",
       "      <td>4.091667</td>\n",
       "    </tr>\n",
       "    <tr>\n",
       "      <th>4</th>\n",
       "      <td>2014-01-05 23:00:00</td>\n",
       "      <td>600</td>\n",
       "      <td>Precio mercado SPOT Diario ESP</td>\n",
       "      <td>3.0</td>\n",
       "      <td>España</td>\n",
       "      <td>13.587500</td>\n",
       "    </tr>\n",
       "    <tr>\n",
       "      <th>...</th>\n",
       "      <td>...</td>\n",
       "      <td>...</td>\n",
       "      <td>...</td>\n",
       "      <td>...</td>\n",
       "      <td>...</td>\n",
       "      <td>...</td>\n",
       "    </tr>\n",
       "    <tr>\n",
       "      <th>40207</th>\n",
       "      <td>2018-12-27 23:00:00</td>\n",
       "      <td>3</td>\n",
       "      <td>Generación programada PBF Turbinación bombeo</td>\n",
       "      <td>NaN</td>\n",
       "      <td>NaN</td>\n",
       "      <td>8838.000000</td>\n",
       "    </tr>\n",
       "    <tr>\n",
       "      <th>40208</th>\n",
       "      <td>2018-12-28 23:00:00</td>\n",
       "      <td>3</td>\n",
       "      <td>Generación programada PBF Turbinación bombeo</td>\n",
       "      <td>NaN</td>\n",
       "      <td>NaN</td>\n",
       "      <td>8738.800000</td>\n",
       "    </tr>\n",
       "    <tr>\n",
       "      <th>40209</th>\n",
       "      <td>2018-12-29 23:00:00</td>\n",
       "      <td>3</td>\n",
       "      <td>Generación programada PBF Turbinación bombeo</td>\n",
       "      <td>NaN</td>\n",
       "      <td>NaN</td>\n",
       "      <td>9020.000000</td>\n",
       "    </tr>\n",
       "    <tr>\n",
       "      <th>40210</th>\n",
       "      <td>2018-12-30 23:00:00</td>\n",
       "      <td>3</td>\n",
       "      <td>Generación programada PBF Turbinación bombeo</td>\n",
       "      <td>NaN</td>\n",
       "      <td>NaN</td>\n",
       "      <td>8466.200000</td>\n",
       "    </tr>\n",
       "    <tr>\n",
       "      <th>40211</th>\n",
       "      <td>2018-12-31 23:00:00</td>\n",
       "      <td>3</td>\n",
       "      <td>Generación programada PBF Turbinación bombeo</td>\n",
       "      <td>NaN</td>\n",
       "      <td>NaN</td>\n",
       "      <td>10764.000000</td>\n",
       "    </tr>\n",
       "  </tbody>\n",
       "</table>\n",
       "<p>40212 rows × 6 columns</p>\n",
       "</div>"
      ],
      "text/plain": [
       "                  datetime   id                                          name  \\\n",
       "0      2014-01-01 23:00:00  600                Precio mercado SPOT Diario ESP   \n",
       "1      2014-01-02 23:00:00  600                Precio mercado SPOT Diario ESP   \n",
       "2      2014-01-03 23:00:00  600                Precio mercado SPOT Diario ESP   \n",
       "3      2014-01-04 23:00:00  600                Precio mercado SPOT Diario ESP   \n",
       "4      2014-01-05 23:00:00  600                Precio mercado SPOT Diario ESP   \n",
       "...                    ...  ...                                           ...   \n",
       "40207  2018-12-27 23:00:00    3  Generación programada PBF Turbinación bombeo   \n",
       "40208  2018-12-28 23:00:00    3  Generación programada PBF Turbinación bombeo   \n",
       "40209  2018-12-29 23:00:00    3  Generación programada PBF Turbinación bombeo   \n",
       "40210  2018-12-30 23:00:00    3  Generación programada PBF Turbinación bombeo   \n",
       "40211  2018-12-31 23:00:00    3  Generación programada PBF Turbinación bombeo   \n",
       "\n",
       "       geoid geoname         value  \n",
       "0        3.0  España     25.280833  \n",
       "1        3.0  España     39.924167  \n",
       "2        3.0  España      4.992083  \n",
       "3        3.0  España      4.091667  \n",
       "4        3.0  España     13.587500  \n",
       "...      ...     ...           ...  \n",
       "40207    NaN     NaN   8838.000000  \n",
       "40208    NaN     NaN   8738.800000  \n",
       "40209    NaN     NaN   9020.000000  \n",
       "40210    NaN     NaN   8466.200000  \n",
       "40211    NaN     NaN  10764.000000  \n",
       "\n",
       "[40212 rows x 6 columns]"
      ]
     },
     "execution_count": 218,
     "metadata": {},
     "output_type": "execute_result"
    }
   ],
   "source": [
    "yol = \"/Users/data/spain_energy_market.csv\"\n",
    "veriler = pd.read_csv(yol)\n",
    "veriler"
   ]
  },
  {
   "cell_type": "code",
   "execution_count": 219,
   "metadata": {},
   "outputs": [
    {
     "name": "stdout",
     "output_type": "stream",
     "text": [
      "<class 'pandas.core.frame.DataFrame'>\n",
      "RangeIndex: 40212 entries, 0 to 40211\n",
      "Data columns (total 6 columns):\n",
      "datetime    40212 non-null datetime64[ns]\n",
      "id          40212 non-null int64\n",
      "name        34734 non-null object\n",
      "geoid       10956 non-null float64\n",
      "geoname     10956 non-null object\n",
      "value       40212 non-null float64\n",
      "dtypes: datetime64[ns](1), float64(2), int64(1), object(2)\n",
      "memory usage: 1.8+ MB\n",
      "None\n"
     ]
    }
   ],
   "source": [
    "veriler['datetime'] = pd.to_datetime(veriler['datetime'], infer_datetime_format=True)\n",
    "print(veriler.info())"
   ]
  },
  {
   "cell_type": "code",
   "execution_count": 220,
   "metadata": {},
   "outputs": [
    {
     "data": {
      "text/html": [
       "<div>\n",
       "<style scoped>\n",
       "    .dataframe tbody tr th:only-of-type {\n",
       "        vertical-align: middle;\n",
       "    }\n",
       "\n",
       "    .dataframe tbody tr th {\n",
       "        vertical-align: top;\n",
       "    }\n",
       "\n",
       "    .dataframe thead th {\n",
       "        text-align: right;\n",
       "    }\n",
       "</style>\n",
       "<table border=\"1\" class=\"dataframe\">\n",
       "  <thead>\n",
       "    <tr style=\"text-align: right;\">\n",
       "      <th></th>\n",
       "      <th>datetime</th>\n",
       "      <th>id</th>\n",
       "      <th>name</th>\n",
       "      <th>geoid</th>\n",
       "      <th>geoname</th>\n",
       "      <th>value</th>\n",
       "    </tr>\n",
       "  </thead>\n",
       "  <tbody>\n",
       "    <tr>\n",
       "      <th>657</th>\n",
       "      <td>2015-10-20 22:00:00</td>\n",
       "      <td>600</td>\n",
       "      <td>Precio mercado SPOT Diario ESP</td>\n",
       "      <td>3.0</td>\n",
       "      <td>España</td>\n",
       "      <td>48.879167</td>\n",
       "    </tr>\n",
       "    <tr>\n",
       "      <th>658</th>\n",
       "      <td>2015-10-21 22:00:00</td>\n",
       "      <td>600</td>\n",
       "      <td>Precio mercado SPOT Diario ESP</td>\n",
       "      <td>3.0</td>\n",
       "      <td>España</td>\n",
       "      <td>51.419167</td>\n",
       "    </tr>\n",
       "    <tr>\n",
       "      <th>659</th>\n",
       "      <td>2015-10-22 22:00:00</td>\n",
       "      <td>600</td>\n",
       "      <td>Precio mercado SPOT Diario ESP</td>\n",
       "      <td>3.0</td>\n",
       "      <td>España</td>\n",
       "      <td>56.762500</td>\n",
       "    </tr>\n",
       "    <tr>\n",
       "      <th>660</th>\n",
       "      <td>2015-10-23 22:00:00</td>\n",
       "      <td>600</td>\n",
       "      <td>Precio mercado SPOT Diario ESP</td>\n",
       "      <td>3.0</td>\n",
       "      <td>España</td>\n",
       "      <td>50.964583</td>\n",
       "    </tr>\n",
       "    <tr>\n",
       "      <th>661</th>\n",
       "      <td>2015-10-24 22:00:00</td>\n",
       "      <td>600</td>\n",
       "      <td>Precio mercado SPOT Diario ESP</td>\n",
       "      <td>3.0</td>\n",
       "      <td>España</td>\n",
       "      <td>44.260000</td>\n",
       "    </tr>\n",
       "    <tr>\n",
       "      <th>...</th>\n",
       "      <td>...</td>\n",
       "      <td>...</td>\n",
       "      <td>...</td>\n",
       "      <td>...</td>\n",
       "      <td>...</td>\n",
       "      <td>...</td>\n",
       "    </tr>\n",
       "    <tr>\n",
       "      <th>39048</th>\n",
       "      <td>2015-10-25 23:00:00</td>\n",
       "      <td>3</td>\n",
       "      <td>Generación programada PBF Turbinación bombeo</td>\n",
       "      <td>NaN</td>\n",
       "      <td>NaN</td>\n",
       "      <td>5676.200000</td>\n",
       "    </tr>\n",
       "    <tr>\n",
       "      <th>39049</th>\n",
       "      <td>2015-10-26 23:00:00</td>\n",
       "      <td>3</td>\n",
       "      <td>Generación programada PBF Turbinación bombeo</td>\n",
       "      <td>NaN</td>\n",
       "      <td>NaN</td>\n",
       "      <td>5461.800000</td>\n",
       "    </tr>\n",
       "    <tr>\n",
       "      <th>39050</th>\n",
       "      <td>2015-10-27 23:00:00</td>\n",
       "      <td>3</td>\n",
       "      <td>Generación programada PBF Turbinación bombeo</td>\n",
       "      <td>NaN</td>\n",
       "      <td>NaN</td>\n",
       "      <td>3514.900000</td>\n",
       "    </tr>\n",
       "    <tr>\n",
       "      <th>39051</th>\n",
       "      <td>2015-10-28 23:00:00</td>\n",
       "      <td>3</td>\n",
       "      <td>Generación programada PBF Turbinación bombeo</td>\n",
       "      <td>NaN</td>\n",
       "      <td>NaN</td>\n",
       "      <td>12778.400000</td>\n",
       "    </tr>\n",
       "    <tr>\n",
       "      <th>39052</th>\n",
       "      <td>2015-10-29 23:00:00</td>\n",
       "      <td>3</td>\n",
       "      <td>Generación programada PBF Turbinación bombeo</td>\n",
       "      <td>NaN</td>\n",
       "      <td>NaN</td>\n",
       "      <td>6198.800000</td>\n",
       "    </tr>\n",
       "  </tbody>\n",
       "</table>\n",
       "<p>228 rows × 6 columns</p>\n",
       "</div>"
      ],
      "text/plain": [
       "                 datetime   id                                          name  \\\n",
       "657   2015-10-20 22:00:00  600                Precio mercado SPOT Diario ESP   \n",
       "658   2015-10-21 22:00:00  600                Precio mercado SPOT Diario ESP   \n",
       "659   2015-10-22 22:00:00  600                Precio mercado SPOT Diario ESP   \n",
       "660   2015-10-23 22:00:00  600                Precio mercado SPOT Diario ESP   \n",
       "661   2015-10-24 22:00:00  600                Precio mercado SPOT Diario ESP   \n",
       "...                   ...  ...                                           ...   \n",
       "39048 2015-10-25 23:00:00    3  Generación programada PBF Turbinación bombeo   \n",
       "39049 2015-10-26 23:00:00    3  Generación programada PBF Turbinación bombeo   \n",
       "39050 2015-10-27 23:00:00    3  Generación programada PBF Turbinación bombeo   \n",
       "39051 2015-10-28 23:00:00    3  Generación programada PBF Turbinación bombeo   \n",
       "39052 2015-10-29 23:00:00    3  Generación programada PBF Turbinación bombeo   \n",
       "\n",
       "       geoid geoname         value  \n",
       "657      3.0  España     48.879167  \n",
       "658      3.0  España     51.419167  \n",
       "659      3.0  España     56.762500  \n",
       "660      3.0  España     50.964583  \n",
       "661      3.0  España     44.260000  \n",
       "...      ...     ...           ...  \n",
       "39048    NaN     NaN   5676.200000  \n",
       "39049    NaN     NaN   5461.800000  \n",
       "39050    NaN     NaN   3514.900000  \n",
       "39051    NaN     NaN  12778.400000  \n",
       "39052    NaN     NaN   6198.800000  \n",
       "\n",
       "[228 rows x 6 columns]"
      ]
     },
     "execution_count": 220,
     "metadata": {},
     "output_type": "execute_result"
    }
   ],
   "source": [
    "tarih_filtresi = (veriler['datetime'] > '2015-10-20') & (veriler['datetime'] <= '2015-10-30')\n",
    "veriler.loc[tarih_filtresi]"
   ]
  },
  {
   "cell_type": "code",
   "execution_count": 221,
   "metadata": {},
   "outputs": [
    {
     "name": "stdout",
     "output_type": "stream",
     "text": [
      " ------------------- veriler[tarih_filtresi & fransa_filtresi) --\n",
      "                 datetime   id                            name  geoid  \\\n",
      "2483  2015-10-20 22:00:00  600  Precio mercado SPOT Diario FRA    2.0   \n",
      "2484  2015-10-21 22:00:00  600  Precio mercado SPOT Diario FRA    2.0   \n",
      "2485  2015-10-22 22:00:00  600  Precio mercado SPOT Diario FRA    2.0   \n",
      "2486  2015-10-23 22:00:00  600  Precio mercado SPOT Diario FRA    2.0   \n",
      "2487  2015-10-24 22:00:00  600  Precio mercado SPOT Diario FRA    2.0   \n",
      "2488  2015-10-25 23:00:00  600  Precio mercado SPOT Diario FRA    2.0   \n",
      "2489  2015-10-26 23:00:00  600  Precio mercado SPOT Diario FRA    2.0   \n",
      "2490  2015-10-27 23:00:00  600  Precio mercado SPOT Diario FRA    2.0   \n",
      "2491  2015-10-28 23:00:00  600  Precio mercado SPOT Diario FRA    2.0   \n",
      "2492  2015-10-29 23:00:00  600  Precio mercado SPOT Diario FRA    2.0   \n",
      "11102 2015-10-20 22:00:00  600                             NaN    2.0   \n",
      "11105 2015-10-21 22:00:00  600                             NaN    2.0   \n",
      "11108 2015-10-22 22:00:00  600                             NaN    2.0   \n",
      "11111 2015-10-23 22:00:00  600                             NaN    2.0   \n",
      "11114 2015-10-24 22:00:00  600                             NaN    2.0   \n",
      "11117 2015-10-25 23:00:00  600                             NaN    2.0   \n",
      "11120 2015-10-26 23:00:00  600                             NaN    2.0   \n",
      "11123 2015-10-27 23:00:00  600                             NaN    2.0   \n",
      "11126 2015-10-28 23:00:00  600                             NaN    2.0   \n",
      "11129 2015-10-29 23:00:00  600                             NaN    2.0   \n",
      "\n",
      "       geoname      value  \n",
      "2483   Francia  51.773333  \n",
      "2484   Francia  48.859167  \n",
      "2485   Francia  50.275000  \n",
      "2486   Francia  39.222083  \n",
      "2487   Francia  36.540000  \n",
      "2488   Francia  47.212083  \n",
      "2489   Francia  45.819583  \n",
      "2490   Francia  49.235000  \n",
      "2491   Francia  50.714167  \n",
      "2492   Francia  45.207500  \n",
      "11102  Francia  51.773333  \n",
      "11105  Francia  48.859167  \n",
      "11108  Francia  50.275000  \n",
      "11111  Francia  39.222083  \n",
      "11114  Francia  36.540000  \n",
      "11117  Francia  47.212083  \n",
      "11120  Francia  45.819583  \n",
      "11123  Francia  49.235000  \n",
      "11126  Francia  50.714167  \n",
      "11129  Francia  45.207500  \n"
     ]
    }
   ],
   "source": [
    "fransa_filtresi = veriler[\"geoname\"]==\"Francia\"\n",
    "print(\" ------------------- veriler[tarih_filtresi & fransa_filtresi) --\")\n",
    "print(veriler[tarih_filtresi & fransa_filtresi])"
   ]
  },
  {
   "cell_type": "code",
   "execution_count": 222,
   "metadata": {},
   "outputs": [
    {
     "data": {
      "text/html": [
       "<div>\n",
       "<style scoped>\n",
       "    .dataframe tbody tr th:only-of-type {\n",
       "        vertical-align: middle;\n",
       "    }\n",
       "\n",
       "    .dataframe tbody tr th {\n",
       "        vertical-align: top;\n",
       "    }\n",
       "\n",
       "    .dataframe thead th {\n",
       "        text-align: right;\n",
       "    }\n",
       "</style>\n",
       "<table border=\"1\" class=\"dataframe\">\n",
       "  <thead>\n",
       "    <tr style=\"text-align: right;\">\n",
       "      <th></th>\n",
       "      <th>index</th>\n",
       "      <th>datetime</th>\n",
       "      <th>id</th>\n",
       "      <th>name</th>\n",
       "      <th>geoid</th>\n",
       "      <th>geoname</th>\n",
       "      <th>value</th>\n",
       "    </tr>\n",
       "  </thead>\n",
       "  <tbody>\n",
       "    <tr>\n",
       "      <th>0</th>\n",
       "      <td>1826</td>\n",
       "      <td>2014-01-01 23:00:00</td>\n",
       "      <td>600</td>\n",
       "      <td>Precio mercado SPOT Diario FRA</td>\n",
       "      <td>2.0</td>\n",
       "      <td>Francia</td>\n",
       "      <td>28.711250</td>\n",
       "    </tr>\n",
       "    <tr>\n",
       "      <th>1</th>\n",
       "      <td>1827</td>\n",
       "      <td>2014-01-02 23:00:00</td>\n",
       "      <td>600</td>\n",
       "      <td>Precio mercado SPOT Diario FRA</td>\n",
       "      <td>2.0</td>\n",
       "      <td>Francia</td>\n",
       "      <td>28.397500</td>\n",
       "    </tr>\n",
       "    <tr>\n",
       "      <th>2</th>\n",
       "      <td>1828</td>\n",
       "      <td>2014-01-03 23:00:00</td>\n",
       "      <td>600</td>\n",
       "      <td>Precio mercado SPOT Diario FRA</td>\n",
       "      <td>2.0</td>\n",
       "      <td>Francia</td>\n",
       "      <td>12.997500</td>\n",
       "    </tr>\n",
       "    <tr>\n",
       "      <th>3</th>\n",
       "      <td>1829</td>\n",
       "      <td>2014-01-04 23:00:00</td>\n",
       "      <td>600</td>\n",
       "      <td>Precio mercado SPOT Diario FRA</td>\n",
       "      <td>2.0</td>\n",
       "      <td>Francia</td>\n",
       "      <td>23.085000</td>\n",
       "    </tr>\n",
       "    <tr>\n",
       "      <th>4</th>\n",
       "      <td>1830</td>\n",
       "      <td>2014-01-05 23:00:00</td>\n",
       "      <td>600</td>\n",
       "      <td>Precio mercado SPOT Diario FRA</td>\n",
       "      <td>2.0</td>\n",
       "      <td>Francia</td>\n",
       "      <td>31.290000</td>\n",
       "    </tr>\n",
       "    <tr>\n",
       "      <th>...</th>\n",
       "      <td>...</td>\n",
       "      <td>...</td>\n",
       "      <td>...</td>\n",
       "      <td>...</td>\n",
       "      <td>...</td>\n",
       "      <td>...</td>\n",
       "      <td>...</td>\n",
       "    </tr>\n",
       "    <tr>\n",
       "      <th>3647</th>\n",
       "      <td>14594</td>\n",
       "      <td>2018-12-27 23:00:00</td>\n",
       "      <td>600</td>\n",
       "      <td>NaN</td>\n",
       "      <td>2.0</td>\n",
       "      <td>Francia</td>\n",
       "      <td>60.839167</td>\n",
       "    </tr>\n",
       "    <tr>\n",
       "      <th>3648</th>\n",
       "      <td>14597</td>\n",
       "      <td>2018-12-28 23:00:00</td>\n",
       "      <td>600</td>\n",
       "      <td>NaN</td>\n",
       "      <td>2.0</td>\n",
       "      <td>Francia</td>\n",
       "      <td>53.448333</td>\n",
       "    </tr>\n",
       "    <tr>\n",
       "      <th>3649</th>\n",
       "      <td>14600</td>\n",
       "      <td>2018-12-29 23:00:00</td>\n",
       "      <td>600</td>\n",
       "      <td>NaN</td>\n",
       "      <td>2.0</td>\n",
       "      <td>Francia</td>\n",
       "      <td>47.331250</td>\n",
       "    </tr>\n",
       "    <tr>\n",
       "      <th>3650</th>\n",
       "      <td>14603</td>\n",
       "      <td>2018-12-30 23:00:00</td>\n",
       "      <td>600</td>\n",
       "      <td>NaN</td>\n",
       "      <td>2.0</td>\n",
       "      <td>Francia</td>\n",
       "      <td>55.321667</td>\n",
       "    </tr>\n",
       "    <tr>\n",
       "      <th>3651</th>\n",
       "      <td>14606</td>\n",
       "      <td>2018-12-31 23:00:00</td>\n",
       "      <td>600</td>\n",
       "      <td>NaN</td>\n",
       "      <td>2.0</td>\n",
       "      <td>Francia</td>\n",
       "      <td>41.242500</td>\n",
       "    </tr>\n",
       "  </tbody>\n",
       "</table>\n",
       "<p>3652 rows × 7 columns</p>\n",
       "</div>"
      ],
      "text/plain": [
       "      index            datetime   id                            name  geoid  \\\n",
       "0      1826 2014-01-01 23:00:00  600  Precio mercado SPOT Diario FRA    2.0   \n",
       "1      1827 2014-01-02 23:00:00  600  Precio mercado SPOT Diario FRA    2.0   \n",
       "2      1828 2014-01-03 23:00:00  600  Precio mercado SPOT Diario FRA    2.0   \n",
       "3      1829 2014-01-04 23:00:00  600  Precio mercado SPOT Diario FRA    2.0   \n",
       "4      1830 2014-01-05 23:00:00  600  Precio mercado SPOT Diario FRA    2.0   \n",
       "...     ...                 ...  ...                             ...    ...   \n",
       "3647  14594 2018-12-27 23:00:00  600                             NaN    2.0   \n",
       "3648  14597 2018-12-28 23:00:00  600                             NaN    2.0   \n",
       "3649  14600 2018-12-29 23:00:00  600                             NaN    2.0   \n",
       "3650  14603 2018-12-30 23:00:00  600                             NaN    2.0   \n",
       "3651  14606 2018-12-31 23:00:00  600                             NaN    2.0   \n",
       "\n",
       "      geoname      value  \n",
       "0     Francia  28.711250  \n",
       "1     Francia  28.397500  \n",
       "2     Francia  12.997500  \n",
       "3     Francia  23.085000  \n",
       "4     Francia  31.290000  \n",
       "...       ...        ...  \n",
       "3647  Francia  60.839167  \n",
       "3648  Francia  53.448333  \n",
       "3649  Francia  47.331250  \n",
       "3650  Francia  55.321667  \n",
       "3651  Francia  41.242500  \n",
       "\n",
       "[3652 rows x 7 columns]"
      ]
     },
     "execution_count": 222,
     "metadata": {},
     "output_type": "execute_result"
    }
   ],
   "source": [
    "fr_2018 = veriler.loc[fransa_filtresi].reset_index()\n",
    "fr_2018"
   ]
  },
  {
   "cell_type": "code",
   "execution_count": 223,
   "metadata": {},
   "outputs": [
    {
     "data": {
      "text/html": [
       "<div>\n",
       "<style scoped>\n",
       "    .dataframe tbody tr th:only-of-type {\n",
       "        vertical-align: middle;\n",
       "    }\n",
       "\n",
       "    .dataframe tbody tr th {\n",
       "        vertical-align: top;\n",
       "    }\n",
       "\n",
       "    .dataframe thead th {\n",
       "        text-align: right;\n",
       "    }\n",
       "</style>\n",
       "<table border=\"1\" class=\"dataframe\">\n",
       "  <thead>\n",
       "    <tr style=\"text-align: right;\">\n",
       "      <th></th>\n",
       "      <th>index</th>\n",
       "      <th>datetime</th>\n",
       "      <th>id</th>\n",
       "      <th>name</th>\n",
       "      <th>geoid</th>\n",
       "      <th>geoname</th>\n",
       "      <th>value</th>\n",
       "    </tr>\n",
       "  </thead>\n",
       "  <tbody>\n",
       "    <tr>\n",
       "      <th>0</th>\n",
       "      <td>1826</td>\n",
       "      <td>2014-01-01 23:00:00</td>\n",
       "      <td>600</td>\n",
       "      <td>Precio mercado SPOT Diario FRA</td>\n",
       "      <td>2.0</td>\n",
       "      <td>Francia</td>\n",
       "      <td>28.711250</td>\n",
       "    </tr>\n",
       "    <tr>\n",
       "      <th>1826</th>\n",
       "      <td>9131</td>\n",
       "      <td>2014-01-01 23:00:00</td>\n",
       "      <td>600</td>\n",
       "      <td>NaN</td>\n",
       "      <td>2.0</td>\n",
       "      <td>Francia</td>\n",
       "      <td>28.711250</td>\n",
       "    </tr>\n",
       "    <tr>\n",
       "      <th>1</th>\n",
       "      <td>1827</td>\n",
       "      <td>2014-01-02 23:00:00</td>\n",
       "      <td>600</td>\n",
       "      <td>Precio mercado SPOT Diario FRA</td>\n",
       "      <td>2.0</td>\n",
       "      <td>Francia</td>\n",
       "      <td>28.397500</td>\n",
       "    </tr>\n",
       "    <tr>\n",
       "      <th>1827</th>\n",
       "      <td>9134</td>\n",
       "      <td>2014-01-02 23:00:00</td>\n",
       "      <td>600</td>\n",
       "      <td>NaN</td>\n",
       "      <td>2.0</td>\n",
       "      <td>Francia</td>\n",
       "      <td>28.397500</td>\n",
       "    </tr>\n",
       "    <tr>\n",
       "      <th>2</th>\n",
       "      <td>1828</td>\n",
       "      <td>2014-01-03 23:00:00</td>\n",
       "      <td>600</td>\n",
       "      <td>Precio mercado SPOT Diario FRA</td>\n",
       "      <td>2.0</td>\n",
       "      <td>Francia</td>\n",
       "      <td>12.997500</td>\n",
       "    </tr>\n",
       "    <tr>\n",
       "      <th>...</th>\n",
       "      <td>...</td>\n",
       "      <td>...</td>\n",
       "      <td>...</td>\n",
       "      <td>...</td>\n",
       "      <td>...</td>\n",
       "      <td>...</td>\n",
       "      <td>...</td>\n",
       "    </tr>\n",
       "    <tr>\n",
       "      <th>1823</th>\n",
       "      <td>3649</td>\n",
       "      <td>2018-12-29 23:00:00</td>\n",
       "      <td>600</td>\n",
       "      <td>Precio mercado SPOT Diario FRA</td>\n",
       "      <td>2.0</td>\n",
       "      <td>Francia</td>\n",
       "      <td>47.331250</td>\n",
       "    </tr>\n",
       "    <tr>\n",
       "      <th>3650</th>\n",
       "      <td>14603</td>\n",
       "      <td>2018-12-30 23:00:00</td>\n",
       "      <td>600</td>\n",
       "      <td>NaN</td>\n",
       "      <td>2.0</td>\n",
       "      <td>Francia</td>\n",
       "      <td>55.321667</td>\n",
       "    </tr>\n",
       "    <tr>\n",
       "      <th>1824</th>\n",
       "      <td>3650</td>\n",
       "      <td>2018-12-30 23:00:00</td>\n",
       "      <td>600</td>\n",
       "      <td>Precio mercado SPOT Diario FRA</td>\n",
       "      <td>2.0</td>\n",
       "      <td>Francia</td>\n",
       "      <td>55.321667</td>\n",
       "    </tr>\n",
       "    <tr>\n",
       "      <th>1825</th>\n",
       "      <td>3651</td>\n",
       "      <td>2018-12-31 23:00:00</td>\n",
       "      <td>600</td>\n",
       "      <td>Precio mercado SPOT Diario FRA</td>\n",
       "      <td>2.0</td>\n",
       "      <td>Francia</td>\n",
       "      <td>41.242500</td>\n",
       "    </tr>\n",
       "    <tr>\n",
       "      <th>3651</th>\n",
       "      <td>14606</td>\n",
       "      <td>2018-12-31 23:00:00</td>\n",
       "      <td>600</td>\n",
       "      <td>NaN</td>\n",
       "      <td>2.0</td>\n",
       "      <td>Francia</td>\n",
       "      <td>41.242500</td>\n",
       "    </tr>\n",
       "  </tbody>\n",
       "</table>\n",
       "<p>3652 rows × 7 columns</p>\n",
       "</div>"
      ],
      "text/plain": [
       "      index            datetime   id                            name  geoid  \\\n",
       "0      1826 2014-01-01 23:00:00  600  Precio mercado SPOT Diario FRA    2.0   \n",
       "1826   9131 2014-01-01 23:00:00  600                             NaN    2.0   \n",
       "1      1827 2014-01-02 23:00:00  600  Precio mercado SPOT Diario FRA    2.0   \n",
       "1827   9134 2014-01-02 23:00:00  600                             NaN    2.0   \n",
       "2      1828 2014-01-03 23:00:00  600  Precio mercado SPOT Diario FRA    2.0   \n",
       "...     ...                 ...  ...                             ...    ...   \n",
       "1823   3649 2018-12-29 23:00:00  600  Precio mercado SPOT Diario FRA    2.0   \n",
       "3650  14603 2018-12-30 23:00:00  600                             NaN    2.0   \n",
       "1824   3650 2018-12-30 23:00:00  600  Precio mercado SPOT Diario FRA    2.0   \n",
       "1825   3651 2018-12-31 23:00:00  600  Precio mercado SPOT Diario FRA    2.0   \n",
       "3651  14606 2018-12-31 23:00:00  600                             NaN    2.0   \n",
       "\n",
       "      geoname      value  \n",
       "0     Francia  28.711250  \n",
       "1826  Francia  28.711250  \n",
       "1     Francia  28.397500  \n",
       "1827  Francia  28.397500  \n",
       "2     Francia  12.997500  \n",
       "...       ...        ...  \n",
       "1823  Francia  47.331250  \n",
       "3650  Francia  55.321667  \n",
       "1824  Francia  55.321667  \n",
       "1825  Francia  41.242500  \n",
       "3651  Francia  41.242500  \n",
       "\n",
       "[3652 rows x 7 columns]"
      ]
     },
     "execution_count": 223,
     "metadata": {},
     "output_type": "execute_result"
    }
   ],
   "source": [
    "fr_2018.sort_values(\"datetime\", inplace=True)\n",
    "fr_2018"
   ]
  },
  {
   "cell_type": "code",
   "execution_count": 228,
   "metadata": {},
   "outputs": [
    {
     "name": "stdout",
     "output_type": "stream",
     "text": [
      "[[735234]\n",
      " [735234]\n",
      " [735235]\n",
      " ...\n",
      " [737058]\n",
      " [737059]\n",
      " [737059]]\n"
     ]
    }
   ],
   "source": [
    "\n",
    "import datetime as dt\n",
    "\n",
    "tarihler_18_ordinal = np.array(fr_2018[\"datetime\"].map(dt.datetime.toordinal)).reshape(-1, 1)\n",
    "print(tarihler_18_ordinal)"
   ]
  },
  {
   "cell_type": "code",
   "execution_count": 229,
   "metadata": {},
   "outputs": [],
   "source": [
    "#dt.datetime.toordinal(\"2020-4-18\") #-> 123456456"
   ]
  },
  {
   "cell_type": "code",
   "execution_count": 230,
   "metadata": {},
   "outputs": [],
   "source": [
    "fr_2018_tüketim = np.array(fr_2018[\"value\"]).reshape(-1, 1)"
   ]
  },
  {
   "cell_type": "code",
   "execution_count": 240,
   "metadata": {},
   "outputs": [
    {
     "data": {
      "text/plain": [
       "LinearRegression()"
      ]
     },
     "execution_count": 240,
     "metadata": {},
     "output_type": "execute_result"
    }
   ],
   "source": [
    "modelim = linear_model.LinearRegression()\n",
    "modelim.fit(tarihler_18_ordinal, fr_2018_tüketim)"
   ]
  },
  {
   "cell_type": "code",
   "execution_count": 241,
   "metadata": {},
   "outputs": [
    {
     "data": {
      "text/plain": [
       "array([[30.69789206],\n",
       "       [30.69789206],\n",
       "       [30.70919857],\n",
       "       ...,\n",
       "       [51.32096018],\n",
       "       [51.33226668],\n",
       "       [51.33226668]])"
      ]
     },
     "execution_count": 241,
     "metadata": {},
     "output_type": "execute_result"
    }
   ],
   "source": [
    "modelim.predict(tarihler_18_ordinal)"
   ]
  },
  {
   "cell_type": "code",
   "execution_count": 242,
   "metadata": {},
   "outputs": [
    {
     "data": {
      "text/plain": [
       "array([[735599],\n",
       "       [735599],\n",
       "       [735600],\n",
       "       ...,\n",
       "       [737423],\n",
       "       [737424],\n",
       "       [737424]])"
      ]
     },
     "execution_count": 242,
     "metadata": {},
     "output_type": "execute_result"
    }
   ],
   "source": [
    "tarihler_19_ordinal = tarihler_18_ordinal + 365\n",
    "tarihler_19_ordinal"
   ]
  },
  {
   "cell_type": "code",
   "execution_count": 239,
   "metadata": {},
   "outputs": [
    {
     "ename": "ValueError",
     "evalue": "matmul: Input operand 1 has a mismatch in its core dimension 0, with gufunc signature (n?,k),(k,m?)->(n?,m?) (size 3 is different from 1)",
     "output_type": "error",
     "traceback": [
      "\u001b[0;31m---------------------------------------------------------------------------\u001b[0m",
      "\u001b[0;31mValueError\u001b[0m                                Traceback (most recent call last)",
      "\u001b[0;32m<ipython-input-239-09edad080660>\u001b[0m in \u001b[0;36m<module>\u001b[0;34m\u001b[0m\n\u001b[0;32m----> 1\u001b[0;31m \u001b[0mtahminler_2019\u001b[0m \u001b[0;34m=\u001b[0m \u001b[0mmodelim\u001b[0m\u001b[0;34m.\u001b[0m\u001b[0mpredict\u001b[0m\u001b[0;34m(\u001b[0m\u001b[0mtarihler_19_ordinal\u001b[0m\u001b[0;34m)\u001b[0m\u001b[0;34m\u001b[0m\u001b[0m\n\u001b[0m",
      "\u001b[0;32m/Library/Frameworks/Python.framework/Versions/3.6/lib/python3.6/site-packages/sklearn/linear_model/_base.py\u001b[0m in \u001b[0;36mpredict\u001b[0;34m(self, X)\u001b[0m\n\u001b[1;32m    234\u001b[0m             \u001b[0mReturns\u001b[0m \u001b[0mpredicted\u001b[0m \u001b[0mvalues\u001b[0m\u001b[0;34m.\u001b[0m\u001b[0;34m\u001b[0m\u001b[0m\n\u001b[1;32m    235\u001b[0m         \"\"\"\n\u001b[0;32m--> 236\u001b[0;31m         \u001b[0;32mreturn\u001b[0m \u001b[0mself\u001b[0m\u001b[0;34m.\u001b[0m\u001b[0m_decision_function\u001b[0m\u001b[0;34m(\u001b[0m\u001b[0mX\u001b[0m\u001b[0;34m)\u001b[0m\u001b[0;34m\u001b[0m\u001b[0m\n\u001b[0m\u001b[1;32m    237\u001b[0m \u001b[0;34m\u001b[0m\u001b[0m\n\u001b[1;32m    238\u001b[0m     \u001b[0m_preprocess_data\u001b[0m \u001b[0;34m=\u001b[0m \u001b[0mstaticmethod\u001b[0m\u001b[0;34m(\u001b[0m\u001b[0m_preprocess_data\u001b[0m\u001b[0;34m)\u001b[0m\u001b[0;34m\u001b[0m\u001b[0m\n",
      "\u001b[0;32m/Library/Frameworks/Python.framework/Versions/3.6/lib/python3.6/site-packages/sklearn/linear_model/_base.py\u001b[0m in \u001b[0;36m_decision_function\u001b[0;34m(self, X)\u001b[0m\n\u001b[1;32m    218\u001b[0m         \u001b[0mX\u001b[0m \u001b[0;34m=\u001b[0m \u001b[0mcheck_array\u001b[0m\u001b[0;34m(\u001b[0m\u001b[0mX\u001b[0m\u001b[0;34m,\u001b[0m \u001b[0maccept_sparse\u001b[0m\u001b[0;34m=\u001b[0m\u001b[0;34m[\u001b[0m\u001b[0;34m'csr'\u001b[0m\u001b[0;34m,\u001b[0m \u001b[0;34m'csc'\u001b[0m\u001b[0;34m,\u001b[0m \u001b[0;34m'coo'\u001b[0m\u001b[0;34m]\u001b[0m\u001b[0;34m)\u001b[0m\u001b[0;34m\u001b[0m\u001b[0m\n\u001b[1;32m    219\u001b[0m         return safe_sparse_dot(X, self.coef_.T,\n\u001b[0;32m--> 220\u001b[0;31m                                dense_output=True) + self.intercept_\n\u001b[0m\u001b[1;32m    221\u001b[0m \u001b[0;34m\u001b[0m\u001b[0m\n\u001b[1;32m    222\u001b[0m     \u001b[0;32mdef\u001b[0m \u001b[0mpredict\u001b[0m\u001b[0;34m(\u001b[0m\u001b[0mself\u001b[0m\u001b[0;34m,\u001b[0m \u001b[0mX\u001b[0m\u001b[0;34m)\u001b[0m\u001b[0;34m:\u001b[0m\u001b[0;34m\u001b[0m\u001b[0m\n",
      "\u001b[0;32m/Library/Frameworks/Python.framework/Versions/3.6/lib/python3.6/site-packages/sklearn/utils/validation.py\u001b[0m in \u001b[0;36minner_f\u001b[0;34m(*args, **kwargs)\u001b[0m\n\u001b[1;32m     70\u001b[0m                           FutureWarning)\n\u001b[1;32m     71\u001b[0m         \u001b[0mkwargs\u001b[0m\u001b[0;34m.\u001b[0m\u001b[0mupdate\u001b[0m\u001b[0;34m(\u001b[0m\u001b[0;34m{\u001b[0m\u001b[0mk\u001b[0m\u001b[0;34m:\u001b[0m \u001b[0marg\u001b[0m \u001b[0;32mfor\u001b[0m \u001b[0mk\u001b[0m\u001b[0;34m,\u001b[0m \u001b[0marg\u001b[0m \u001b[0;32min\u001b[0m \u001b[0mzip\u001b[0m\u001b[0;34m(\u001b[0m\u001b[0msig\u001b[0m\u001b[0;34m.\u001b[0m\u001b[0mparameters\u001b[0m\u001b[0;34m,\u001b[0m \u001b[0margs\u001b[0m\u001b[0;34m)\u001b[0m\u001b[0;34m}\u001b[0m\u001b[0;34m)\u001b[0m\u001b[0;34m\u001b[0m\u001b[0m\n\u001b[0;32m---> 72\u001b[0;31m         \u001b[0;32mreturn\u001b[0m \u001b[0mf\u001b[0m\u001b[0;34m(\u001b[0m\u001b[0;34m**\u001b[0m\u001b[0mkwargs\u001b[0m\u001b[0;34m)\u001b[0m\u001b[0;34m\u001b[0m\u001b[0m\n\u001b[0m\u001b[1;32m     73\u001b[0m     \u001b[0;32mreturn\u001b[0m \u001b[0minner_f\u001b[0m\u001b[0;34m\u001b[0m\u001b[0m\n\u001b[1;32m     74\u001b[0m \u001b[0;34m\u001b[0m\u001b[0m\n",
      "\u001b[0;32m/Library/Frameworks/Python.framework/Versions/3.6/lib/python3.6/site-packages/sklearn/utils/extmath.py\u001b[0m in \u001b[0;36msafe_sparse_dot\u001b[0;34m(a, b, dense_output)\u001b[0m\n\u001b[1;32m    151\u001b[0m             \u001b[0mret\u001b[0m \u001b[0;34m=\u001b[0m \u001b[0mnp\u001b[0m\u001b[0;34m.\u001b[0m\u001b[0mdot\u001b[0m\u001b[0;34m(\u001b[0m\u001b[0ma\u001b[0m\u001b[0;34m,\u001b[0m \u001b[0mb\u001b[0m\u001b[0;34m)\u001b[0m\u001b[0;34m\u001b[0m\u001b[0m\n\u001b[1;32m    152\u001b[0m     \u001b[0;32melse\u001b[0m\u001b[0;34m:\u001b[0m\u001b[0;34m\u001b[0m\u001b[0m\n\u001b[0;32m--> 153\u001b[0;31m         \u001b[0mret\u001b[0m \u001b[0;34m=\u001b[0m \u001b[0ma\u001b[0m \u001b[0;34m@\u001b[0m \u001b[0mb\u001b[0m\u001b[0;34m\u001b[0m\u001b[0m\n\u001b[0m\u001b[1;32m    154\u001b[0m \u001b[0;34m\u001b[0m\u001b[0m\n\u001b[1;32m    155\u001b[0m     if (sparse.issparse(a) and sparse.issparse(b)\n",
      "\u001b[0;31mValueError\u001b[0m: matmul: Input operand 1 has a mismatch in its core dimension 0, with gufunc signature (n?,k),(k,m?)->(n?,m?) (size 3 is different from 1)"
     ]
    }
   ],
   "source": [
    "tahminler_2019 = modelim.predict(tarihler_19_ordinal)"
   ]
  },
  {
   "cell_type": "code",
   "execution_count": 233,
   "metadata": {},
   "outputs": [
    {
     "data": {
      "text/html": [
       "<div>\n",
       "<style scoped>\n",
       "    .dataframe tbody tr th:only-of-type {\n",
       "        vertical-align: middle;\n",
       "    }\n",
       "\n",
       "    .dataframe tbody tr th {\n",
       "        vertical-align: top;\n",
       "    }\n",
       "\n",
       "    .dataframe thead th {\n",
       "        text-align: right;\n",
       "    }\n",
       "</style>\n",
       "<table border=\"1\" class=\"dataframe\">\n",
       "  <thead>\n",
       "    <tr style=\"text-align: right;\">\n",
       "      <th></th>\n",
       "      <th>index</th>\n",
       "      <th>datetime</th>\n",
       "      <th>id</th>\n",
       "      <th>name</th>\n",
       "      <th>geoid</th>\n",
       "      <th>geoname</th>\n",
       "      <th>value</th>\n",
       "    </tr>\n",
       "  </thead>\n",
       "  <tbody>\n",
       "    <tr>\n",
       "      <th>0</th>\n",
       "      <td>1826</td>\n",
       "      <td>2014-01-01 23:00:00</td>\n",
       "      <td>600</td>\n",
       "      <td>Precio mercado SPOT Diario FRA</td>\n",
       "      <td>2.0</td>\n",
       "      <td>Francia</td>\n",
       "      <td>28.711250</td>\n",
       "    </tr>\n",
       "    <tr>\n",
       "      <th>1826</th>\n",
       "      <td>9131</td>\n",
       "      <td>2014-01-01 23:00:00</td>\n",
       "      <td>600</td>\n",
       "      <td>NaN</td>\n",
       "      <td>2.0</td>\n",
       "      <td>Francia</td>\n",
       "      <td>28.711250</td>\n",
       "    </tr>\n",
       "    <tr>\n",
       "      <th>1</th>\n",
       "      <td>1827</td>\n",
       "      <td>2014-01-02 23:00:00</td>\n",
       "      <td>600</td>\n",
       "      <td>Precio mercado SPOT Diario FRA</td>\n",
       "      <td>2.0</td>\n",
       "      <td>Francia</td>\n",
       "      <td>28.397500</td>\n",
       "    </tr>\n",
       "    <tr>\n",
       "      <th>1827</th>\n",
       "      <td>9134</td>\n",
       "      <td>2014-01-02 23:00:00</td>\n",
       "      <td>600</td>\n",
       "      <td>NaN</td>\n",
       "      <td>2.0</td>\n",
       "      <td>Francia</td>\n",
       "      <td>28.397500</td>\n",
       "    </tr>\n",
       "    <tr>\n",
       "      <th>2</th>\n",
       "      <td>1828</td>\n",
       "      <td>2014-01-03 23:00:00</td>\n",
       "      <td>600</td>\n",
       "      <td>Precio mercado SPOT Diario FRA</td>\n",
       "      <td>2.0</td>\n",
       "      <td>Francia</td>\n",
       "      <td>12.997500</td>\n",
       "    </tr>\n",
       "    <tr>\n",
       "      <th>...</th>\n",
       "      <td>...</td>\n",
       "      <td>...</td>\n",
       "      <td>...</td>\n",
       "      <td>...</td>\n",
       "      <td>...</td>\n",
       "      <td>...</td>\n",
       "      <td>...</td>\n",
       "    </tr>\n",
       "    <tr>\n",
       "      <th>1823</th>\n",
       "      <td>3649</td>\n",
       "      <td>2018-12-29 23:00:00</td>\n",
       "      <td>600</td>\n",
       "      <td>Precio mercado SPOT Diario FRA</td>\n",
       "      <td>2.0</td>\n",
       "      <td>Francia</td>\n",
       "      <td>47.331250</td>\n",
       "    </tr>\n",
       "    <tr>\n",
       "      <th>3650</th>\n",
       "      <td>14603</td>\n",
       "      <td>2018-12-30 23:00:00</td>\n",
       "      <td>600</td>\n",
       "      <td>NaN</td>\n",
       "      <td>2.0</td>\n",
       "      <td>Francia</td>\n",
       "      <td>55.321667</td>\n",
       "    </tr>\n",
       "    <tr>\n",
       "      <th>1824</th>\n",
       "      <td>3650</td>\n",
       "      <td>2018-12-30 23:00:00</td>\n",
       "      <td>600</td>\n",
       "      <td>Precio mercado SPOT Diario FRA</td>\n",
       "      <td>2.0</td>\n",
       "      <td>Francia</td>\n",
       "      <td>55.321667</td>\n",
       "    </tr>\n",
       "    <tr>\n",
       "      <th>1825</th>\n",
       "      <td>3651</td>\n",
       "      <td>2018-12-31 23:00:00</td>\n",
       "      <td>600</td>\n",
       "      <td>Precio mercado SPOT Diario FRA</td>\n",
       "      <td>2.0</td>\n",
       "      <td>Francia</td>\n",
       "      <td>41.242500</td>\n",
       "    </tr>\n",
       "    <tr>\n",
       "      <th>3651</th>\n",
       "      <td>14606</td>\n",
       "      <td>2018-12-31 23:00:00</td>\n",
       "      <td>600</td>\n",
       "      <td>NaN</td>\n",
       "      <td>2.0</td>\n",
       "      <td>Francia</td>\n",
       "      <td>41.242500</td>\n",
       "    </tr>\n",
       "  </tbody>\n",
       "</table>\n",
       "<p>3652 rows × 7 columns</p>\n",
       "</div>"
      ],
      "text/plain": [
       "      index            datetime   id                            name  geoid  \\\n",
       "0      1826 2014-01-01 23:00:00  600  Precio mercado SPOT Diario FRA    2.0   \n",
       "1826   9131 2014-01-01 23:00:00  600                             NaN    2.0   \n",
       "1      1827 2014-01-02 23:00:00  600  Precio mercado SPOT Diario FRA    2.0   \n",
       "1827   9134 2014-01-02 23:00:00  600                             NaN    2.0   \n",
       "2      1828 2014-01-03 23:00:00  600  Precio mercado SPOT Diario FRA    2.0   \n",
       "...     ...                 ...  ...                             ...    ...   \n",
       "1823   3649 2018-12-29 23:00:00  600  Precio mercado SPOT Diario FRA    2.0   \n",
       "3650  14603 2018-12-30 23:00:00  600                             NaN    2.0   \n",
       "1824   3650 2018-12-30 23:00:00  600  Precio mercado SPOT Diario FRA    2.0   \n",
       "1825   3651 2018-12-31 23:00:00  600  Precio mercado SPOT Diario FRA    2.0   \n",
       "3651  14606 2018-12-31 23:00:00  600                             NaN    2.0   \n",
       "\n",
       "      geoname      value  \n",
       "0     Francia  28.711250  \n",
       "1826  Francia  28.711250  \n",
       "1     Francia  28.397500  \n",
       "1827  Francia  28.397500  \n",
       "2     Francia  12.997500  \n",
       "...       ...        ...  \n",
       "1823  Francia  47.331250  \n",
       "3650  Francia  55.321667  \n",
       "1824  Francia  55.321667  \n",
       "1825  Francia  41.242500  \n",
       "3651  Francia  41.242500  \n",
       "\n",
       "[3652 rows x 7 columns]"
      ]
     },
     "execution_count": 233,
     "metadata": {},
     "output_type": "execute_result"
    }
   ],
   "source": [
    "fr_2018"
   ]
  },
  {
   "cell_type": "code",
   "execution_count": 243,
   "metadata": {},
   "outputs": [],
   "source": [
    "# diğer yöntem\n",
    "tarihler = fr_2018[\"datetime\"]\n",
    "tarihler_2019 = tarihler + pd.offsets.DateOffset(years=1)"
   ]
  },
  {
   "cell_type": "code",
   "execution_count": 244,
   "metadata": {},
   "outputs": [
    {
     "data": {
      "text/plain": [
       "LinearRegression()"
      ]
     },
     "execution_count": 244,
     "metadata": {},
     "output_type": "execute_result"
    }
   ],
   "source": [
    "#  tahminleme\n",
    "dönüştürücü = PolynomialFeatures(degree=2)\n",
    "tarihler_18_ordinal_d = dönüştürücü.fit_transform(tarihler_18_ordinal)\n",
    "\n",
    "modelim.fit(tarihler_18_ordinal_d, fr_2018_tüketim)\n"
   ]
  },
  {
   "cell_type": "code",
   "execution_count": 245,
   "metadata": {},
   "outputs": [
    {
     "data": {
      "text/plain": [
       "array([[1.00000000e+00, 7.35234000e+05, 5.40569035e+11],\n",
       "       [1.00000000e+00, 7.35234000e+05, 5.40569035e+11],\n",
       "       [1.00000000e+00, 7.35235000e+05, 5.40570505e+11],\n",
       "       ...,\n",
       "       [1.00000000e+00, 7.37058000e+05, 5.43254495e+11],\n",
       "       [1.00000000e+00, 7.37059000e+05, 5.43255969e+11],\n",
       "       [1.00000000e+00, 7.37059000e+05, 5.43255969e+11]])"
      ]
     },
     "execution_count": 245,
     "metadata": {},
     "output_type": "execute_result"
    }
   ],
   "source": [
    "tarihler_18_ordinal_d"
   ]
  },
  {
   "cell_type": "code",
   "execution_count": 246,
   "metadata": {},
   "outputs": [
    {
     "name": "stdout",
     "output_type": "stream",
     "text": [
      "(3652, 1)\n"
     ]
    }
   ],
   "source": [
    "# tahmin\n",
    "tah_18_eğrisel = modelim.predict(tarihler_18_ordinal_d)\n",
    "\n",
    "tarihler_2019 = np.array(tarihler_2019).reshape(-1,1)\n",
    "print(tarihler_2019.shape)"
   ]
  },
  {
   "cell_type": "code",
   "execution_count": 247,
   "metadata": {},
   "outputs": [],
   "source": [
    "tarihler_19_ordinal_d = dönüştürücü.fit_transform(tarihler_19_ordinal)\n",
    "\n",
    "# polinomal dönüşümden geçmiş featurelar\n",
    "tah_19_eğrisel = modelim.predict(tarihler_19_ordinal_d)\n",
    "\n",
    "tarihler_2020 = tarihler + pd.offsets.DateOffset(years=2)\n",
    "tarihler_20_ordinal = tarihler_19_ordinal + 365\n",
    "tarihler_20_ordinal_d = dönüştürücü.fit_transform(tarihler_20_ordinal)\n",
    "tah_20_eğrisel = modelim.predict(tarihler_20_ordinal_d)\n",
    "\n"
   ]
  },
  {
   "cell_type": "code",
   "execution_count": 250,
   "metadata": {},
   "outputs": [
    {
     "data": {
      "image/png": "[encoded data removed]",
      "text/plain": [
       "<Figure size 1152x864 with 1 Axes>"
      ]
     },
     "metadata": {
      "needs_background": "light"
     },
     "output_type": "display_data"
    }
   ],
   "source": [
    "plt.figure(figsize=(16,12))\n",
    "plt.plot(tarihler, fr_2018_tüketim, label=\"a\")\n",
    "plt.plot(tarihler, tah_18_eğrisel, label=\"b\")\n",
    "plt.plot(tarihler_2019, tah_19_eğrisel, label=\"c\")\n",
    "plt.plot(tarihler_2020, tah_20_eğrisel, label=\"d\")\n",
    "plt.legend()\n",
    "plt.show()"
   ]
  },
  {
   "cell_type": "code",
   "execution_count": 251,
   "metadata": {},
   "outputs": [
    {
     "data": {
      "text/plain": [
       "LinearRegression()"
      ]
     },
     "execution_count": 251,
     "metadata": {},
     "output_type": "execute_result"
    }
   ],
   "source": [
    "# 3. derece\n",
    "dönüştürücü = PolynomialFeatures(degree=3)\n",
    "tarihler_18_ordinal_d = dönüştürücü.fit_transform(tarihler_18_ordinal)\n",
    "\n",
    "modelim.fit(tarihler_18_ordinal_d, fr_2018_tüketim)"
   ]
  },
  {
   "cell_type": "code",
   "execution_count": 252,
   "metadata": {},
   "outputs": [
    {
     "name": "stdout",
     "output_type": "stream",
     "text": [
      "(3652, 1)\n"
     ]
    }
   ],
   "source": [
    "tah_18_eğrisel = modelim.predict(tarihler_18_ordinal_d)\n",
    "\n",
    "tarihler_2019 = np.array(tarihler_2019).reshape(-1,1)\n",
    "print(tarihler_2019.shape)"
   ]
  },
  {
   "cell_type": "code",
   "execution_count": 253,
   "metadata": {},
   "outputs": [],
   "source": [
    "tarihler_19_ordinal_d = dönüştürücü.fit_transform(tarihler_19_ordinal)\n",
    "\n",
    "# polinomal dönüşümden geçmiş featurelar\n",
    "tah_19_eğrisel = modelim.predict(tarihler_19_ordinal_d)\n",
    "\n",
    "tarihler_2020 = tarihler + pd.offsets.DateOffset(years=2)\n",
    "tarihler_20_ordinal = tarihler_19_ordinal + 365\n",
    "tarihler_20_ordinal_d = dönüştürücü.fit_transform(tarihler_20_ordinal)\n",
    "tah_20_eğrisel = modelim.predict(tarihler_20_ordinal_d)"
   ]
  },
  {
   "cell_type": "code",
   "execution_count": 254,
   "metadata": {},
   "outputs": [
    {
     "data": {
      "image/png": "[encoded data removed]",
      "text/plain": [
       "<Figure size 432x288 with 1 Axes>"
      ]
     },
     "metadata": {
      "needs_background": "light"
     },
     "output_type": "display_data"
    }
   ],
   "source": [
    "plt.plot(tarihler, fr_2018_tüketim, label=\"a\")\n",
    "plt.plot(tarihler, tah_18_eğrisel, label=\"b\")\n",
    "plt.plot(tarihler_2019, tah_19_eğrisel, label=\"c\")\n",
    "plt.plot(tarihler_2020, tah_20_eğrisel, label=\"d\")\n",
    "plt.legend()\n",
    "plt.show()"
   ]
  },
  {
   "cell_type": "code",
   "execution_count": 255,
   "metadata": {},
   "outputs": [
    {
     "name": "stderr",
     "output_type": "stream",
     "text": [
      "/Library/Frameworks/Python.framework/Versions/3.6/lib/python3.6/site-packages/sklearn/utils/validation.py:72: DataConversionWarning: A column-vector y was passed when a 1d array was expected. Please change the shape of y to (n_samples, ), for example using ravel().\n",
      "  return f(**kwargs)\n"
     ]
    },
    {
     "data": {
      "image/png": "[encoded data removed]",
      "text/plain": [
       "<Figure size 432x288 with 1 Axes>"
      ]
     },
     "metadata": {
      "needs_background": "light"
     },
     "output_type": "display_data"
    }
   ],
   "source": [
    "# farklı algoritma\n",
    "from sklearn.svm import SVR \n",
    "\n",
    "tahminleyici_svr_2 = SVR(kernel='rbf', C=50)\n",
    "tahminleyici_svr_2.fit(tarihler_18_ordinal, fr_2018_tüketim)\n",
    "tahminler_18 = tahminleyici_svr_2.predict(tarihler_18_ordinal)\n",
    "tahminler_19 = tahminleyici_svr_2.predict(tarihler_19_ordinal)\n",
    "\n",
    "#tahminler_20 = tahminleyici_svr_2.predict(tarihler_20_ordinal)\n",
    "\n",
    "plt.plot(tarihler, fr_2018_tüketim)\n",
    "plt.plot(tarihler, tahminler_18)\n",
    "plt.plot(tarihler_2019, tahminler_19)\n",
    "#plt.plot(tarihler_2020, tahminler_20)\n",
    "plt.xlabel(\"tarihler\")\n",
    "plt.ylabel(\"tüketim\")\n",
    "plt.title(\"SVR kernel=rbf\")\n",
    "\n",
    "plt.show()"
   ]
  },
  {
   "cell_type": "code",
   "execution_count": null,
   "metadata": {},
   "outputs": [],
   "source": []
  }
 ],
 "metadata": {
  "kernelspec": {
   "display_name": "Python 3",
   "language": "python",
   "name": "python3"
  },
  "language_info": {
   "codemirror_mode": {
    "name": "ipython",
    "version": 3
   },
   "file_extension": ".py",
   "mimetype": "text/x-python",
   "name": "python",
   "nbconvert_exporter": "python",
   "pygments_lexer": "ipython3",
   "version": "3.6.3"
  }
 },
 "nbformat": 4,
 "nbformat_minor": 4
}
